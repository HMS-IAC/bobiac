{
 "cells": [
  {
   "cell_type": "markdown",
   "id": "16a60488",
   "metadata": {},
   "source": [
    "# Background Correction Notebook\n",
    "\n",
    "<div class=\"custom-button-row\">\n",
    "    <a \n",
    "        class=\"custom-button custom-download-button\" href=\"../../notebooks/07_measurement_and_quantification/background_correction_notebook.ipynb\" download>\n",
    "        <i class=\"fas fa-download\"></i> Download this Notebook\n",
    "    </a>\n",
    "    <a\n",
    "    class=\"custom-button custom-download-button\" href=\"https://colab.research.google.com/github/HMS-IAC/bobiac/blob/gh-pages/colab_notebooks/07_measurement_and_quantification/background_correction_notebook.ipynb\" target=\"_blank\">\n",
    "        <img class=\"button-icon\" src=\"../../_static/logo/icon-google-colab.svg\" alt=\"Open in Colab\">\n",
    "        Open in Colab\n",
    "    </a>\n",
    "</div>"
   ]
  },
  {
   "cell_type": "code",
   "execution_count": null,
   "id": "9f33553a",
   "metadata": {},
   "outputs": [],
   "source": [
    "# /// script\n",
    "# requires-python = \">=3.10\"\n",
    "# dependencies = [\n",
    "#     \"matplotlib\",\n",
    "#     \"numpy\",\n",
    "#     \"scikit-image\",\n",
    "#     \"scipy\",\n",
    "#     \"tifffile\",\n",
    "#     \"imagecodecs\",\n",
    "#     \"pooch\",\n",
    "# ]\n",
    "# ///"
   ]
  },
  {
   "cell_type": "markdown",
   "id": "c9dce539",
   "metadata": {},
   "source": [
    " ## Overview\n",
    "\n",
    " In this notebook, we will explore different approaches to **background correction** in fluorescence microscopy images. Background correction is a crucial pre-processing step that helps remove unwanted background signal and improves the quality of quantitative analysis. We will use the [**scikit-image**](https://scikit-image.org/docs/stable/) library to perform the background correction. Background substraction is useful when the background is uniform and the signal to noise ratio is high.\n",
    "\n",
    " We will demonstrate a simple background subtraction method using a sample fluorescence image. The main approaches we'll cover are:\n",
    "\n",
    " - Subtracting a constant background value (e.g. mode or median of the image)\n",
    " - Selecting and averaging background regions to determine background level\n",
    "\n",
    " The choice of method depends on your specific imaging conditions and the nature of the background in your images. Here we'll demonstrate a basic approach that works well for images with relatively uniform background and distinct fluorescent signals.\n",
    "\n",
    " <p class=\"alert alert-info\">\n",
    "     <strong>Note:</strong> Background correction should be done on raw images before any other processing steps. The corrected images can then be used for further analysis like segmentation and quantification.\n",
    " </p>"
   ]
  },
  {
   "cell_type": "markdown",
   "id": "efecac1b",
   "metadata": {},
   "source": [
    "## Importing libraries"
   ]
  },
  {
   "cell_type": "code",
   "execution_count": null,
   "id": "eba1c2bf",
   "metadata": {},
   "outputs": [],
   "source": [
    "from pathlib import Path\n",
    "\n",
    "import matplotlib.pyplot as plt\n",
    "import numpy as np\n",
    "import skimage\n",
    "import scipy\n",
    "import pooch"
   ]
  },
  {
   "cell_type": "markdown",
   "id": "8c36ee78",
   "metadata": {},
   "source": [
    "## Load and Display Images\n",
    "\n",
    "Let's load and display with `matplotlib` our raw and segmented images (labeled images):"
   ]
  },
  {
   "cell_type": "code",
   "execution_count": null,
   "id": "b15254b8",
   "metadata": {},
   "outputs": [],
   "source": [
    "# raw image and labeled mask\n",
    "image = skimage.io.imread(\"../../_static/images/quant/WF_drosophila_100x_140_w1Widefield FITC0063.tif\")\n",
    "\n",
    "# Display results\n",
    "plt.figure(figsize=(8, 4))\n",
    "plt.imshow(image, cmap=\"gray\")\n",
    "plt.title(\"Original\")\n",
    "plt.axis(\"off\")\n",
    "plt.tight_layout()\n",
    "plt.show()\n",
    "\n",
    "print(f\"Image min: {image.min():.3f}, max: {image.max():.3f}, mean: {image.mean():.3f}\")"
   ]
  },
  {
   "cell_type": "markdown",
   "id": "ab9d4825",
   "metadata": {},
   "source": [
    "## Background substraction: mode substraction \n",
    "\n",
    "Background substraction can be done in different ways. If the background dominates the image (e.g. dark field microscopy), the most common pixel value (the mode) can serve as a rough background estimate. We'll subtract this value from the image. \n",
    "\n",
    "First, we compute the mode of the image:"
   ]
  },
  {
   "cell_type": "code",
   "execution_count": null,
   "id": "c6681cb2",
   "metadata": {},
   "outputs": [],
   "source": [
    "# Flatten image and get the mode\n",
    "mode_val = scipy.stats.mode(image.ravel(), keepdims=False).mode\n",
    "print(f\"Estimated background (mode): {mode_val:.3f}\")"
   ]
  },
  {
   "cell_type": "markdown",
   "id": "213bee35",
   "metadata": {},
   "source": [
    "Then, we subtract the mode from the image and clip the result to be between 0 and 1:"
   ]
  },
  {
   "cell_type": "code",
   "execution_count": null,
   "id": "09ce4ff0",
   "metadata": {},
   "outputs": [],
   "source": [
    "image_mode_sub = image - mode_val"
   ]
  },
  {
   "cell_type": "markdown",
   "id": "087ffc20",
   "metadata": {},
   "source": [
    "Finally, we can visualize the background-corrected image:"
   ]
  },
  {
   "cell_type": "code",
   "execution_count": null,
   "id": "1811d569",
   "metadata": {},
   "outputs": [],
   "source": [
    "plt.figure(figsize=(10, 8))\n",
    "plt.subplot(121)\n",
    "plt.imshow(image, cmap='gray')\n",
    "plt.title(\"Original\")\n",
    "plt.axis('off')\n",
    "\n",
    "plt.subplot(122)\n",
    "plt.imshow(image_mode_sub, cmap='gray')\n",
    "plt.title(\"Background substracted (mode)\")\n",
    "plt.axis('off')\n",
    "\n",
    "plt.tight_layout()\n",
    "plt.show()"
   ]
  },
  {
   "cell_type": "markdown",
   "id": "c680c68d",
   "metadata": {},
   "source": [
    "## Background substraction: rolling ball algorithm\n",
    "\n",
    "The rolling ball algorithm is a method for background substraction that uses a [rolling ball](https://scikit-image.org/docs/stable/auto_examples/segmentation/plot_rolling_ball.html) to estimate the background. It is a good method for background substraction when the background is not uniform. The radius parameter configures how distant pixels should be taken into account for determining the background intensity. \n",
    "\n",
    "Therefore, we can estimate the background by using the rolling ball algorithm:\n"
   ]
  },
  {
   "cell_type": "code",
   "execution_count": null,
   "id": "96ba13cb",
   "metadata": {},
   "outputs": [],
   "source": [
    "background_residue = skimage.restoration.rolling_ball(image, radius=100)\n",
    "\n",
    "plt.figure(figsize=(8, 4))\n",
    "plt.imshow(background_residue, cmap='gray')\n",
    "plt.title(\"Background (rolling ball)\")\n",
    "plt.axis('off')\n",
    "plt.show()"
   ]
  },
  {
   "cell_type": "markdown",
   "id": "c708e78d",
   "metadata": {},
   "source": [
    "Afterwards, we subtract the background residue from the image:"
   ]
  },
  {
   "cell_type": "code",
   "execution_count": null,
   "id": "994b38b2",
   "metadata": {},
   "outputs": [],
   "source": [
    "\n",
    "image_rb_sub = image - background_residue\n",
    "\n",
    "plt.figure(figsize=(10, 10))\n",
    "\n",
    "plt.subplot(131)\n",
    "plt.imshow(image, cmap='gray')\n",
    "plt.title(\"Original\")\n",
    "plt.axis('off')\n",
    "\n",
    "plt.subplot(132)\n",
    "plt.imshow(background_residue, cmap='gray')\n",
    "plt.title(\"Background (rolling ball)\")\n",
    "plt.axis('off')\n",
    "\n",
    "plt.subplot(133)\n",
    "plt.imshow(image_rb_sub, cmap='gray')\n",
    "plt.title(\"Background substracted (rolling ball)\")\n",
    "plt.axis('off')\n",
    "\n",
    "plt.tight_layout()\n",
    "plt.show()"
   ]
  },
  {
   "cell_type": "markdown",
   "id": "3dd94706",
   "metadata": {},
   "source": [
    "## Background substraction: selected regions\n",
    "\n",
    "Sometimes the background isn't uniform, or the mode isn't representative. In these cases, we can manually choose a region we believe contains only background and estimate the average intensity in that region.\n",
    "\n",
    "First, we select a region of the image that we believe contains only background, and we compute the average intensity in that region:"
   ]
  },
  {
   "cell_type": "code",
   "execution_count": null,
   "id": "f8264f11",
   "metadata": {},
   "outputs": [],
   "source": [
    "# Choose a top-left corner patch assumed to be background\n",
    "bg_patch = image[0:150, 0:150]\n",
    "bg_mean = np.mean(bg_patch)\n",
    "print(f\"Estimated background (mean of selected region): {bg_mean:.3f}\")"
   ]
  },
  {
   "cell_type": "markdown",
   "id": "99a92fec",
   "metadata": {},
   "source": [
    "As we did before, we can substract this value from the image, and clip the result to be between 0 and 1:"
   ]
  },
  {
   "cell_type": "code",
   "execution_count": null,
   "id": "e0dbc758",
   "metadata": {},
   "outputs": [],
   "source": [
    "image_bgmean_sub = image - bg_mean"
   ]
  },
  {
   "cell_type": "markdown",
   "id": "83b33b01",
   "metadata": {},
   "source": [
    "And visualize the result:"
   ]
  },
  {
   "cell_type": "code",
   "execution_count": null,
   "id": "dee5b91f",
   "metadata": {},
   "outputs": [],
   "source": [
    "plt.figure(figsize=(8, 8))\n",
    "plt.subplot(121)\n",
    "plt.imshow(image, cmap='gray')\n",
    "plt.title(\"Original\")\n",
    "plt.axis('off')\n",
    "\n",
    "plt.subplot(122)\n",
    "plt.imshow(image_bgmean_sub, cmap='gray')\n",
    "plt.title(\"Background substracted (regions)\")\n",
    "plt.axis('off')\n",
    "\n",
    "plt.tight_layout()\n",
    "plt.show()"
   ]
  },
  {
   "cell_type": "markdown",
   "id": "e4d66ff6",
   "metadata": {},
   "source": [
    "### ✍️ Exercise: Find a selected region of the image that is representative of the background\n",
    "\n",
    "In this exercise, let's try to:\n",
    "- find a selected region of the image that is representative of the background\n",
    "- compute the mean intensity of the selected region\n",
    "- plot the image and the selected region"
   ]
  },
  {
   "cell_type": "markdown",
   "id": "cd6861f0",
   "metadata": {},
   "source": [
    "In this case, using a selected region to estimate the background does not work well. This could be due to the fact that the background is not uniform, or that the region is not representative of the background; therefore, the rolling ball algorithm proves to be a better choice."
   ]
  },
  {
   "cell_type": "markdown",
   "id": "8278b45d",
   "metadata": {},
   "source": [
    "## Other Background Subtraction Techniques\n",
    "\n",
    "These are more advanced or specialized techniques you can explore:\n",
    "\n",
    "- **Morphological opening**: Removes small foreground objects to approximate the background.\n",
    "- **Gaussian/median filtering**: Smooths out the image to isolate large-scale variations.\n",
    "- **Rolling ball algorithm**: Emulates a ball \"rolling\" under the image to estimate the background.\n",
    "- **Polynomial surface fitting**: Useful when background varies gradually across the field.\n",
    "- **Tiled/local background subtraction**: Estimate and subtract background patch-by-patch.\n",
    "\n",
    "Your method choice should depend on image modality, signal-to-noise, and application.\n",
    "\n",
    "A good reference for background correction is the [scikit-image documentation](https://scikit-image.org/docs/0.25.x/api/skimage.restoration.html).\n"
   ]
  }
 ],
 "metadata": {
  "kernelspec": {
   "display_name": "optiBIA",
   "language": "python",
   "name": "python3"
  },
  "language_info": {
   "codemirror_mode": {
    "name": "ipython",
    "version": 3
   },
   "file_extension": ".py",
   "mimetype": "text/x-python",
   "name": "python",
   "nbconvert_exporter": "python",
   "pygments_lexer": "ipython3",
   "version": "3.8.19"
  }
 },
 "nbformat": 4,
 "nbformat_minor": 5
}
