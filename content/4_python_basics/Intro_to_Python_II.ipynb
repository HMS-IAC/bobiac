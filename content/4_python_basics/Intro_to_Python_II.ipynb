{
 "cells": [
  {
   "cell_type": "markdown",
   "id": "16a60488",
   "metadata": {},
   "source": [
    "# intro to python II\n",
    "\n",
    "<div class=\"custom-button-row\">\n",
    "    <a \n",
    "        class=\"custom-button custom-download-button\" href=\"../../notebooks/4_python_basics/Intro_to_Python_II.ipynb\" download>\n",
    "        <i class=\"fas fa-download\"></i> Download this Notebook\n",
    "    </a>\n",
    "    <a\n",
    "    class=\"custom-button custom-download-button\" href=\"https://colab.research.google.com/github/HMS-IAC/bobiac/blob/gh-pages/colab_notebooks/4_python_basics/Intro_to_Python_II.ipynb\" target=\"_blank\">\n",
    "        <img class=\"button-icon\" src=\"../../_static/logo/icon-google-colab.svg\" alt=\"Open in Colab\">\n",
    "        Open in Colab\n",
    "    </a>\n",
    "</div>"
   ]
  },
  {
   "cell_type": "code",
   "execution_count": 1,
   "id": "9f33553a",
   "metadata": {
    "jupyter": {
     "source_hidden": true
    }
   },
   "outputs": [],
   "source": [
    "# /// script\n",
    "# requires-python = \">=3.10\"\n",
    "# ///\n",
    "\n",
    "# Standard library imports (no need to declare in dependencies)"
   ]
  },
  {
   "cell_type": "markdown",
   "id": "0ab370b9",
   "metadata": {},
   "source": [
    "## Boston Bioimage Analysis Course\n",
    "\n",
    "Welcome to your next step in learning Python!  \n",
    "This notebook is written **like a small interactive book** to complement the lecture.\n",
    "\n",
    "This notebook covers the following **core building blocks**:\n",
    "\n",
    "| Chapter | Concept | Why it matters |\n",
    "|---------|---------|----------------|\n",
    "| 0 | Commenting | Learn how to annotate your code to make it more readable |\n",
    "| 1 | Variables | Store and label information so programs remember things |\n",
    "| 2 | Data Types | Understand the different types of data in Python |\n",
    "| 3 | Operators | Learn how to perform operations on variables & values |\n",
    "| 4 | Data Structures: Lists | Learn how the different way to organize information in Python |\n",
    "| 5 | For Loops | Learn how to automate repetitive tasks with for loops |\n",
    "| 6 | If Statements | Conduct conditional tasks |\n",
    "| 7 | Data Structures: Dictionaries | Learn how the different way to organize information in Python |\n",
    "| 8 | Data Structures: Tuples | Learn how the different way to organize information in Python |\n",
    "| 9 | Functions | Package logic into reusable, testable actions |\n",
    "\n",
    "Each chapter has:\n",
    "\n",
    "1. **Narrative explanation** – read this like a textbook.\n",
    "2. **Live demo** – run and play.\n",
    "3. **Exercise** – _your turn_ & _guess the output!_ ✅ "
   ]
  },
  {
   "cell_type": "markdown",
   "id": "5eaf93b8",
   "metadata": {},
   "source": [
    "## 0. Commenting "
   ]
  },
  {
   "cell_type": "markdown",
   "id": "66cd7d03",
   "metadata": {},
   "source": [
    "**Concept.**  \n",
    "In Python, *comments* can be used to explain Python code in regular language. They can make the code more readable, making it easier for future you and others to interpret your code. Comments can also be used to prevent running lines of code. \n",
    "\n",
    "### How to make a comment in Python\n",
    "In Python, all lines starting with a # are a comment. Python will ignore them. For example:\n",
    "```python \n",
    "# This is a comment\n",
    "```\n",
    "\n",
    "### Where can I put comments in Python\n",
    "You can place comments as their own line, or even at the end of a line of code. \n",
    "```python \n",
    "# This is a comment\n",
    "print (\"Hello, World!\") # this is a comment\n",
    "```\n",
    "\n",
    "### Use comments to prevent Python from running code\n",
    "You can add a # to lines of code to prevent Python from running them. This is called commenting out code. \n",
    "```python \n",
    "# print (\"Hello, World!\")\n",
    "print (\"Hasta la vista, baby!\")\n",
    "```\n",
    "\n",
    "### Making multiple lines of comments\n",
    "To add comments spanning multiple lines, you can either use a # for each line, or you can put \"\"\" at the beginning and end of the multiple lines. \n",
    "```python\n",
    "\"\"\"\n",
    "This is \n",
    "a \n",
    "comment\n",
    "\"\"\"\n",
    "```\n",
    "\n",
    "### Commenting Best Practices\n",
    "It is best practice to comment your code so that you and others who review it know how to follow it with no additional explanation. Throughout the remainder of this lesson, we will indicate our best practices for commenting code. "
   ]
  },
  {
   "cell_type": "markdown",
   "id": "76921332",
   "metadata": {},
   "source": [
    "### ✍️ Exercise\n",
    "Commenting Practice:\n",
    "1. Make a line comment that says: \"This is a comment\"\n",
    "2. Run the code in the cell\n",
    "3. Now comment out the line of code ```print(\"This shouldn't be here\")```\n",
    "4. Run again...\n"
   ]
  },
  {
   "cell_type": "code",
   "execution_count": 6,
   "id": "476d4f33",
   "metadata": {},
   "outputs": [
    {
     "name": "stdout",
     "output_type": "stream",
     "text": [
      "This shouldn't be here\n"
     ]
    }
   ],
   "source": [
    "# This is a comment\n",
    "print(\"This shouldn't be here\")"
   ]
  },
  {
   "cell_type": "code",
   "execution_count": null,
   "id": "329ab7d9-fbc2-406c-9232-4ca40fc5c773",
   "metadata": {},
   "outputs": [],
   "source": []
  },
  {
   "cell_type": "markdown",
   "id": "3dc95a1a",
   "metadata": {},
   "source": [
    "## 1. Variables"
   ]
  },
  {
   "cell_type": "markdown",
   "id": "8a24d030",
   "metadata": {},
   "source": [
    "**Concept.**  \n",
    "A *variable* is a container for storing data. It's like giving a piece of data a name! In Python, we call creating a new variable \"declaring a new variable.\"\n",
    "\n",
    "### How to declare a new variable in Python \n",
    "In Python, you declare a new variable by typing a **variable name** and assigning a value to it. Here's a few examples of declaring variables:\n",
    "```python\n",
    "welcome = 'Hello World'\n",
    "x = 3\n",
    "y = 5.2  \n",
    "```\n",
    "\n",
    "### How to name your variables\n",
    "You can name your variables *almost* whatever you want in Python. \n",
    "\n",
    "Here are a few rules for naming:\n",
    "* Do not **start** your variable name with numbers or special characters\n",
    "* Do not use special characters in variable names other than _\n",
    "* Do not include spaces in your variable name. Instead, use lowercase_with_underscores (`snake_case`)  \n",
    "* Be descriptive with names. For example: `temperature_c` or `temp_c` is better than `t` \n",
    "* When in doubt, add a comment to remind yourself what the variable is: \n",
    "    ```python\n",
    "    # year of this course\n",
    "    y = 2025\n",
    "    ```\n",
    "***Commenting Best Practice:*** When adding a comment to remind yourself what a variable is, make the comment its own line just above the line with the variable.\n",
    "\n",
    "### How to change your variable's value  \n",
    "After declaring a variable, you can reassign the value associated with it by simply redeclaring it as the new desired value. In Python, the ability to reassign a variable's value is called *mutability*. Therefore, we say that variables are *mutable*. Here's an example:\n",
    "\n",
    "```python\n",
    "price = 19.99\n",
    "price = \"expensive\"\n",
    "```\n",
    "the variable price is now assigned to \"expensive\" "
   ]
  },
  {
   "cell_type": "markdown",
   "id": "6b651854",
   "metadata": {},
   "source": [
    "### ✍️ Exercise\n",
    "Create two variables:\n",
    "\n",
    "* `first_name` = your first name\n",
    "* `bobiac_year` = your BoBiAC cohort year\n",
    "\n",
    "Bonus points for commenting what your variables are!\n",
    "\n",
    "Then, tell Python to *print*, or display, the values assigned to these variables by writing:\n",
    "```python\n",
    "print(first_name)\n",
    "print(bobiac_year)\n",
    "```\n",
    "When you run your code, you should see:\n",
    "<br>`your first name`\n",
    "<br>`bobiac_year`"
   ]
  },
  {
   "cell_type": "code",
   "execution_count": 15,
   "id": "7505d7e6",
   "metadata": {
    "tags": [
     "teacher"
    ]
   },
   "outputs": [
    {
     "name": "stdout",
     "output_type": "stream",
     "text": [
      "Eva\n",
      "2025\n"
     ]
    }
   ],
   "source": [
    "first_name = 'Eva' # your first name\n",
    "bobiac_year = 2025 # your BoBiAC cohort year\n",
    "print(first_name)\n",
    "print(bobiac_year)"
   ]
  },
  {
   "cell_type": "code",
   "execution_count": 11,
   "id": "75c47682-d82d-430d-bcf3-27e44eddd222",
   "metadata": {},
   "outputs": [
    {
     "name": "stdout",
     "output_type": "stream",
     "text": [
      "<class 'int'>\n",
      "<class 'str'>\n",
      "<class 'float'>\n"
     ]
    }
   ],
   "source": [
    "v1 = 1\n",
    "print(type(v1))\n",
    "v2 = str(v1)\n",
    "print(type(v2))\n",
    "\n",
    "v3 = float(v1)\n",
    "print(type(v3))\n"
   ]
  },
  {
   "cell_type": "code",
   "execution_count": null,
   "id": "c4393e0d-cb92-4675-9bd5-8451dd86f3d0",
   "metadata": {},
   "outputs": [],
   "source": []
  },
  {
   "cell_type": "markdown",
   "id": "fcf30588",
   "metadata": {},
   "source": [
    "## 2. Data Types"
   ]
  },
  {
   "cell_type": "markdown",
   "id": "c5317c0e",
   "metadata": {},
   "source": [
    "**Concept.**\n",
    "Now that you know about variables, let's dig deeper into the types of data you can assign to them! In Python, the following *data types* are commonly used: \n",
    "\n",
    "| Data Type | Description | Example |\n",
    "|---------|---------|----------------|\n",
    "| `int` | Pronounced \"int\"; integer numbers | -1, 0, 42 |\n",
    "| `float` | Pronounced \"float\"; decimal numbers | 3.14, -0.001, 26.2 |\n",
    "| `str` | Pronounced \"string\"; a sequence of characters bounded by single or double quotes | \"hello\", 'world', \"123\" |\n",
    "| `bool` | Pronounced \"bool\" or \"boolean\"; 2 truth values | True or False |\n",
    "| `None` | Pronounced \"none\"; nothing - represents absence of a value | None |\n",
    "\n",
    "### How to tell what data type is assigned to a variable\n",
    "At times, it will be useful to check what data type is assigned to a variable. You can find out by using ```type()```:\n",
    "```python\n",
    "print(type(variable))\n",
    "> 'str'\n",
    "```\n",
    "\n",
    "### How to change the data type assigned to a variable without changing the value\n",
    "You can also convert the data type of the value assigned to variable to a different one. You can do this for each data type with ```int()```, ```float()```, ```str()```, or ```bool()```. \n",
    "\n",
    "For example, let's consider a case where you would want to convert an ```int``` to a ```str```. We want to ```print``` BoBiAC2025 using Python. We create the following variables:\n",
    "```python\n",
    "course = 'BoBiAC' # str\n",
    "year = 2025 # int\n",
    "```\n",
    "The variable ```course``` is a ```str``` and the variable ```year``` is an ```int```. If we try to have Python ```print``` both variables in one line, it will return an error. \n",
    "```python\n",
    "print(course + year) # this will return an error because course & year are different types\n",
    "```\n",
    "To avoid this issue, we can convert ```year``` to a ```str``` with ```str()```. \n",
    "```python\n",
    "course = 'BoBiAC'\n",
    "year = 2025\n",
    "print(course + str(year))\n",
    "```\n",
    "\n",
    "Let's now consider a case where we would want to convert a ```float``` to an ```int```.  Let's declare the variable ```x```:\n",
    "```python \n",
    "x = 2.3\n",
    "```\n",
    "```2.3``` is a ```float```. If we want to just have the whole number ```2``` assigned to the variable ```x```, then we can convert it to an ```int```. \n",
    "```python\n",
    "x = int(2.3) # converts float 2.3 to int 2\n",
    "```"
   ]
  },
  {
   "cell_type": "code",
   "execution_count": null,
   "id": "ca5fb869-edd0-4fee-bc9e-3f51001aa7e9",
   "metadata": {},
   "outputs": [],
   "source": []
  },
  {
   "cell_type": "code",
   "execution_count": null,
   "id": "641bf4a8-78ad-412a-ba65-afa69ba33eaa",
   "metadata": {},
   "outputs": [],
   "source": []
  },
  {
   "cell_type": "markdown",
   "id": "6643031f",
   "metadata": {},
   "source": [
    "### ✍️ Exercise: guess the output!\n",
    "Predict what will be printed!\n",
    "\n",
    "\n",
    "What data type is assigned to the variable ```pi```?"
   ]
  },
  {
   "cell_type": "code",
   "execution_count": null,
   "id": "6c79215f",
   "metadata": {},
   "outputs": [],
   "source": [
    "pi = 3.14\n",
    "print(type(pi))"
   ]
  },
  {
   "cell_type": "markdown",
   "id": "dd3a5c33",
   "metadata": {},
   "source": [
    "What data type is assigned to the variable ```year```?"
   ]
  },
  {
   "cell_type": "code",
   "execution_count": null,
   "id": "c7a56c23",
   "metadata": {},
   "outputs": [],
   "source": [
    "year = 2025\n",
    "year = str(2025)\n",
    "print(type(year))"
   ]
  },
  {
   "cell_type": "markdown",
   "id": "2dff935a",
   "metadata": {},
   "source": [
    "## 3. Operators"
   ]
  },
  {
   "cell_type": "markdown",
   "id": "7e517d3d",
   "metadata": {},
   "source": [
    "**Concept.**  \n",
    "Now that we know more about variables and what can be assigned to them, let's discuss what we can *do* with variables. In Python, *operators* are used to perform various operations on variables, including arithmetic, comparison, or logical operations. \n",
    "\n",
    "### Arithmetic operators\n",
    "Arithmetic operators in Python include basic mathematical calculations that you would normally do on a calculator! \n",
    "| Operator | Description | Example |\n",
    "|---------|---------|----------------|\n",
    "| `+`| Addition | variable_1 + variable_2 |\n",
    "| `-` | Subtraction | variable_1 - variable_2 |\n",
    "| `*` | Multiplication | variable_1 * variable_2 |\n",
    "| `/` | Division | variable_1 / variable_2 |\n",
    "| `**` | Exponent | variable_1**variable_2 |\n",
    "\n",
    "Both variables must be assigned ```int``` or ```float``` values for these arithmetic operators to work. One exception is ```+``` can also be used with ```str```. Using arithmetic operators with variables will *return*, or result, in a value that is the same data type as what you started with. For example, if ```variable_1``` and ```variable_2``` are ```float``` then any arithmetic operator with these variables will return a ```float```.\n",
    "\n",
    "### Comparison operators\n",
    "Comparison operators compare values assigned to two different variables. \n",
    "| Operator | Description | Example |\n",
    "|---------|---------|----------------|\n",
    "| `==` | Equal in value | variable_1 == variable_2 |\n",
    "| `!=` | Not equal in value | variable_1 != variable_2 |\n",
    "| `>` | Greater than | variable_1 > variable_2 |\n",
    "| `<` | Less than | variable_1 < variable_2 |\n",
    "| `>=` | Greater than or equal to | variable_1 >= variable_2 |\n",
    "| `<=` | Less than or equal to | variable_1 <= variable_2 |\n",
    "\n",
    "Unlike arithmetic operators, comparison operators will always return a ```bool```, which is either ```True``` or ```False```. For example if ```variable_1 = 1``` and ```variable_2 = 2```, then ```variable_1 < variable_2``` would return ```True```. \n",
    "\n",
    "### Logical operators\n",
    "Logical operators are used to combine multiple comparison operators. \n",
    "| Operator | Description | Example |\n",
    "|---------|---------|----------------|\n",
    "| `and` | Returns ```True``` if both statements are true | variable_1>1 and variable_2<5 |\n",
    "| `or` | Returns ```True``` if one of the statements is true | variable_1>1 or variable_2<5> |\n",
    "\n",
    "Just like comparison operators, logical operators will always return a ```bool```, which is either ```True``` or ```False```. For example if ```variable_1 = 1``` and ```variable_2 = 2```, then ```variable_1<3 and variable_2<5``` would return ```True```. \n",
    "\n"
   ]
  },
  {
   "cell_type": "markdown",
   "id": "429cff35",
   "metadata": {},
   "source": [
    "### ✍️ Exercise: guess the output!\n",
    "Predict what will be printed!\n"
   ]
  },
  {
   "cell_type": "code",
   "execution_count": null,
   "id": "4880d8e4",
   "metadata": {},
   "outputs": [],
   "source": [
    "variable_1 = 5\n",
    "variable_2 = 10\n",
    "print(variable_1 + variable_2)"
   ]
  },
  {
   "cell_type": "code",
   "execution_count": null,
   "id": "52f03577",
   "metadata": {},
   "outputs": [],
   "source": [
    "variable_1 = 5\n",
    "variable_2 = 10\n",
    "print(variable_1==variable_2)"
   ]
  },
  {
   "cell_type": "code",
   "execution_count": null,
   "id": "d51532e1",
   "metadata": {},
   "outputs": [],
   "source": [
    "variable_1 = 5\n",
    "variable_2 = 10\n",
    "print(variable_1==variable_2 or variable_1>0)"
   ]
  },
  {
   "cell_type": "code",
   "execution_count": null,
   "id": "24b90f0f-857a-4aad-b535-fa872a9bd3a5",
   "metadata": {},
   "outputs": [],
   "source": []
  },
  {
   "cell_type": "code",
   "execution_count": 21,
   "id": "2254450a-63db-446c-93f9-63b94c111f82",
   "metadata": {},
   "outputs": [
    {
     "name": "stdout",
     "output_type": "stream",
     "text": [
      "hieva\n",
      "hi eva\n",
      "hi eva\n"
     ]
    }
   ],
   "source": [
    "v1 = \"hi\"\n",
    "v2 = \"eva\"\n",
    "print(v1 + v2)\n",
    "print(v1 + \" \" + v2)\n",
    "print(f\"{v1} {v2}\")\n",
    "# print(\"bla bla {}, {}\".format(v1, v2))"
   ]
  },
  {
   "cell_type": "code",
   "execution_count": null,
   "id": "a6bd8f40-8770-47aa-a233-e24f3bb023ab",
   "metadata": {},
   "outputs": [],
   "source": [
    "blavariable_1 = 5\n",
    "variable_2 = 10.3\n",
    "v3 = variable_1 + variable_2"
   ]
  },
  {
   "cell_type": "code",
   "execution_count": null,
   "id": "ece30708-9f97-446f-b3b3-ad65f2a4d168",
   "metadata": {},
   "outputs": [],
   "source": []
  },
  {
   "cell_type": "code",
   "execution_count": null,
   "id": "6086cf51-d85b-47cf-ba79-87f063dea90d",
   "metadata": {},
   "outputs": [],
   "source": []
  },
  {
   "cell_type": "markdown",
   "id": "71072aba",
   "metadata": {},
   "source": [
    "## 4. Data Structures: Lists"
   ]
  },
  {
   "cell_type": "markdown",
   "id": "4377aec2",
   "metadata": {},
   "source": [
    "**Concept.**  \n",
    "In many cases, we will have data sets that have many associated values. Each value is a data type. We ideally want a variable that is associated with all of these values, not just one. In Python, we use *data structures* to organize these data types under one variable. Python has a few different types of data structures. The first data structure we will discuss is a *list*. \n",
    "\n",
    "### Creating a list\n",
    "A list is a way to store multiple items in a single variable. In Python, we can create a list by using square brackets [ ] and commas , to separate items: \n",
    "```python\n",
    "mylist = [1, 2, 3]\n",
    "```\n",
    "We can put any data type we'd like in a list, not just `int`! In addition, lists can contain mixed data types. Here's an example:\n",
    "```python\n",
    "mylist = [1, 'code', 1.1, 'breathe', 2, 'repeat', True]\n",
    "```\n",
    "Lists can also have duplicate items: \n",
    "```python\n",
    "mylist = [1, 'code', 'code', 1.1, 'breathe', 2, 'repeat', True, True]\n",
    "```\n",
    "\n",
    "Just as with variables associated with only one value, we can print variables associated with a whole list to see the entire list:"
   ]
  },
  {
   "cell_type": "code",
   "execution_count": 22,
   "id": "4e6472ba",
   "metadata": {},
   "outputs": [
    {
     "name": "stdout",
     "output_type": "stream",
     "text": [
      "['a', 'b', 'c']\n"
     ]
    }
   ],
   "source": [
    "mylist = ['a', 'b', 'c']\n",
    "print(mylist)"
   ]
  },
  {
   "cell_type": "markdown",
   "id": "5dd1a603",
   "metadata": {},
   "source": [
    "### List length\n",
    "A list can have infinite items! Some lists will be long, some will be short. You can find a list's length using `len()`:\n",
    "```python\n",
    "mylist = [1, 2, 3]\n",
    "print(len(mylist))\n",
    "```"
   ]
  },
  {
   "cell_type": "markdown",
   "id": "9fd71ecf",
   "metadata": {},
   "source": [
    "### Indexing\n",
    "The order in which items appear inside lists is an important property called the item's *index*. Items will always have their same index in a list, unless you try to change it. The first item in a list has an index `[0]`, the second item has an index of `[1]`, and so on. Notice how our index counting scheme in Python starts from 0 instead of 1 - starting from 0 is general theme in Python that spans through many different concepts we will cover in this course. \n",
    "\n",
    "### Accessing list items\n",
    "We can access individual list items by using their indices! For example, let's consider the following list `mylist`:\n",
    "```python\n",
    "mylist = ['a', 'b', 'c']\n",
    "```\n",
    "If we want to print only `'a'`, then we can use its index to specifically print it. Since `'a'` is first in the list, it has an index of `[0]`.\n",
    "```python\n",
    "print(mylist[0])\n",
    "```"
   ]
  },
  {
   "cell_type": "markdown",
   "id": "fe80d248",
   "metadata": {},
   "source": [
    "### ✍️ Exercise\n",
    "Print items in a list\n",
    "\n",
    "Print the following sentence by accessing and printing items in the list `mylist`\n",
    "* Sentence: \n",
    "    I \n",
    "    love \n",
    "    to \n",
    "    code. \n",
    "* ```python mylist = ['I', 'hate', 'love', 'to', 'code'] ```\n"
   ]
  },
  {
   "cell_type": "code",
   "execution_count": null,
   "id": "d9c31404",
   "metadata": {},
   "outputs": [],
   "source": [
    "mylist = ['I', 'hate', 'love', 'to', 'code']"
   ]
  },
  {
   "cell_type": "code",
   "execution_count": null,
   "id": "68de9b1c",
   "metadata": {
    "tags": [
     "teacher"
    ]
   },
   "outputs": [],
   "source": [
    "print(mylist[0])\n",
    "print(mylist[2])\n",
    "print(mylist[3])\n",
    "print(mylist[4])"
   ]
  },
  {
   "cell_type": "markdown",
   "id": "e26ea4ca",
   "metadata": {},
   "source": [
    "### Negative Indexing\n",
    "Sometimes lists will contain a lot of items, and it will be easier to reference their index in reference to the end of the list, instead of the beginning. For example, let's consider the following list `mylist`:\n",
    "```python\n",
    "mylist = ['a', 'b', 'c', 'd', 'e', 'f', 'g', 'h', 'i', 'j', 'k', 'l', 'm', 'n', 'o', 'p', 'q', 'r', 's', 't', 'u', 'v', 'w', 'x', 'y', 'z']\n",
    "```\n",
    "\n",
    "If we want to print `'x'`, it's much easier to say it's 3rd from the end of the list, rather than counting through the items preceding it. We can use negative indexing to start our index count from the end of the list and work backwards. With negative indexing, `[-1]` is the last item of the list, `[-2]` is the second to last item of the list, and so on. Therefore, to print `'x'` from `mylist`, we would use `[-3]` index:\n"
   ]
  },
  {
   "cell_type": "code",
   "execution_count": null,
   "id": "6aef7fd2",
   "metadata": {},
   "outputs": [],
   "source": [
    "print(mylist[-3])"
   ]
  },
  {
   "cell_type": "markdown",
   "id": "f9d96234",
   "metadata": {},
   "source": [
    "### Accessing a Range of Indices\n",
    "Sometimes, you'd like to access a range of items from a list. Let's again consider this list `mylist`:\n",
    "```python\n",
    "mylist = ['a', 'b', 'c', 'd', 'e', 'f', 'g', 'h', 'i', 'j', 'k', 'l', 'm', 'n', 'o', 'p', 'q', 'r', 's', 't', 'u', 'v', 'w', 'x', 'y', 'z']\n",
    "```\n",
    "\n",
    "If we want to print `'a' 'b' 'c'`, the first 3 items in the list, then we can specify the range of their indices using a colon `:`. Since indexing starts from `0`, that range will be `[0:2]`.\n",
    "Therefore, we would write the following:"
   ]
  },
  {
   "cell_type": "code",
   "execution_count": 25,
   "id": "a60976bd",
   "metadata": {},
   "outputs": [
    {
     "name": "stdout",
     "output_type": "stream",
     "text": [
      "['a', 'b']\n",
      "['b', 'c']\n"
     ]
    }
   ],
   "source": [
    "mylist = ['a', 'b', 'c', 'd', 'e', 'f', 'g', 'h', 'i', 'j', 'k', 'l', 'm', 'n', 'o', 'p', 'q', 'r', 's', 't', 'u', 'v', 'w', 'x', 'y', 'z']\n",
    "# the klast number is EXCLUDED!!!\n",
    "print(mylist[0:2])\n",
    "print(mylist[1:3])"
   ]
  },
  {
   "cell_type": "code",
   "execution_count": null,
   "id": "ff506abe-4e63-48c5-9ee2-965c1c9aae52",
   "metadata": {},
   "outputs": [],
   "source": [
    "### \n",
    "Changing an item in a list\n",
    "Lists, like variables, are **mutable**, meaning that after making a list we can change list items. We can do that by simply using an item's index and redefining it. For example, consider the list `mylist`:\n",
    "```python\n",
    "mylist = [\"dapi\", \"fitc\", \"cy5\"]\n",
    "```\n",
    "Let's say that we want to change the first entry of `mylist` to be `0`, instead of `1`. We would do that as follows: \n",
    "```python\n",
    "mylist[1] = \"mcherry\"\n",
    "```\n",
    "Let's check it!"
   ]
  },
  {
   "cell_type": "code",
   "execution_count": 28,
   "id": "9a8adb9a",
   "metadata": {},
   "outputs": [
    {
     "name": "stdout",
     "output_type": "stream",
     "text": [
      "['dapi', 'fitc', 'cy5']\n",
      "['dapi', 'mcherry', 'cy5']\n"
     ]
    }
   ],
   "source": [
    "mylist = [\"dapi\", \"fitc\", \"cy5\"]\n",
    "print(mylist)\n",
    "mylist[1] = \"mcherry\"\n",
    "print(mylist)"
   ]
  },
  {
   "cell_type": "code",
   "execution_count": null,
   "id": "56cf9524-570c-43fe-bfda-6fefa30bc7e2",
   "metadata": {},
   "outputs": [],
   "source": []
  },
  {
   "cell_type": "code",
   "execution_count": null,
   "id": "d9a9040b-6c14-4daa-95ed-4d5f00e3a84a",
   "metadata": {},
   "outputs": [],
   "source": []
  },
  {
   "cell_type": "code",
   "execution_count": null,
   "id": "f47aa285-f512-4f86-9a91-d3ce41deddd7",
   "metadata": {},
   "outputs": [],
   "source": []
  },
  {
   "cell_type": "code",
   "execution_count": null,
   "id": "2f1c3711-71d6-4f40-8eff-2cb3da6108ce",
   "metadata": {},
   "outputs": [],
   "source": []
  },
  {
   "cell_type": "code",
   "execution_count": 40,
   "id": "aaf16ba0-8cd0-4777-8344-98e0a18e5e6a",
   "metadata": {},
   "outputs": [
    {
     "name": "stdout",
     "output_type": "stream",
     "text": [
      "[1, 2, 3]\n",
      "[1, 3]\n"
     ]
    }
   ],
   "source": [
    "b = [1,2,3]\n",
    "print(b)\n",
    "b.remove(2)\n",
    "print(b)"
   ]
  },
  {
   "cell_type": "code",
   "execution_count": 38,
   "id": "77410700-0cd0-4b2d-931d-906067618b56",
   "metadata": {},
   "outputs": [
    {
     "name": "stdout",
     "output_type": "stream",
     "text": [
      "[[1, 2, 3], [4, 5, 6]]\n",
      "[[1, 2, 3], 4, 5, 6]\n",
      "[1, 2, 3, 4, 5, 6]\n"
     ]
    }
   ],
   "source": [
    "a = []\n",
    "b = [1,2,3]\n",
    "c = [4,5,6]\n",
    "a.append(b)\n",
    "a.append(c)\n",
    "print(a)\n",
    "\n",
    "a.clear()\n",
    "a.append(b)\n",
    "a.extend(c)\n",
    "print(a)\n",
    "\n",
    "a.clear()\n",
    "a.extend(b)\n",
    "a.extend(c)\n",
    "print(a)"
   ]
  },
  {
   "cell_type": "code",
   "execution_count": 42,
   "id": "05d0ab17-330f-4afe-9cc9-a1277359fce7",
   "metadata": {},
   "outputs": [
    {
     "name": "stdout",
     "output_type": "stream",
     "text": [
      "[1, 2, 3]\n",
      "[2, 3]\n",
      "1\n"
     ]
    }
   ],
   "source": [
    "b = [1,2,3]\n",
    "print(b)\n",
    "d = b.pop(0)\n",
    "print(b)\n",
    "print(d)"
   ]
  },
  {
   "cell_type": "markdown",
   "id": "7f10238b",
   "metadata": {},
   "source": [
    "### Adding items to a list\n",
    "After a list is defined, we can add items to that list in two different ways.\n",
    "\n",
    "#### Add item to the end of a list\n",
    "You can add an item to the end of a list with `append()`. For example: \n",
    "```python\n",
    "mylist = [] # empty list\n",
    "mylist.append('something')\n",
    "```\n",
    "#### Add an item to a specific list index\n",
    "You can add an item to a specified index with `insert()`. For example, let's say we want to insert `'b'` in `mylist` at index `[1]`: \n",
    "```python\n",
    "mylist = ['a', 'c']\n",
    "mylist.insert(1, 'b')\n",
    "```"
   ]
  },
  {
   "cell_type": "code",
   "execution_count": 34,
   "id": "a29cd735-affe-4682-afb8-9a86b81ee650",
   "metadata": {},
   "outputs": [
    {
     "name": "stdout",
     "output_type": "stream",
     "text": [
      "2\n",
      "['a', 'b', 'c']\n",
      "['d', 'e', 'f']\n",
      "b\n"
     ]
    }
   ],
   "source": [
    "mylist = [['a', 'b', 'c'], ['d', 'e', 'f']]\n",
    "print(len(mylist))\n",
    "v1 = mylist[0]\n",
    "print(v1)\n",
    "v2 = mylist[1]\n",
    "print(v2)\n",
    "second_letter_v1 = mylist[0][1]\n",
    "print(second_letter_v1)"
   ]
  },
  {
   "cell_type": "markdown",
   "id": "86e7591f",
   "metadata": {},
   "source": [
    "### Removing List Items\n",
    "remove(), pop(), clear()"
   ]
  },
  {
   "cell_type": "markdown",
   "id": "5392b56d",
   "metadata": {},
   "source": [
    "## 5. For Loops"
   ]
  },
  {
   "cell_type": "markdown",
   "id": "2d7aa434",
   "metadata": {},
   "source": [
    "**Concept.**  \n",
    "In Python, ```for``` loops can be used to automate a *sequence* of variable operations. \n",
    "\n",
    "Let's consider a countdown timer. We want to print numbers counting down from 10 to 0. In Python, we can do this by declaring a ```count_start``` variable as ```10``` and then successively subtracting ```1``` and printing the result until we get to 1. \n",
    "```python\n",
    "count_start = 10 # start the count down at 10\n",
    "print(count_start) # print the count start\n",
    "count_start = count_start - 1 # subtract 1\n",
    "print(count_start) # print 9\n",
    "count_start = count_start - 1 # subtract 1\n",
    "print(count_start) # print 8\n",
    "count_start = count_start - 1 # subtract 1\n",
    "print(count_start) # print 7\n",
    "count_start = count_start - 1 # subtract 1\n",
    "print(count_start) # print 6\n",
    "count_start = count_start - 1 # subtract 1\n",
    "print(count_start) # print 5\n",
    "count_start = count_start - 1 # subtract 1\n",
    "print(count_start) # print 4\n",
    "count_start = count_start - 1 # subtract 1\n",
    "print(count_start) # print 3\n",
    "count_start = count_start - 1 # subtract 1\n",
    "print(count_start) # print 2\n",
    "count_start = count_start - 1 # subtract 1\n",
    "print(count_start) # print 1\n",
    "```\n",
    "\n",
    "But wow, that's a lot to type out! Not only is it tedious to type, more typing means more chances to make a mistake. Instead, let's simplify this code by using a ```for``` loop!\n",
    "\n",
    "### Setting up a For Loop using range()\n",
    "There are two main ways to structure a ```for``` loop in Python. Method 1 uses ```range()```  to loop through a set of code a specific number of times. This type of ```for``` loop is structured as follows: \n",
    "```python\n",
    "for i in range(min, max)\n",
    "    # do these tasks\n",
    "```\n",
    "\n",
    "```range()``` returns a sequence of numbers. It starts from ```min```, and increments by 1 by default, and then ends at ```max-1```. Therefore, the regular language translation of this code is: For a sequence starting at ```min``` and ending at ```max``` with an increment of 1, do these tasks per increment. \n",
    "\n",
    "Let's now implement this ```for``` loop structure into our countdown code above:\n",
    "```python\n",
    "count_start = 10 # start the count down at 10\n",
    "for i in range(0,10) # sequence: 0, 1, 2, 3, 4, 5, 6, 7, 8, 9\n",
    "    count_start = count_start - i # subtract the current increment number from count_start\n",
    "    print(count_start) # print the result\n",
    "```\n",
    "\n",
    "You can simplify ```range()``` more by what you input into it. ```range()``` has default settings that it will use if you do not specify your starting value and increment. The default starting value is 0, and the default increment is 1. Therefore, if we want a sequence of \"0, 1, 2, 3, 4, 5, 6, 7, 8, 9\", all we have to do is use ```range(10)```.\n",
    "\n",
    "We can therefore simplify our countdown code further to the following: \n",
    "```python\n",
    "count_start = 10 # start the count down at 10\n",
    "for i in range(10) # interval length: 0, 1, 2, 3, 4, 5, 6, 7, 8, 9\n",
    "    count_start = count_start - i # subtract the current interval length from count_start\n",
    "    print(count_start) # print the result of the current interval\n",
    "```\n",
    "\n",
    "Since our ```count_start``` variable is already assigned to the value 10, we can further simplify the code to the following: \n",
    "```python\n",
    "count_start = 10 # start the count down at 10\n",
    "for i in range(count_start) # interval length: 0, 1, 2, 3, 4, 5, 6, 7, 8, 9\n",
    "    count_start = count_start - i # subtract the current interval length from count_start\n",
    "    print(count_start) # print the result of the current interval\n",
    "```\n",
    "This code is now fully optimized! \n",
    "\n",
    "If we wanted to specify an increment other than 1, we can add a third input into ```range()```. For example, ```range(0, 10, 2)``` starts at 0 and increments by 2 up to 10-1. Therefore, the sequence is: 0, 2, 4, 6, 8. "
   ]
  },
  {
   "cell_type": "markdown",
   "id": "7c627410",
   "metadata": {},
   "source": [
    "### ✍️ Exercise\n",
    "Write a `for` loop with `range()`!\n",
    "\n",
    "You're playing hide and seek and want to use Python to count to 10. Write Python code that will print out your count up from 1 to 10. "
   ]
  },
  {
   "cell_type": "code",
   "execution_count": 43,
   "id": "967916e9",
   "metadata": {},
   "outputs": [
    {
     "name": "stdout",
     "output_type": "stream",
     "text": [
      "1\n",
      "2\n",
      "4\n",
      "7\n",
      "11\n",
      "16\n",
      "22\n",
      "29\n",
      "37\n",
      "46\n",
      "56\n"
     ]
    }
   ],
   "source": [
    "count_start = 1 # start the count up at 1\n",
    "count_stop = 10 # stop the count at 10\n",
    "for i in range(0, count_stop+1):\n",
    "        count_start = count_start + i\n",
    "        print(count_start)"
   ]
  },
  {
   "cell_type": "code",
   "execution_count": 46,
   "id": "347fc8a6-61d7-4910-aa16-681e4e5f0090",
   "metadata": {},
   "outputs": [
    {
     "name": "stdout",
     "output_type": "stream",
     "text": [
      "3\n",
      "5\n"
     ]
    }
   ],
   "source": [
    "for i in range(3, 6, 2):\n",
    "    print(i)"
   ]
  },
  {
   "cell_type": "code",
   "execution_count": null,
   "id": "b7f628f5-8524-4795-b54c-6c130e24294c",
   "metadata": {},
   "outputs": [],
   "source": [
    "### Setting up a For Loop with a sequence\n",
    "The second way to set up a `for` loop in Python is by iterating through items in a sequence. As we learned earlier, a `list` is a sequence of items in a specified order. Let's say we want to apply an operation to each item in a `list`. We could structure a `for` loop to use `range()` and iterate over indices, OR we can use the following `for` loop structure: \n",
    "```python\n",
    "mylist = [1, 2, 3]\n",
    "for item in mylist:\n",
    "    #do something to each item\n",
    "```\n",
    "In this structure, Python is smart enough to know that the variable `item` refers to each item in `mylist` for each increment of the for loop. Using this structure greatly simplifies the code when we want to iterate over an entire list, as we do not need to specify any indices for `range()`. "
   ]
  },
  {
   "cell_type": "markdown",
   "id": "dcebe064",
   "metadata": {},
   "source": [
    "### ✍️ Exercise\n",
    "Write a `for` loop for a sequence!\n",
    "\n",
    "You're playing hide and seek and want to use Python to count to 10. Write Python code that will print out your count up from 1 to 10 by using the following list for the count sequence: \n",
    "```python\n",
    "count = [1, 2, 3, 4, 5, 6, 7, 8, 9, 10]\n",
    "```"
   ]
  },
  {
   "cell_type": "code",
   "execution_count": null,
   "id": "9f56b0ff",
   "metadata": {
    "tags": [
     "teacher"
    ]
   },
   "outputs": [],
   "source": [
    "count = [1, 2, 3, 4, 5, 6, 7, 8, 9, 10] # counting sequence as a list\n",
    "for item in count:\n",
    "        print(item)"
   ]
  },
  {
   "cell_type": "code",
   "execution_count": null,
   "id": "ac96efb6-b1f4-49bd-8747-c19d6808a6b4",
   "metadata": {},
   "outputs": [],
   "source": []
  },
  {
   "cell_type": "markdown",
   "id": "b7cfbcf3",
   "metadata": {},
   "source": [
    "## 6. If Statements"
   ]
  },
  {
   "cell_type": "markdown",
   "id": "fcee62ce",
   "metadata": {},
   "source": [
    "**Concept.**  \n",
    "Let's consider a situation where you have a set of operations on data you have automated with a `for` loop, but for certain parts of the data you want to skip or do extra operations. In Python, `if` statements are used to conditionally conduct operations. `if` statements allow your code to **make decisions** and **branch** into different paths depending on conditions.\n",
    "\n",
    "**`if` statement keywords**\n",
    "\n",
    "- `if`: the primary gate — only runs the code block if the condition is `True`\n",
    "- `elif`: (else if) — test an additional condition if the previous one was `False`\n",
    "- `else`: fallback — runs only if all above conditions are `False`\n",
    "\n",
    "\n",
    "### How to structure an if statement in Python\n",
    "```python\n",
    "if #something is true:\n",
    "    # do something\n",
    "```\n",
    "\n",
    "For example, let's say in our hide and seek count up, we want to warn everyone to hurry up once we count to 7. We would need to add another task to our foor loop beyond just printing the current count of 7 to add printing \"Hurry up!\". We could do that with an if statement: \n",
    "```python\n",
    "count_start = 1 # start the count up at 1\n",
    "count_stop = 10 # stop the count at 10\n",
    "for i in range(count_start, count_stop+1):\n",
    "        count_start = count_start + i\n",
    "        print(count_start)\n",
    "        if count_start==7: # if we're on the count of 7,\n",
    "            print(\"Hurry up!\") # then print \"Hurry up!\"\n",
    "\n",
    " ```\n",
    "In this code, \"Hurry up!\" will only print when we are on i=7 increment of the for loop. For other increments, Python will pass over the if statement because count_start==7 is not true. \n",
    "\n",
    " ### Multiple if statements in Python \n",
    "Let's say you have a few different conditions to check. You can structure a series of if statements with the following structure:\n",
    "\n",
    "```python \n",
    " if # something is true: \n",
    "    # do this\n",
    " elif # something else is true:\n",
    "    # do this\n",
    " elif # something else is true:\n",
    "    # do this\n",
    " else # if none of the above is true:\n",
    "    # do this \n",
    "\n",
    "```\n",
    "Just as with one `if` statement, Python will skip over any `if` or  `elif` statements where the condition is not true. Adding `else` will tell Python to do that task when all of the above is not true. "
   ]
  },
  {
   "cell_type": "markdown",
   "id": "9b2d4b8f",
   "metadata": {},
   "source": [
    "### ✍️ Exercise: Guess the output!\n",
    "\n",
    "Predict what will be printed before running the code!"
   ]
  },
  {
   "cell_type": "code",
   "execution_count": null,
   "id": "b7ac72f1",
   "metadata": {},
   "outputs": [],
   "source": [
    "mylist = [1, 2, 3]\n",
    "for item in mylist: \n",
    "    if item==2:\n",
    "        print(\"Python rocks!\")\n",
    "    elif item > 1:\n",
    "        ...\n",
    "    else:\n",
    "        print(\"*\")"
   ]
  },
  {
   "cell_type": "code",
   "execution_count": null,
   "id": "00517d19-34da-4394-bfe7-4dd3f4d3dcd1",
   "metadata": {},
   "outputs": [],
   "source": []
  },
  {
   "cell_type": "markdown",
   "id": "941666ff",
   "metadata": {},
   "source": [
    "## 7. Data Structures: Dictionaries"
   ]
  },
  {
   "cell_type": "markdown",
   "id": "98a41617",
   "metadata": {},
   "source": [
    "**Concept.**  \n",
    "We have already learned about a `list`, which is one example of a *data structure* in Python. Another data structure in Python is a *dictionary*, or `dict`. Just as with a `list`, a `dict` allows you to associate 1 variable with many values that are ordered and muteable (changeable). However, a `dict` allows you to associate multiple values to each item but does not allow item duplicates. The chart below summarizes a comparison between a `list` and a `dict`. \n",
    "\n",
    "| Characteristic | `list` | `dict` |\n",
    "|---------|---------|----------------|\n",
    "| Ordered? | Yes | Yes |\n",
    "| Muteable (Changeable)? | Yes | Yes |\n",
    "| Allows duplicate items?  | Yes | No |\n",
    "| Allows multiple values associated with each item?  | No | Yes |\n",
    "| Allows mixed data types?  | Yes | Yes |\n",
    "\n",
    "### Creating a dict\n",
    "In Python, we can create a dictionary by using curly brackets {}, colons, and commas to separate items and their associated values: \n",
    "```python\n",
    "mydict = {1: \"Start\", \n",
    "        2: \"Middle\", \n",
    "        3: \"Finish\"\n",
    "        }\n",
    "```\n",
    "Just as with lists, we can put any data type we'd like in a dictionary. \n",
    "\n",
    "### Creating a dict with multiple values associated to items\n",
    "Dictionaries allow you to associate multiple values with each item, not just 1! However, to do this, we specify the multiple values by using a list:\n",
    "```python\n",
    "mydict = {1: \"Start of course\"\n",
    "        2: [\"Lectures\", \"Labs\", \"Office Hours\"]\n",
    "        3: [\"Course dinner\", 2025]\n",
    "        }\n",
    "```\n",
    "\n",
    "mydict.keys()\n",
    "\n",
    "l = [1, 2]\n",
    "a, b = l\n",
    "\n",
    "for key, value in mydict.items():\n",
    "    print(key, value)\n",
    "\n",
    "v = mydict[key]\n",
    "v = mydict.get(key, None)"
   ]
  },
  {
   "cell_type": "markdown",
   "id": "917705a8",
   "metadata": {},
   "source": [
    "## 8. Data Structures: Tuples"
   ]
  },
  {
   "cell_type": "markdown",
   "id": "9a36f204",
   "metadata": {},
   "source": [
    "**Concept.**  \n",
    "Another data structure in Python is a *tuple*. Just as with a `list`and a `dict`, a tuple allows you to associate 1 variable with many items that are ordered. However, items in a tuple are immutable (unchangeable). \n",
    "\n",
    "| Characteristic | `list` | `dict` | tuple |\n",
    "|---------|---------|---------| --------- |\n",
    "| Ordered? | Yes | Yes | Yes |\n",
    "| Muteable (Changeable)? | Yes | Yes | No |\n",
    "| Allows duplicate items?  | Yes | No | Yes |\n",
    "| Allows multiple values associated with each item?  | No | Yes | No |\n",
    "| Allows mixed data types?  | Yes | Yes | Yes |\n",
    "\n",
    "### Creating a tuple\n",
    "In Python, we can create a tuple by using parentheses () and commas to separate items: \n",
    "```python\n",
    "mytuple = (1, 2, 3)\n",
    "```\n",
    "Just as with lists and dictionaries, we can put any data type we'd like in a tuple. "
   ]
  },
  {
   "cell_type": "markdown",
   "id": "4edcb9fa",
   "metadata": {},
   "source": [
    "## 9. Functions "
   ]
  },
  {
   "cell_type": "markdown",
   "id": "4326bb68",
   "metadata": {},
   "source": [
    "**Concept.**  \n",
    "In many applications, one will write Python code that does many different tasks. The code can get quite long, which makes it harder to read through and catch mistakes, or repurpose for a different application later. To organize code by tasks in Python, we use *functions*. A *function* is a block of code that does a specific task. It is organized to have a *name*, *inputs (parameters)*, and *outputs (return values)*. \n",
    "\n",
    "### How to write a function\n",
    "We structure functions in Python as follows: \n",
    "```python\n",
    "def function_name(parameters:type) -> type: \n",
    "    \"\"\"Description of what the function does here\"\"\"\n",
    "    # do task here\n",
    "    return value\n",
    "```\n",
    "In this function, `function_name` is the name of the function, `parameters` are inputs that the function will use to return `value` output. To help make our code understandable to others and future you, we add a `type` label to inputs to specify the data type, and multi-line comments to describe what the function does.\n",
    "\n",
    "***Commenting Best Practice:*** When adding a multi-line comment to describe what a function does, make sure to specify what the inputs and outputs of the function are\n",
    "\n",
    "\n",
    "We can use the function by *calling* it. That can be done as follows: \n",
    "```python\n",
    "function_name(arguments) # calling the function function_name and inputting parameters \"arguments\"\n",
    "```\n",
    "Note that `parameters` in the `function_name` definition is a placeholder for what you will actually want to input into the function. In the example above where we call the function `function_name`, `arguments` is the actual input passed into the function to use to generate a `value` to return. \n",
    "\n",
    "### Functions with multiple inputs\n",
    "You can define a function with multiple inputs in Python by separating them with commas. Below is an example: \n",
    "```python\n",
    "def my_function(x:int, y:float) -> float: \n",
    "    \"\"\"Description of what the function does here\"\"\"\n",
    "    value = x + y\n",
    "    return value\n",
    "```"
   ]
  },
  {
   "cell_type": "markdown",
   "id": "5e617117",
   "metadata": {},
   "source": [
    "### ✍️ Exercise: Write a function!\n",
    "\n",
    "Let's go back to our previous example of hide and seek counting. Our code was:\n",
    "\n",
    "```python\n",
    "count = [1, 2, 3, 4, 5, 6, 7, 8, 9, 10] # counting sequence as a list\n",
    "for item in count:\n",
    "        print(item)\n",
    "```\n",
    "\n",
    "Now, let's edit this code to write a function for the task of counting."
   ]
  },
  {
   "cell_type": "code",
   "execution_count": null,
   "id": "1f4aed89",
   "metadata": {},
   "outputs": [],
   "source": [
    "def counter(count_sequence:list):\n",
    "    \"\"\" Function that inputs a count_sequence list and prints a countdown\"\"\"\n",
    "    for item in count_sequence:\n",
    "            print(item)\n",
    "\n",
    "count = [1, 2, 3, 4, 5, 6, 7, 8, 9, 10] # counting sequence as a list\n",
    "counter(count) # call the function counter"
   ]
  },
  {
   "cell_type": "markdown",
   "id": "19f4d238",
   "metadata": {},
   "source": [
    "### ✍️ BONUS Exercise: Write code that's better than Spotify's playlist shuffle\n",
    "\n",
    "Are you better than Spotify? Let's find out! Write Python code that generates a shuffled playlist of songs. \n",
    "\n",
    "To help guide you through the process, here are the steps to write this code:\n",
    "1. Write an outline of the code with comments (called pseudocode)\n",
    "2. Define a variable for the songs in the playlist\n",
    "3. Figure out a strategy to generate a random song order from that playlist\n",
    "4. Output this new song order list\n",
    "5. Edit code for clarity and useability - can you *decompose* the code into task blocks that can be functions?\n",
    "6. Add in any user preferences with conditionals:\n",
    "    - Filter songs by artist? \n",
    "    - Filter songs by time?\n",
    "    - Filter songs by mood (genre)? \n",
    "    - Check for duplicates?\n",
    "7. Run your code!"
   ]
  },
  {
   "cell_type": "code",
   "execution_count": null,
   "id": "163e79d6",
   "metadata": {},
   "outputs": [],
   "source": [
    "# write your code here"
   ]
  },
  {
   "cell_type": "markdown",
   "id": "b080f5d0",
   "metadata": {},
   "source": [
    "## 9. Python File Handling"
   ]
  },
  {
   "cell_type": "markdown",
   "id": "a461c894",
   "metadata": {},
   "source": [
    "**Concept.**\n",
    "Files let your programs persist data.\n",
    "\n",
    "* Use built‑in `open(path, mode)` inside a **context manager** (`with`) to ensure automatic close.  \n",
    "* Modes: `'r'` read, `'w'` write (truncate), `'a'` append, `'b'` binary, `'+'` read/write.\n",
    "\n",
    "Best practice: work with paths using `pathlib.Path`. "
   ]
  },
  {
   "cell_type": "code",
   "execution_count": null,
   "id": "0732acdb",
   "metadata": {},
   "outputs": [],
   "source": [
    "from pathlib import Path\n",
    "path = Path('demo.txt')\n",
    "with path.open('w') as f:\n",
    "    f.write('first line\\nsecond line')\n",
    "\n",
    "with path.open('r') as f:\n",
    "    data = f.read()\n",
    "print('File contents:', repr(data))"
   ]
  },
  {
   "cell_type": "markdown",
   "id": "2638b4e5",
   "metadata": {},
   "source": [
    "### ✍️ Exercise: guess the output!\n",
    "Consider:\n",
    "\n",
    "```python\n",
    "from pathlib import Path\n",
    "p = Path('mystery.txt')\n",
    "\n",
    "with p.open('w') as f:\n",
    "    f.write('hello')\n",
    "\n",
    "with p.open('r') as f:\n",
    "    print(f.read())\n",
    "    print(f.read())\n",
    "```\n",
    "\n",
    "**What gets printed and why?**"
   ]
  },
  {
   "cell_type": "code",
   "execution_count": null,
   "id": "0d598fa4",
   "metadata": {},
   "outputs": [],
   "source": [
    "from pathlib import Path\n",
    "p = Path('mystery.txt')\n",
    "\n",
    "with p.open('w') as f:\n",
    "    f.write('hello')\n",
    "\n",
    "with p.open('r') as f:\n",
    "    print(f.read())  # 'hello'\n",
    "    print(f.read())  # '' – the cursor hit EOF during first read\n"
   ]
  },
  {
   "cell_type": "markdown",
   "id": "fb083d34",
   "metadata": {},
   "source": [
    "## 10. Importing Modules ‑ Using the ecosystem"
   ]
  },
  {
   "cell_type": "markdown",
   "id": "9e4c7098",
   "metadata": {},
   "source": [
    "**Concept.**  \n",
    "`import` pulls in modules – files containing variables, functions, classes.\n",
    "\n",
    "Benefits:\n",
    "\n",
    "* **Don’t reinvent the wheel** – tap into 400k+ packages on PyPI.  \n",
    "* Organize **your** code into logical units.  \n",
    "* Share work across projects.\n",
    "\n",
    "Pro tip: use **virtual environments** (`venv`, `conda`) to isolate dependencies."
   ]
  },
  {
   "cell_type": "code",
   "execution_count": null,
   "id": "9883d639",
   "metadata": {},
   "outputs": [],
   "source": [
    "import random, statistics as stats\n",
    "nums = [random.randint(1, 6) for _ in range(1000)]\n",
    "print('Mean throw =', stats.mean(nums))"
   ]
  },
  {
   "cell_type": "markdown",
   "id": "ae7da393",
   "metadata": {},
   "source": [
    "### ✍️ Exercise: your turn!\n",
    "Import `datetime` and print today’s date in ISO format."
   ]
  },
  {
   "cell_type": "code",
   "execution_count": null,
   "id": "4cd0c50f",
   "metadata": {},
   "outputs": [],
   "source": [
    "from datetime import date\n",
    "print(date.today().isoformat())"
   ]
  },
  {
   "cell_type": "markdown",
   "id": "9a342db2",
   "metadata": {},
   "source": [
    "---\n",
    "\n",
    "## Where to go next?\n",
    "\n",
    "* **Introduction to digital images** – `numpy`, `matplotlib`.  \n",
    "\n",
    "> “Programs must be written for people to read, and only incidentally for machines to execute.”  \n",
    "> — *Harold Abelson*  \n"
   ]
  }
 ],
 "metadata": {
  "kernelspec": {
   "display_name": "Python 3 (ipykernel)",
   "language": "python",
   "name": "python3"
  },
  "language_info": {
   "codemirror_mode": {
    "name": "ipython",
    "version": 3
   },
   "file_extension": ".py",
   "mimetype": "text/x-python",
   "name": "python",
   "nbconvert_exporter": "python",
   "pygments_lexer": "ipython3",
   "version": "3.12.9"
  }
 },
 "nbformat": 4,
 "nbformat_minor": 5
}
