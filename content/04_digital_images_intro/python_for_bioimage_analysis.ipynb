{
 "cells": [
  {
   "cell_type": "markdown",
   "id": "1e143171-ec06-461d-af9b-52f8eb14add7",
   "metadata": {},
   "source": [
    "# Python for bioimage analysis"
   ]
  },
  {
   "cell_type": "code",
   "execution_count": 1,
   "id": "95186589",
   "metadata": {},
   "outputs": [],
   "source": [
    "# /// script\n",
    "# requires-python = \">=3.12\"\n",
    "# dependencies = [\n",
    "#     \"matplotlib\",\n",
    "#     \"ndv[jupyter,vispy]\",\n",
    "#     \"numpy\",\n",
    "# ]\n",
    "# ///"
   ]
  },
  {
   "cell_type": "markdown",
   "id": "299466fb-9262-4346-bde1-84cb2e0abe9a",
   "metadata": {},
   "source": [
    "format later:\n",
    "Description\n",
    "\n",
    "In this Notebook...\n",
    "Objectives\n",
    "\n",
    "    ...\n",
    "    ...\n",
    "\n",
    "Table of Contentss\n",
    "\n",
    "    ...\n",
    "    ...\n",
    "\n"
   ]
  },
  {
   "cell_type": "markdown",
   "id": "881de5ae-438c-4ccd-ac3c-feef99f716f7",
   "metadata": {},
   "source": [
    "# 1. Import all necessary libraries"
   ]
  },
  {
   "cell_type": "code",
   "execution_count": 2,
   "id": "96fc0a64-ddbf-4cff-96a8-41ff95b9851e",
   "metadata": {},
   "outputs": [],
   "source": [
    "import numpy as np\n",
    "import matplotlib.pyplot as plt\n",
    "import ndv"
   ]
  },
  {
   "cell_type": "code",
   "execution_count": 3,
   "id": "f78d25e5-4404-407c-8034-21fc70f4acec",
   "metadata": {},
   "outputs": [],
   "source": [
    "image = plt.imread(\"/Users/mariatheiss/Documents/Teaching/bobiac/melba_roy.tiff\")"
   ]
  },
  {
   "cell_type": "markdown",
   "id": "bebf4e6b-f739-406d-ad1d-cc7ab6f4a983",
   "metadata": {},
   "source": [
    "# 2. Images as numpy arrays "
   ]
  },
  {
   "cell_type": "code",
   "execution_count": 4,
   "id": "9db79f95-b4ce-411f-a7eb-c5045dba9fcc",
   "metadata": {},
   "outputs": [],
   "source": [
    "# TODO: Explain here how to open an image first "
   ]
  },
  {
   "cell_type": "markdown",
   "id": "6bd31864-a0ca-412c-8c35-06e9af8fddb6",
   "metadata": {},
   "source": [
    "## 2.1. Loading or generating images "
   ]
  },
  {
   "cell_type": "code",
   "execution_count": 21,
   "id": "5d06d033-a25d-44af-808f-90af5cd93964",
   "metadata": {},
   "outputs": [],
   "source": [
    "image = np.zeros([5,5], dtype=np.uint8) # explain everything here"
   ]
  },
  {
   "cell_type": "markdown",
   "id": "5e446998-b17f-4675-8541-4ef632ba4e7c",
   "metadata": {},
   "source": [
    "## 2.2. Inspecting the images"
   ]
  },
  {
   "cell_type": "code",
   "execution_count": 22,
   "id": "5d9ce98e-e2d1-4a9b-bc50-1cff0f77d180",
   "metadata": {},
   "outputs": [
    {
     "data": {
      "text/plain": [
       "array([[0, 0, 0, 0, 0],\n",
       "       [0, 0, 0, 0, 0],\n",
       "       [0, 0, 0, 0, 0],\n",
       "       [0, 0, 0, 0, 0],\n",
       "       [0, 0, 0, 0, 0]], dtype=uint8)"
      ]
     },
     "execution_count": 22,
     "metadata": {},
     "output_type": "execute_result"
    }
   ],
   "source": [
    "image "
   ]
  },
  {
   "cell_type": "code",
   "execution_count": 23,
   "id": "428fa62f-65a2-4825-adaf-cffdeac98211",
   "metadata": {},
   "outputs": [
    {
     "name": "stdout",
     "output_type": "stream",
     "text": [
      "[[0 0 0 0 0]\n",
      " [0 0 0 0 0]\n",
      " [0 0 0 0 0]\n",
      " [0 0 0 0 0]\n",
      " [0 0 0 0 0]]\n"
     ]
    }
   ],
   "source": [
    "print(image) # or using the print function. TODO: Could use rich "
   ]
  },
  {
   "cell_type": "markdown",
   "id": "9355e7e7-ec16-4e40-877a-988914ec10b1",
   "metadata": {},
   "source": [
    "Let's print a few properties of image"
   ]
  },
  {
   "cell_type": "code",
   "execution_count": 8,
   "id": "5d5f72d3-1a7b-4f67-b3f8-86d994019ca6",
   "metadata": {},
   "outputs": [
    {
     "name": "stdout",
     "output_type": "stream",
     "text": [
      "Type of the image: <class 'numpy.ndarray'>\n",
      "Shape of the image: (500, 446)\n",
      "Minimum pixel value: 0\n",
      "Maximum pixel value: 246\n",
      "Mean pixel value: 99.86\n"
     ]
    }
   ],
   "source": [
    "print(f'Type of the image: {type(image)}') \n",
    "print(f'Shape of the image: {image.shape}')  # Dimensions of the image\n",
    "print(f'Minimum pixel value: {image.min()}')  # Min pixel value\n",
    "print(f'Maximum pixel value: {image.max()}')  # Max pixel value\n",
    "print(f'Mean pixel value: {image.mean():.2f}')  # Average pixel value"
   ]
  },
  {
   "cell_type": "markdown",
   "id": "3c9eae31-cb6c-4704-bcf7-7b6043d0bd6e",
   "metadata": {},
   "source": [
    "Now, let's generate a simple plot of the image"
   ]
  },
  {
   "cell_type": "code",
   "execution_count": 24,
   "id": "440d8048-d772-4f86-85ae-45596eb21805",
   "metadata": {},
   "outputs": [],
   "source": [
    "# TODO: first without a function, than explain function \n",
    "def simpleplot(image): # example of function \n",
    "    plt.imshow(image, cmap = \"gray\")# vmax=4)\n",
    "    plt.colorbar()\n",
    "    plt.show()"
   ]
  },
  {
   "cell_type": "code",
   "execution_count": 26,
   "id": "45db9f8a-367c-41fd-bea4-8000f8f1c9f3",
   "metadata": {},
   "outputs": [
    {
     "data": {
      "image/png": "[encoded data removed]",
      "text/plain": [
       "<Figure size 640x480 with 2 Axes>"
      ]
     },
     "metadata": {},
     "output_type": "display_data"
    }
   ],
   "source": [
    "simpleplot(image)"
   ]
  },
  {
   "cell_type": "code",
   "execution_count": 28,
   "id": "010a305b-2a70-4732-a3c6-b244f380f761",
   "metadata": {},
   "outputs": [
    {
     "data": {
      "text/plain": [
       "array([0, 0, 0, 0, 0, 0, 0, 0, 0, 0, 0, 0, 0, 0, 0, 0, 0, 0, 0, 0, 0, 0,\n",
       "       0, 0, 0], dtype=uint8)"
      ]
     },
     "execution_count": 28,
     "metadata": {},
     "output_type": "execute_result"
    }
   ],
   "source": [
    "image.flatten() # explain .flatten(). Explain graphically! "
   ]
  },
  {
   "cell_type": "code",
   "execution_count": 27,
   "id": "29f115be-5a8c-47d3-8e7f-ca41542861c4",
   "metadata": {},
   "outputs": [
    {
     "data": {
      "text/plain": [
       "Text(0.5, 0, 'Gray value uint8')"
      ]
     },
     "execution_count": 27,
     "metadata": {},
     "output_type": "execute_result"
    },
    {
     "data": {
      "image/png": "[encoded data removed]",
      "text/plain": [
       "<Figure size 640x480 with 1 Axes>"
      ]
     },
     "metadata": {},
     "output_type": "display_data"
    }
   ],
   "source": [
    "plt.hist(image.flatten(), bins = 256) \n",
    "plt.xlabel(f\"Gray value {image.dtype}\") # format string"
   ]
  },
  {
   "cell_type": "code",
   "execution_count": 13,
   "id": "21772d05-80d5-4254-b668-01b1cbd2235a",
   "metadata": {},
   "outputs": [],
   "source": [
    "# note: indexing discussed in previous section "
   ]
  },
  {
   "cell_type": "code",
   "execution_count": 30,
   "id": "82e48739-fd21-46b0-944e-5041cc707582",
   "metadata": {},
   "outputs": [
    {
     "data": {
      "text/plain": [
       "array([0, 0, 0, 0, 0], dtype=uint8)"
      ]
     },
     "execution_count": 30,
     "metadata": {},
     "output_type": "execute_result"
    }
   ],
   "source": [
    "# Show them how to query images. Eva introduced that using lists \n",
    "# Go slower here! \n",
    "# draw a representation\n",
    "image[0]"
   ]
  },
  {
   "cell_type": "code",
   "execution_count": 38,
   "id": "de548276-e3dd-45d0-b847-fc49fddafc1b",
   "metadata": {},
   "outputs": [
    {
     "data": {
      "text/plain": [
       "(5, 5)"
      ]
     },
     "execution_count": 38,
     "metadata": {},
     "output_type": "execute_result"
    }
   ],
   "source": [
    "image.shape"
   ]
  },
  {
   "cell_type": "code",
   "execution_count": 36,
   "id": "51fc5c7b-9f76-4ddb-a8db-4c9f6ac077e4",
   "metadata": {},
   "outputs": [],
   "source": [
    "#show first 2 "
   ]
  },
  {
   "cell_type": "code",
   "execution_count": null,
   "id": "659d0fc2-b6af-4424-833a-bf80f6f73217",
   "metadata": {},
   "outputs": [],
   "source": [
    "image"
   ]
  },
  {
   "cell_type": "markdown",
   "id": "8b84118e-bd0c-496d-ba61-a3be91b7fc00",
   "metadata": {},
   "source": [
    "### Task: Make a copy of image, and name it image2 (new variable). Turn the middle pixel of image2 to 255\n",
    "And plot it\n",
    "what color is it and why \n",
    "Learning goal: \n",
    "* What does \"white\" mean\n",
    "* copying numpy arrays correctly \n",
    "* Repeat of indexing"
   ]
  },
  {
   "cell_type": "markdown",
   "id": "5f71d6a8-2686-4c08-badd-78ff5d991a52",
   "metadata": {},
   "source": [
    "### Pitfalls"
   ]
  },
  {
   "cell_type": "code",
   "execution_count": 39,
   "id": "75dcad5b-55bc-448d-8da3-b4110c3ae053",
   "metadata": {},
   "outputs": [],
   "source": [
    "image2 = image "
   ]
  },
  {
   "cell_type": "code",
   "execution_count": 40,
   "id": "83a5053f-ec48-447e-a438-412cd0554a78",
   "metadata": {},
   "outputs": [
    {
     "data": {
      "text/plain": [
       "array([[0, 0, 0, 0, 0],\n",
       "       [0, 0, 0, 0, 0],\n",
       "       [0, 0, 0, 0, 0],\n",
       "       [0, 0, 0, 0, 0],\n",
       "       [0, 0, 0, 0, 0]], dtype=uint8)"
      ]
     },
     "execution_count": 40,
     "metadata": {},
     "output_type": "execute_result"
    }
   ],
   "source": [
    "image2"
   ]
  },
  {
   "cell_type": "code",
   "execution_count": 43,
   "id": "534b96a8-750a-4fdb-9eca-21e729140b2a",
   "metadata": {},
   "outputs": [],
   "source": [
    "image2[2,2] = 255 # using a self-generated image, this will change the original image. Getting an image using plt.imread makes the original image read-only"
   ]
  },
  {
   "cell_type": "markdown",
   "id": "14354efb-8814-4ce7-b2c9-20b91525a51f",
   "metadata": {},
   "source": [
    "### Task: Now inspect the pixel values of image and image2"
   ]
  },
  {
   "cell_type": "code",
   "execution_count": 44,
   "id": "516a0f92-f8ec-4b2a-9094-5f5347fbb110",
   "metadata": {},
   "outputs": [
    {
     "data": {
      "text/plain": [
       "array([[  0,   0,   0,   0,   0],\n",
       "       [  0,   0,   0,   0,   0],\n",
       "       [  0,   0, 255,   0,   0],\n",
       "       [  0,   0,   0,   0,   0],\n",
       "       [  0,   0,   0,   0,   0]], dtype=uint8)"
      ]
     },
     "execution_count": 44,
     "metadata": {},
     "output_type": "execute_result"
    }
   ],
   "source": [
    "image2"
   ]
  },
  {
   "cell_type": "code",
   "execution_count": 45,
   "id": "a0e5e637-c354-487b-8185-1a930c4aa70c",
   "metadata": {},
   "outputs": [
    {
     "data": {
      "text/plain": [
       "array([[  0,   0,   0,   0,   0],\n",
       "       [  0,   0,   0,   0,   0],\n",
       "       [  0,   0, 255,   0,   0],\n",
       "       [  0,   0,   0,   0,   0],\n",
       "       [  0,   0,   0,   0,   0]], dtype=uint8)"
      ]
     },
     "execution_count": 45,
     "metadata": {},
     "output_type": "execute_result"
    }
   ],
   "source": [
    "image"
   ]
  },
  {
   "cell_type": "markdown",
   "id": "7f7491d9-48d7-4e3c-a6d3-2e3f312e1a09",
   "metadata": {},
   "source": [
    "### Solution "
   ]
  },
  {
   "cell_type": "code",
   "execution_count": 52,
   "id": "057314db-3ac7-4381-8259-5640c80f5e05",
   "metadata": {},
   "outputs": [],
   "source": [
    "image = np.zeros([5,5], dtype = np.uint8) # in case it was overwritten"
   ]
  },
  {
   "cell_type": "code",
   "execution_count": 47,
   "id": "461f4593-c027-4f13-8631-78424923c5ec",
   "metadata": {},
   "outputs": [],
   "source": [
    "image2 = np.array(image)"
   ]
  },
  {
   "cell_type": "code",
   "execution_count": 57,
   "id": "e3205821-fca8-4a59-9c33-4521bfbd8d9b",
   "metadata": {},
   "outputs": [],
   "source": [
    "image2 = np.array(image, copy = True)"
   ]
  },
  {
   "cell_type": "code",
   "execution_count": 58,
   "id": "551e7daf-836f-4184-a399-b2d1ceca2068",
   "metadata": {},
   "outputs": [],
   "source": [
    "image2 = image.copy() # another solution"
   ]
  },
  {
   "cell_type": "code",
   "execution_count": 54,
   "id": "82e69472-c256-4034-a61f-38da36441f6e",
   "metadata": {},
   "outputs": [],
   "source": [
    "image2[2, 2] = 255 "
   ]
  },
  {
   "cell_type": "code",
   "execution_count": 55,
   "id": "0cdb27f4-3ea3-4e2d-9983-51c8417d0fe3",
   "metadata": {},
   "outputs": [
    {
     "data": {
      "text/plain": [
       "array([[  0,   0,   0,   0,   0],\n",
       "       [  0,   0,   0,   0,   0],\n",
       "       [  0,   0, 255,   0,   0],\n",
       "       [  0,   0,   0,   0,   0],\n",
       "       [  0,   0,   0,   0,   0]], dtype=uint8)"
      ]
     },
     "execution_count": 55,
     "metadata": {},
     "output_type": "execute_result"
    }
   ],
   "source": [
    "image2"
   ]
  },
  {
   "cell_type": "code",
   "execution_count": 56,
   "id": "606b2199-4531-4b54-8486-810485f2ab30",
   "metadata": {},
   "outputs": [
    {
     "data": {
      "text/plain": [
       "array([[0, 0, 0, 0, 0],\n",
       "       [0, 0, 0, 0, 0],\n",
       "       [0, 0, 0, 0, 0],\n",
       "       [0, 0, 0, 0, 0],\n",
       "       [0, 0, 0, 0, 0]], dtype=uint8)"
      ]
     },
     "execution_count": 56,
     "metadata": {},
     "output_type": "execute_result"
    }
   ],
   "source": [
    "image"
   ]
  },
  {
   "cell_type": "code",
   "execution_count": null,
   "id": "0b734b2a-8c4b-4e57-8db1-978c8884246a",
   "metadata": {},
   "outputs": [],
   "source": [
    "simpleplot(image)"
   ]
  },
  {
   "cell_type": "code",
   "execution_count": null,
   "id": "d02175dc-d350-45a2-8051-c68fe4ecd420",
   "metadata": {},
   "outputs": [],
   "source": [
    "#Task: asign a value of 255 to the central column... "
   ]
  },
  {
   "cell_type": "markdown",
   "id": "1c74dc61-f3dd-4143-9b29-e73440bdfc07",
   "metadata": {},
   "source": [
    "### Task: Make a copy of image and name it \"frame\". Assign to all pixels but the rim-pixels a value of 255\n",
    "Tip: For-loops are not necessary here! "
   ]
  },
  {
   "cell_type": "markdown",
   "id": "5a5af16d-5514-4342-b40c-66d29c4e9fb6",
   "metadata": {},
   "source": [
    "### Solution"
   ]
  },
  {
   "cell_type": "code",
   "execution_count": 66,
   "id": "c904961a-c7f1-490d-91c9-7e7e06f6dff9",
   "metadata": {},
   "outputs": [],
   "source": [
    "frame = np.array(image)"
   ]
  },
  {
   "cell_type": "code",
   "execution_count": 67,
   "id": "46e0e059-801b-403a-a94a-d891b2a6907c",
   "metadata": {},
   "outputs": [],
   "source": [
    "frame[1:-1, 1:-1] = 255\n",
    "# or, less general: image3[1:4, 1:4] = 255"
   ]
  },
  {
   "cell_type": "code",
   "execution_count": 68,
   "id": "b4b031b4-84b8-4ac2-a9e7-f407568a42b8",
   "metadata": {},
   "outputs": [
    {
     "data": {
      "image/png": "[encoded data removed]",
      "text/plain": [
       "<Figure size 640x480 with 2 Axes>"
      ]
     },
     "metadata": {},
     "output_type": "display_data"
    }
   ],
   "source": [
    "simpleplot(frame)"
   ]
  },
  {
   "cell_type": "markdown",
   "id": "9b6f6742-16d0-4dfa-a152-af2fadae2684",
   "metadata": {},
   "source": [
    "### Task: Make a copy of image and name it \"vstripes\". Assign a value of 255 to every other pixel in y to give it a vertical stripy pattern "
   ]
  },
  {
   "cell_type": "markdown",
   "id": "3e6c615a-d92f-49cd-a488-b8a1cdaa8877",
   "metadata": {},
   "source": [
    "### Solution"
   ]
  },
  {
   "cell_type": "code",
   "execution_count": 63,
   "id": "b2854280-329c-49e2-a8f8-5a34bb767c63",
   "metadata": {},
   "outputs": [],
   "source": [
    "vstripes = np.array(image)\n",
    "ymax = len(image[0]) # TODO:  is this y or is this x?\n",
    "for i in range(0, ymax, 2):\n",
    "    vstripes[:, i] = 255"
   ]
  },
  {
   "cell_type": "code",
   "execution_count": 64,
   "id": "bf3bb2da-3581-48f9-bea9-a3a46d5782fe",
   "metadata": {},
   "outputs": [
    {
     "data": {
      "text/plain": [
       "5"
      ]
     },
     "execution_count": 64,
     "metadata": {},
     "output_type": "execute_result"
    }
   ],
   "source": [
    "len(image[1])"
   ]
  },
  {
   "cell_type": "code",
   "execution_count": 65,
   "id": "c2b306f4-d518-402f-940b-b5cae072824e",
   "metadata": {},
   "outputs": [
    {
     "data": {
      "image/png": "[encoded data removed]",
      "text/plain": [
       "<Figure size 640x480 with 2 Axes>"
      ]
     },
     "metadata": {},
     "output_type": "display_data"
    }
   ],
   "source": [
    "simpleplot(vstripes)"
   ]
  },
  {
   "cell_type": "markdown",
   "id": "e0b46b93-d66b-41a6-b85c-bfd80e13c370",
   "metadata": {},
   "source": [
    "### Bonus task: generate an image \"checkerboard\" that has a checkerboard pattern. \n",
    "Tips: \n",
    "* there are multiple solutions\n",
    "* you can use image or vstripes as a template \n",
    "* % is the modulo operator. The modulo operator yields the remainder from the division of the first argument by the second. Example: 5%3 = 2\n",
    "* image.T transposes image. This means it flips the image values over the diagonal of image.\n",
    "* ^ is an exclusive or. "
   ]
  },
  {
   "cell_type": "markdown",
   "id": "64e60dcc-0cad-4a1d-85cd-574a94f44a59",
   "metadata": {},
   "source": [
    "### Solution 1"
   ]
  },
  {
   "cell_type": "code",
   "execution_count": 69,
   "id": "f31f3c46-de92-4983-a14c-f8968dd2c79b",
   "metadata": {},
   "outputs": [],
   "source": [
    "checkerboard = vstripes ^ vstripes.T"
   ]
  },
  {
   "cell_type": "code",
   "execution_count": 70,
   "id": "9a5c2eca-b0d6-49d1-a052-d50f9e522e2f",
   "metadata": {},
   "outputs": [
    {
     "data": {
      "image/png": "[encoded data removed]",
      "text/plain": [
       "<Figure size 640x480 with 2 Axes>"
      ]
     },
     "metadata": {},
     "output_type": "display_data"
    }
   ],
   "source": [
    "simpleplot(checkerboard)"
   ]
  },
  {
   "cell_type": "code",
   "execution_count": 74,
   "id": "a22d5e96-357b-4a97-ab4d-2a9e62cc6637",
   "metadata": {},
   "outputs": [
    {
     "data": {
      "text/plain": [
       "array([[  0, 255,   0, 255,   0],\n",
       "       [255,   0, 255,   0, 255],\n",
       "       [  0, 255,   0, 255,   0],\n",
       "       [255,   0, 255,   0, 255],\n",
       "       [  0, 255,   0, 255,   0]], dtype=uint8)"
      ]
     },
     "execution_count": 74,
     "metadata": {},
     "output_type": "execute_result"
    }
   ],
   "source": [
    "checkerboard"
   ]
  },
  {
   "cell_type": "markdown",
   "id": "9b9d9c86-389d-4277-8f3d-27f92acafe6a",
   "metadata": {},
   "source": [
    "### Solution 2"
   ]
  },
  {
   "cell_type": "code",
   "execution_count": 71,
   "id": "be942048-89e2-47f6-95fd-4322d16207fd",
   "metadata": {},
   "outputs": [],
   "source": [
    "checkerboard2 = np.array(image)"
   ]
  },
  {
   "cell_type": "code",
   "execution_count": 72,
   "id": "9694587a-becb-4cf8-b2b7-6c647c79b10e",
   "metadata": {
    "scrolled": true
   },
   "outputs": [],
   "source": [
    "for i in range(0, 5):\n",
    "    for j in range(0, 5):\n",
    "        checkerboard2[i, j] = 255 * ((i + j % 2) % 2)"
   ]
  },
  {
   "cell_type": "code",
   "execution_count": 73,
   "id": "06bd8cbd-adc0-480a-8bf8-13388742b996",
   "metadata": {},
   "outputs": [
    {
     "data": {
      "image/png": "[encoded data removed]",
      "text/plain": [
       "<Figure size 640x480 with 2 Axes>"
      ]
     },
     "metadata": {},
     "output_type": "display_data"
    }
   ],
   "source": [
    "simpleplot(checkerboard2)\n"
   ]
  },
  {
   "cell_type": "markdown",
   "id": "18772a6c-0dde-4276-8f34-907b7a61240a",
   "metadata": {},
   "source": [
    "## 2.2. Numpy and multichannel/z-stacks\n",
    "A\n",
    "\n",
    "Use real image! \n",
    "Learning goal: \n",
    "* handling image axes\n",
    "* avoiding int overflow, why it's a good idea to use numpy "
   ]
  },
  {
   "cell_type": "code",
   "execution_count": 76,
   "id": "7797f283-7905-46b3-8685-f518973f6d3e",
   "metadata": {},
   "outputs": [],
   "source": [
    "multichannel = np.random.randint(0, 256, size=(2, 5, 5), dtype=np.uint8)"
   ]
  },
  {
   "cell_type": "code",
   "execution_count": 78,
   "id": "c3bcfcff-3eaa-4d90-8d12-ae80f18a77d8",
   "metadata": {},
   "outputs": [
    {
     "data": {
      "text/plain": [
       "(2, 5, 5)"
      ]
     },
     "execution_count": 78,
     "metadata": {},
     "output_type": "execute_result"
    }
   ],
   "source": [
    "multichannel.shape # print and describe"
   ]
  },
  {
   "cell_type": "code",
   "execution_count": null,
   "id": "57d0fb67-cd4b-4785-8e46-95cfa0aa7ddc",
   "metadata": {},
   "outputs": [],
   "source": [
    "multichannel # print datatype"
   ]
  },
  {
   "cell_type": "markdown",
   "id": "3c0763e4-8eee-4de7-8a99-fb1721d71e09",
   "metadata": {},
   "source": [
    "### Task: plot the first channel"
   ]
  },
  {
   "cell_type": "code",
   "execution_count": 79,
   "id": "fa098464-2d16-484c-b958-c46632e2acfc",
   "metadata": {},
   "outputs": [
    {
     "data": {
      "text/plain": [
       "(5, 5)"
      ]
     },
     "execution_count": 79,
     "metadata": {},
     "output_type": "execute_result"
    }
   ],
   "source": [
    "# also print the shape \n",
    "multichannel[0,:,:].shape"
   ]
  },
  {
   "cell_type": "code",
   "execution_count": 80,
   "id": "476d52f2-c684-4011-8392-e93af6a4dca9",
   "metadata": {},
   "outputs": [
    {
     "data": {
      "image/png": "[encoded data removed]",
      "text/plain": [
       "<Figure size 640x480 with 2 Axes>"
      ]
     },
     "metadata": {},
     "output_type": "display_data"
    }
   ],
   "source": [
    "simpleplot(multichannel[0,:,:])"
   ]
  },
  {
   "cell_type": "markdown",
   "id": "a4aefbc9-4e42-45fa-9a12-f4d52117d255",
   "metadata": {},
   "source": [
    "### Task: plot the second channel"
   ]
  },
  {
   "cell_type": "code",
   "execution_count": 81,
   "id": "123c673a-88dc-43d6-b81d-e4af7fb48a1f",
   "metadata": {},
   "outputs": [
    {
     "data": {
      "image/png": "[encoded data removed]",
      "text/plain": [
       "<Figure size 640x480 with 2 Axes>"
      ]
     },
     "metadata": {},
     "output_type": "display_data"
    }
   ],
   "source": [
    "simpleplot(multichannel[1,:,:])"
   ]
  },
  {
   "cell_type": "markdown",
   "id": "b1237542-ec85-4965-ae07-c7d2416aa09f",
   "metadata": {},
   "source": [
    "### Task: generate an image that is the mean of channel 0 and channel 1: \"mean projection\" \n",
    "TODO: Not of channels, of stacks\n",
    "collapse image \"multichannel\" into a single-channel image by averaging the values in each channel at every pixel. The result should be a (5, 5) array where each value represents the mean of the two original channels at that position. This is called the mean projection\n",
    "\n",
    "Tip: https://numpy.org/doc/2.2/reference/routines.statistics.html "
   ]
  },
  {
   "cell_type": "code",
   "execution_count": 82,
   "id": "3421c330-6052-45c1-921a-08cc615929d6",
   "metadata": {},
   "outputs": [
    {
     "data": {
      "image/png": "[encoded data removed]",
      "text/plain": [
       "<Figure size 640x480 with 2 Axes>"
      ]
     },
     "metadata": {},
     "output_type": "display_data"
    }
   ],
   "source": [
    "mean_of_chanels = np.mean(multichannel, axis = 0)\n",
    "simpleplot(mean_of_chanels)"
   ]
  },
  {
   "cell_type": "code",
   "execution_count": 83,
   "id": "98867783-ac4d-4338-ba8b-3d6117520923",
   "metadata": {},
   "outputs": [
    {
     "data": {
      "text/plain": [
       "array([[193. , 131.5,  73. ,  55. , 222. ],\n",
       "       [118. ,  99. , 125. , 170.5, 177.5],\n",
       "       [ 65.5, 184. ,  87.5,  43. , 173.5],\n",
       "       [133.5, 155.5,  39. , 223.5,  91.5],\n",
       "       [ 35. ,  88. , 145. ,  78. ,  76.5]])"
      ]
     },
     "execution_count": 83,
     "metadata": {},
     "output_type": "execute_result"
    }
   ],
   "source": [
    "mean_of_chanels"
   ]
  },
  {
   "cell_type": "markdown",
   "id": "f62d9bab-8965-4dac-8974-77749863f874",
   "metadata": {},
   "source": [
    "### Task: sanity-check whether np.mean does what you expect it to do without using numpy "
   ]
  },
  {
   "cell_type": "markdown",
   "id": "110b651f-c7ba-44b6-8084-95c30bc9e412",
   "metadata": {},
   "source": [
    "### Pitfall"
   ]
  },
  {
   "cell_type": "code",
   "execution_count": 84,
   "id": "01cd6e87-9445-4681-a43b-14a03d46ea4f",
   "metadata": {},
   "outputs": [
    {
     "data": {
      "text/plain": [
       "array([[False, False,  True,  True, False],\n",
       "       [ True,  True,  True, False, False],\n",
       "       [ True, False,  True,  True, False],\n",
       "       [False, False,  True, False,  True],\n",
       "       [ True,  True, False,  True,  True]])"
      ]
     },
     "execution_count": 84,
     "metadata": {},
     "output_type": "execute_result"
    }
   ],
   "source": [
    "channel1 = multichannel[0,:,:]\n",
    "channel2 = multichannel[1,:,:]\n",
    "\n",
    "mean_of_chanels == (channel1 + channel2)/2 # integer overflow "
   ]
  },
  {
   "cell_type": "code",
   "execution_count": 85,
   "id": "6e36c770-4baf-4160-b2a5-4f83f08c548f",
   "metadata": {},
   "outputs": [
    {
     "data": {
      "text/plain": [
       "array([[193. , 131.5,  73. ,  55. , 222. ],\n",
       "       [118. ,  99. , 125. , 170.5, 177.5],\n",
       "       [ 65.5, 184. ,  87.5,  43. , 173.5],\n",
       "       [133.5, 155.5,  39. , 223.5,  91.5],\n",
       "       [ 35. ,  88. , 145. ,  78. ,  76.5]])"
      ]
     },
     "execution_count": 85,
     "metadata": {},
     "output_type": "execute_result"
    }
   ],
   "source": [
    "mean_of_chanels "
   ]
  },
  {
   "cell_type": "markdown",
   "id": "406a947c-5a69-4969-8afe-e5d7975bb6f4",
   "metadata": {},
   "source": [
    "### Solution 1"
   ]
  },
  {
   "cell_type": "code",
   "execution_count": null,
   "id": "f22f380f-87e8-4a4e-8247-a7893c904a25",
   "metadata": {},
   "outputs": [],
   "source": [
    "(multichannel[0,:,:].astype(np.uint16) + multichannel[1,:,:].astype(np.uint16))/2 "
   ]
  },
  {
   "cell_type": "code",
   "execution_count": null,
   "id": "c50ccc01-2601-40b9-85a2-4c4eec12212e",
   "metadata": {},
   "outputs": [],
   "source": [
    "mean_of_chanels == (multichannel[0,:,:].astype(np.uint16) + multichannel[1,:,:].astype(np.uint16))/2 #cast to unint16 #TODO: too advanced, remove!"
   ]
  },
  {
   "cell_type": "markdown",
   "id": "ed0c01a2-8cd0-4ff3-9de5-43add38d4af2",
   "metadata": {},
   "source": [
    "### Solution 2"
   ]
  },
  {
   "cell_type": "code",
   "execution_count": null,
   "id": "b5f29aa8-5c7c-4296-982c-0513030fcda7",
   "metadata": {},
   "outputs": [],
   "source": [
    "mean_of_chanels == (multichannel[0,:,:]/2 + multichannel[1,:,:]/2) # or divide by two first"
   ]
  },
  {
   "cell_type": "markdown",
   "id": "7288c862-1209-43a3-b495-a5035bcca27b",
   "metadata": {
    "jp-MarkdownHeadingCollapsed": true
   },
   "source": [
    "### Task: compute the max projection \n",
    "\n",
    "Have a table of numpy operations instead of the link. Let the participants plot a bunch of them\n",
    "task: max intensity and plot\n",
    "Tip: https://numpy.org/doc/2.2/reference/routines.statistics.html "
   ]
  },
  {
   "cell_type": "markdown",
   "id": "4772b436-422b-4c62-bf94-50e070e32f63",
   "metadata": {},
   "source": [
    "### Solution"
   ]
  },
  {
   "cell_type": "code",
   "execution_count": 86,
   "id": "b97ff6ef-4f11-4e4f-b94e-9044eea94b8c",
   "metadata": {},
   "outputs": [],
   "source": [
    "maxproject = np.max(multichannel, axis = 0)"
   ]
  },
  {
   "cell_type": "code",
   "execution_count": 88,
   "id": "65a577fb-d920-48ec-a9ea-265b1467113d",
   "metadata": {},
   "outputs": [
    {
     "data": {
      "image/png": "[encoded data removed]",
      "text/plain": [
       "<Figure size 640x480 with 2 Axes>"
      ]
     },
     "metadata": {},
     "output_type": "display_data"
    }
   ],
   "source": [
    "simpleplot(np.max(multichannel, axis = 0))"
   ]
  },
  {
   "cell_type": "markdown",
   "id": "a3a77cb5-77ba-46d9-834d-47fc11fcfabc",
   "metadata": {},
   "source": [
    "# 3. Visualization"
   ]
  },
  {
   "cell_type": "markdown",
   "id": "bf9e06b7-50c4-405a-a046-51d050a1b2f2",
   "metadata": {},
   "source": [
    "## 3.1. Visualization using Matplotlib"
   ]
  },
  {
   "cell_type": "code",
   "execution_count": null,
   "id": "5d4f71cf-6efd-45b8-8946-41c59d30b44d",
   "metadata": {},
   "outputs": [],
   "source": [
    "def show_2_channels(image):\n",
    "    \n",
    "    fig, axes = plt.subplots(1, 2, figsize=(6, 3))\n",
    "    \n",
    "    for i in range(2):\n",
    "        im = axes[i].imshow(image[i, :, :], cmap='gray', vmin=0, vmax=255)\n",
    "        axes[i].imshow(image[i, :, :], cmap='gray', vmin=0, vmax=255)\n",
    "        axes[i].set_title(f'Channel {i}')\n",
    "        axes[i].axis('off')\n",
    "        # Add colorbar for this subplot\n",
    "        fig.colorbar(im, ax=axes[i], fraction=0.046, pad=0.04)\n",
    "\n",
    "    plt.tight_layout()\n",
    "    plt.show()"
   ]
  },
  {
   "cell_type": "code",
   "execution_count": null,
   "id": "2a3a1945-9882-43c2-9a52-c1b58180ebb4",
   "metadata": {
    "scrolled": true
   },
   "outputs": [],
   "source": [
    "show_2_channels(multichannel)"
   ]
  },
  {
   "cell_type": "code",
   "execution_count": null,
   "id": "c4dea4b1-553c-4299-a4e8-c9aa068f089f",
   "metadata": {},
   "outputs": [],
   "source": [
    "# Task: plot all channels of the following image. Write a function show_all_channels(). "
   ]
  },
  {
   "cell_type": "code",
   "execution_count": null,
   "id": "380faf7e-e6cc-44f3-9800-e6eb1e6075a5",
   "metadata": {},
   "outputs": [],
   "source": [
    "threechannel = np.random.randint(0, 256, size=(3, 5, 5), dtype=np.uint8)"
   ]
  },
  {
   "cell_type": "code",
   "execution_count": null,
   "id": "23ed7491-ef86-4ab1-940b-b3a60bab0bf4",
   "metadata": {},
   "outputs": [],
   "source": [
    "np.shape(threechannel)[0]"
   ]
  },
  {
   "cell_type": "code",
   "execution_count": null,
   "id": "13876979-14d7-4331-b9fb-54cb476f3c6d",
   "metadata": {},
   "outputs": [],
   "source": [
    "show_2_channels(threechannel)"
   ]
  },
  {
   "cell_type": "code",
   "execution_count": null,
   "id": "89f48de6-2f49-41f9-81c9-005a069bf8f9",
   "metadata": {},
   "outputs": [],
   "source": [
    "def show_all_channels(image, n_channels = None):\n",
    "    if not n_channels: \n",
    "        nchannels = np.shape(image)[0]\n",
    "    fig, axes = plt.subplots(1, nchannels, figsize=(6, 3))\n",
    "    for i in range(nchannels):\n",
    "        im = axes[i].imshow(image[i, :, ], cmap='gray', vmin=0, vmax=255)\n",
    "        axes[i].imshow(image[i, :, :], cmap='gray', vmin=0, vmax=255)\n",
    "        axes[i].set_title(f'Channel {i}')\n",
    "        axes[i].axis('off')\n",
    "        # Add colorbar for this subplot\n",
    "        fig.colorbar(im, ax=axes[i], fraction=0.046, pad=0.04)\n",
    "\n",
    "    plt.tight_layout()\n",
    "    plt.show()"
   ]
  },
  {
   "cell_type": "code",
   "execution_count": null,
   "id": "08feddbb-0789-44fb-b9af-2a1c2cc8af59",
   "metadata": {
    "scrolled": true
   },
   "outputs": [],
   "source": [
    "show_all_channels(threechannel)"
   ]
  },
  {
   "cell_type": "markdown",
   "id": "f58d56c5-d3ae-4af0-935a-ceab2b8684b4",
   "metadata": {},
   "source": [
    "## 3.2 Visualization using ndv"
   ]
  },
  {
   "cell_type": "code",
   "execution_count": 91,
   "id": "eada9d31-ac6d-43c6-bf41-458a904d1781",
   "metadata": {},
   "outputs": [
    {
     "data": {
      "text/plain": [
       "\u001b[31mSignature:\u001b[39m\n",
       "ndv.imshow(\n",
       "    data: \u001b[33m'Any | DataWrapper'\u001b[39m,\n",
       "    /,\n",
       "    *,\n",
       "    viewer_options: \u001b[33m'ArrayViewerModel | ArrayViewerModelKwargs | None'\u001b[39m = \u001b[38;5;28;01mNone\u001b[39;00m,\n",
       "    display_model: \u001b[33m'ArrayDisplayModel | None'\u001b[39m = \u001b[38;5;28;01mNone\u001b[39;00m,\n",
       "    **display_kwargs: \u001b[33m'Unpack[ArrayDisplayModelKwargs]'\u001b[39m,\n",
       ") -> \u001b[33m'ArrayViewer'\u001b[39m\n",
       "\u001b[31mDocstring:\u001b[39m\n",
       "Display an array or DataWrapper in a new `ArrayViewer` window.\n",
       "\n",
       "This convenience function creates an `ArrayViewer` instance populated with `data`,\n",
       "calls `show()` on it, and then runs the application.\n",
       "\n",
       "Parameters\n",
       "----------\n",
       "data : Any | DataWrapper\n",
       "    The data to be displayed. Any ArrayLike object or an `ndv.DataWrapper`.\n",
       "display_model: ArrayDisplayModel, optional\n",
       "    The display model to use. If not provided, a new one will be created.\n",
       "viewer_options: ArrayViewerModel | ArrayViewerModelKwargs, optional\n",
       "    Either a [`ArrayViewerModel`][ndv.models.ArrayViewerModel] or a dictionary of\n",
       "    keyword arguments used to create one.\n",
       "    See docs for [`ArrayViewerModel`][ndv.models.ArrayViewerModel] for options.\n",
       "**display_kwargs : Unpack[ArrayDisplayModelKwargs]\n",
       "    Additional keyword arguments used to create the\n",
       "    [`ArrayDisplayModel`][ndv.models.ArrayDisplayModel]. (Generally, this is\n",
       "    used instead of passing a `display_model` directly.)\n",
       "\n",
       "Returns\n",
       "-------\n",
       "ArrayViewer\n",
       "    The `ArrayViewer` instance.\n",
       "\u001b[31mFile:\u001b[39m      ~/.cache/uv/environments-v2/juv-tmp-khug18z7-6b79745ffd23a6b7/lib/python3.12/site-packages/ndv/util.py\n",
       "\u001b[31mType:\u001b[39m      function"
      ]
     },
     "metadata": {},
     "output_type": "display_data"
    }
   ],
   "source": [
    "ndv.imshow?"
   ]
  },
  {
   "cell_type": "code",
   "execution_count": null,
   "id": "33521c86-0d80-4ecc-a9d9-30a460c2f672",
   "metadata": {},
   "outputs": [],
   "source": [
    "#Time (T), Channel (C), Z (Z), Y, X"
   ]
  },
  {
   "cell_type": "code",
   "execution_count": 90,
   "id": "6447e249-0919-4c84-a7db-827df29f267d",
   "metadata": {},
   "outputs": [
    {
     "data": {
      "text/plain": [
       "array([[0, 0, 0, 0, 0],\n",
       "       [0, 0, 0, 0, 0],\n",
       "       [0, 0, 0, 0, 0],\n",
       "       [0, 0, 0, 0, 0],\n",
       "       [0, 0, 0, 0, 0]], dtype=uint8)"
      ]
     },
     "execution_count": 90,
     "metadata": {},
     "output_type": "execute_result"
    }
   ],
   "source": [
    "image"
   ]
  },
  {
   "cell_type": "code",
   "execution_count": null,
   "id": "218861ed-2562-47d3-ae7d-8b43355cf456",
   "metadata": {},
   "outputs": [],
   "source": []
  }
 ],
 "metadata": {
  "kernelspec": {
   "display_name": "Python 3 (ipykernel)",
   "language": "python",
   "name": "python3"
  },
  "language_info": {
   "codemirror_mode": {
    "name": "ipython",
    "version": 3
   },
   "file_extension": ".py",
   "mimetype": "text/x-python",
   "name": "python",
   "nbconvert_exporter": "python",
   "pygments_lexer": "ipython3",
   "version": "3.12.11"
  }
 },
 "nbformat": 4,
 "nbformat_minor": 5
}
