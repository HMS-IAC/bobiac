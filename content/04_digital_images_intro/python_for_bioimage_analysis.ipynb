{
 "cells": [
  {
   "cell_type": "markdown",
   "id": "1e143171-ec06-461d-af9b-52f8eb14add7",
   "metadata": {},
   "source": [
    "# Python for bioimage analysis"
   ]
  },
  {
   "cell_type": "code",
   "execution_count": 1,
   "id": "95186589",
   "metadata": {},
   "outputs": [],
   "source": [
    "# /// script\n",
    "# requires-python = \">=3.12\"\n",
    "# dependencies = [\n",
    "#     \"bioio\",\n",
    "#     \"bioio-nd2\",\n",
    "#     \"bioio-tifffile\",\n",
    "#     \"imageio\",\n",
    "#     \"matplotlib\",\n",
    "#     \"ndv[jupyter,vispy]\",\n",
    "#     \"numpy\",\n",
    "#     \"rich\",\n",
    "# ]\n",
    "# ///"
   ]
  },
  {
   "cell_type": "markdown",
   "id": "299466fb-9262-4346-bde1-84cb2e0abe9a",
   "metadata": {},
   "source": [
    "format later:\n",
    "Description\n",
    "\n",
    "In this Notebook...\n",
    "Objectives\n",
    "\n",
    "    ...\n",
    "    ...\n",
    "\n",
    "Table of Contentss\n",
    "\n",
    "    ...\n",
    "    ...\n",
    "\n"
   ]
  },
  {
   "cell_type": "markdown",
   "id": "881de5ae-438c-4ccd-ac3c-feef99f716f7",
   "metadata": {},
   "source": [
    "# 1. Import all necessary libraries"
   ]
  },
  {
   "cell_type": "code",
   "execution_count": 2,
   "id": "96fc0a64-ddbf-4cff-96a8-41ff95b9851e",
   "metadata": {},
   "outputs": [],
   "source": [
    "import numpy as np\n",
    "import matplotlib.pyplot as plt\n",
    "import ndv\n",
    "from bioio import BioImage\n",
    "import bioio_tifffile\n",
    "import imageio\n",
    "import bioio\n",
    "from rich import print"
   ]
  },
  {
   "cell_type": "markdown",
   "id": "b4565262-8272-4d8b-933b-bd0d40c2109d",
   "metadata": {},
   "source": [
    "# 2. Read images "
   ]
  },
  {
   "cell_type": "markdown",
   "id": "9de38239-4aeb-42b2-9f08-ac3c0f1283ef",
   "metadata": {},
   "source": [
    "There are many ways of reading image files. \n",
    "[bioio](https://github.com/bioio-devs/bioio)\n",
    "can read images of different file-formats.  \n",
    "Different fileformats require different [plugins](https://github.com/bioio-devs/bioio) \n",
    "\n",
    "\n",
    "We use [bioio-tifffile](https://github.com/bioio-devs/bioio-tifffile) to read tiff files.  \n",
    "\n",
    "We have already installed it to this jupyter notebook by using \n",
    "\n",
    "`juv add python_for_bioimage_analysis.ipynb bioio-tifffile`\n",
    "\n",
    "You can find it at the top of the notebook.  "
   ]
  },
  {
   "cell_type": "code",
   "execution_count": 3,
   "id": "7dacc1ff-3598-46d9-878c-45d52c07636e",
   "metadata": {},
   "outputs": [
    {
     "name": "stdout",
     "output_type": "stream",
     "text": [
      "bioio-nd2\n",
      "  Author  : Not Specified\n",
      "  Version : 1.1.0\n",
      "  License : MIT License\n",
      "  Date    : 2025-06-13 15:48:20.400735\n",
      "  Supported Extensions : .nd2\n",
      "bioio-tifffile\n",
      "  Author  : Not Specified\n",
      "  Version : 1.1.0\n",
      "  License : MIT License\n",
      "  Date    : 2025-06-13 15:48:19.997036\n",
      "  Supported Extensions : tif, tiff, lsm\n",
      "Plugins for extensions:\n",
      ".lsm: [PluginEntry(entrypoint=EntryPoint(name='bioio-tifffile', value='bioio_tifffile', group='bioio.readers'), metadata=<class 'bioio_tifffile.reader_metadata.ReaderMetadata'>, timestamp=1749844099.997036)]\n",
      ".nd2: [PluginEntry(entrypoint=EntryPoint(name='bioio-nd2', value='bioio_nd2', group='bioio.readers'), metadata=<class 'bioio_nd2.reader_metadata.ReaderMetadata'>, timestamp=1749844100.4007351)]\n",
      ".tif: [PluginEntry(entrypoint=EntryPoint(name='bioio-tifffile', value='bioio_tifffile', group='bioio.readers'), metadata=<class 'bioio_tifffile.reader_metadata.ReaderMetadata'>, timestamp=1749844099.997036)]\n",
      ".tiff: [PluginEntry(entrypoint=EntryPoint(name='bioio-tifffile', value='bioio_tifffile', group='bioio.readers'), metadata=<class 'bioio_tifffile.reader_metadata.ReaderMetadata'>, timestamp=1749844099.997036)]\n"
     ]
    }
   ],
   "source": [
    "bioio.plugins.dump_plugins()"
   ]
  },
  {
   "cell_type": "markdown",
   "id": "c4fb0076-3502-4395-81d4-0bed3fc001b0",
   "metadata": {},
   "source": [
    "### Example: Read a tif file using bioio\n",
    "BioImage loads the image and metadata into a container "
   ]
  },
  {
   "cell_type": "code",
   "execution_count": 87,
   "id": "71bf52ff-b8a5-4b1f-8b00-717e96b9e6f2",
   "metadata": {},
   "outputs": [],
   "source": [
    "img = BioImage(\"/Users/mariatheiss/Documents/Teaching/bobiac/confocal-series.tif\")"
   ]
  },
  {
   "cell_type": "code",
   "execution_count": 88,
   "id": "e6312e09-c69a-429a-896f-3d51dea00ad0",
   "metadata": {},
   "outputs": [
    {
     "data": {
      "text/plain": [
       "dtype('uint8')"
      ]
     },
     "execution_count": 88,
     "metadata": {},
     "output_type": "execute_result"
    }
   ],
   "source": [
    "img.dtype"
   ]
  },
  {
   "cell_type": "code",
   "execution_count": 89,
   "id": "f29c824f-0499-4303-b8c3-947dadbf12ee",
   "metadata": {},
   "outputs": [
    {
     "data": {
      "text/plain": [
       "bioio.bio_image.BioImage"
      ]
     },
     "execution_count": 89,
     "metadata": {},
     "output_type": "execute_result"
    }
   ],
   "source": [
    "type(img)"
   ]
  },
  {
   "cell_type": "markdown",
   "id": "a2b1c905-9373-47e0-8ab1-9d54a6637c07",
   "metadata": {},
   "source": [
    "Below are a few examples of operations on this container\n",
    "\n",
    "```python \n",
    "## Operations \n",
    "\n",
    "# Get a BioImage object\n",
    "img = BioImage(\"my_file.tiff\")  # selects the first scene found\n",
    "img.data  # returns 5D TCZYX numpy array\n",
    "img.xarray_data  # returns 5D TCZYX xarray data array backed by numpy\n",
    "img.dims  # returns a Dimensions object\n",
    "img.dims.order  # returns string \"TCZYX\"\n",
    "img.dims.X  # returns size of X dimension\n",
    "img.shape  # returns tuple of dimension sizes in TCZYX order\n",
    "img.get_image_data(\"CZYX\", T=0)  # returns 4D CZYX numpy array\n",
    "\n",
    "```"
   ]
  },
  {
   "cell_type": "markdown",
   "id": "8c37ed7f-c36d-4fbe-be50-be6aa7d7e882",
   "metadata": {},
   "source": [
    "You can try them out "
   ]
  },
  {
   "cell_type": "code",
   "execution_count": 102,
   "id": "c6e06d59-daee-4b49-8af5-5cda16ab4918",
   "metadata": {},
   "outputs": [
    {
     "data": {
      "text/plain": [
       "'TCZYX'"
      ]
     },
     "execution_count": 102,
     "metadata": {},
     "output_type": "execute_result"
    }
   ],
   "source": [
    "img.dims.order"
   ]
  },
  {
   "cell_type": "code",
   "execution_count": 83,
   "id": "a8d53384-531a-41ca-8cba-45e5b09fae8b",
   "metadata": {},
   "outputs": [
    {
     "data": {
      "text/plain": [
       "<Dimensions [T: 1, C: 2, Z: 25, Y: 400, X: 400]>"
      ]
     },
     "execution_count": 83,
     "metadata": {},
     "output_type": "execute_result"
    }
   ],
   "source": [
    "img.dims"
   ]
  },
  {
   "cell_type": "markdown",
   "id": "fbae4140-bbe4-4444-acfa-6258f28f4707",
   "metadata": {},
   "source": [
    "### Extract a numpy array from data"
   ]
  },
  {
   "cell_type": "code",
   "execution_count": 104,
   "id": "4b3515c6-cfb2-4a0b-8a9c-2bd2f7acc3d4",
   "metadata": {},
   "outputs": [],
   "source": [
    "stack = img.data"
   ]
  },
  {
   "cell_type": "code",
   "execution_count": 105,
   "id": "76dcc1f1-1959-424d-9c82-3d9808d59b7a",
   "metadata": {
    "scrolled": true
   },
   "outputs": [
    {
     "data": {
      "text/plain": [
       "dtype('uint8')"
      ]
     },
     "execution_count": 105,
     "metadata": {},
     "output_type": "execute_result"
    }
   ],
   "source": [
    "stack.dtype"
   ]
  },
  {
   "cell_type": "markdown",
   "id": "bc2dfc73-9b93-4566-8083-1c3b0705681a",
   "metadata": {},
   "source": [
    "### Get rid of axes of length one"
   ]
  },
  {
   "cell_type": "code",
   "execution_count": 106,
   "id": "8535d9b2-a764-4edb-9fc0-00cdcbdf2097",
   "metadata": {},
   "outputs": [
    {
     "data": {
      "text/plain": [
       "(1, 2, 25, 400, 400)"
      ]
     },
     "execution_count": 106,
     "metadata": {},
     "output_type": "execute_result"
    }
   ],
   "source": [
    "stack.shape"
   ]
  },
  {
   "cell_type": "markdown",
   "id": "657add97-9938-4c43-b3bf-e149fffd6e1f",
   "metadata": {},
   "source": [
    "Let's generate dummy arrays to understand what the axis of size 1 does "
   ]
  },
  {
   "cell_type": "code",
   "execution_count": 136,
   "id": "184487a2-b056-405c-999b-25b6f6052c72",
   "metadata": {},
   "outputs": [
    {
     "data": {
      "text/html": [
       "<pre style=\"white-space:pre;overflow-x:auto;line-height:normal;font-family:Menlo,'DejaVu Sans Mono',consolas,'Courier New',monospace\"><span style=\"font-weight: bold\">[[[</span><span style=\"color: #008080; text-decoration-color: #008080; font-weight: bold\">0</span><span style=\"font-weight: bold\">]</span>\n",
       "  <span style=\"font-weight: bold\">[</span><span style=\"color: #008080; text-decoration-color: #008080; font-weight: bold\">1</span><span style=\"font-weight: bold\">]</span>\n",
       "  <span style=\"font-weight: bold\">[</span><span style=\"color: #008080; text-decoration-color: #008080; font-weight: bold\">2</span><span style=\"font-weight: bold\">]]]</span>\n",
       "</pre>\n"
      ],
      "text/plain": [
       "\u001b[1m[\u001b[0m\u001b[1m[\u001b[0m\u001b[1m[\u001b[0m\u001b[1;36m0\u001b[0m\u001b[1m]\u001b[0m\n",
       "  \u001b[1m[\u001b[0m\u001b[1;36m1\u001b[0m\u001b[1m]\u001b[0m\n",
       "  \u001b[1m[\u001b[0m\u001b[1;36m2\u001b[0m\u001b[1m]\u001b[0m\u001b[1m]\u001b[0m\u001b[1m]\u001b[0m\n"
      ]
     },
     "metadata": {},
     "output_type": "display_data"
    },
    {
     "data": {
      "text/html": [
       "<pre style=\"white-space:pre;overflow-x:auto;line-height:normal;font-family:Menlo,'DejaVu Sans Mono',consolas,'Courier New',monospace\"><span style=\"font-weight: bold\">(</span><span style=\"color: #008080; text-decoration-color: #008080; font-weight: bold\">1</span>, <span style=\"color: #008080; text-decoration-color: #008080; font-weight: bold\">3</span>, <span style=\"color: #008080; text-decoration-color: #008080; font-weight: bold\">1</span><span style=\"font-weight: bold\">)</span>\n",
       "</pre>\n"
      ],
      "text/plain": [
       "\u001b[1m(\u001b[0m\u001b[1;36m1\u001b[0m, \u001b[1;36m3\u001b[0m, \u001b[1;36m1\u001b[0m\u001b[1m)\u001b[0m\n"
      ]
     },
     "metadata": {},
     "output_type": "display_data"
    }
   ],
   "source": [
    "unsqueezed = np.array([[[0], [1], [2]]]) # There's extra brackets! \n",
    "print(unsqueezed)\n",
    "print(unsqueezed.shape)"
   ]
  },
  {
   "cell_type": "code",
   "execution_count": 137,
   "id": "827ed5c8-e816-42ff-87e8-24fc44f50b0d",
   "metadata": {},
   "outputs": [
    {
     "data": {
      "text/html": [
       "<pre style=\"white-space:pre;overflow-x:auto;line-height:normal;font-family:Menlo,'DejaVu Sans Mono',consolas,'Courier New',monospace\"><span style=\"font-weight: bold\">[</span><span style=\"color: #008080; text-decoration-color: #008080; font-weight: bold\">0</span> <span style=\"color: #008080; text-decoration-color: #008080; font-weight: bold\">1</span> <span style=\"color: #008080; text-decoration-color: #008080; font-weight: bold\">2</span><span style=\"font-weight: bold\">]</span>\n",
       "</pre>\n"
      ],
      "text/plain": [
       "\u001b[1m[\u001b[0m\u001b[1;36m0\u001b[0m \u001b[1;36m1\u001b[0m \u001b[1;36m2\u001b[0m\u001b[1m]\u001b[0m\n"
      ]
     },
     "metadata": {},
     "output_type": "display_data"
    },
    {
     "data": {
      "text/html": [
       "<pre style=\"white-space:pre;overflow-x:auto;line-height:normal;font-family:Menlo,'DejaVu Sans Mono',consolas,'Courier New',monospace\"><span style=\"font-weight: bold\">(</span><span style=\"color: #008080; text-decoration-color: #008080; font-weight: bold\">3</span>,<span style=\"font-weight: bold\">)</span>\n",
       "</pre>\n"
      ],
      "text/plain": [
       "\u001b[1m(\u001b[0m\u001b[1;36m3\u001b[0m,\u001b[1m)\u001b[0m\n"
      ]
     },
     "metadata": {},
     "output_type": "display_data"
    }
   ],
   "source": [
    "squeezed = np.array([0, 1, 2])\n",
    "print(squeezed)\n",
    "print(squeezed.shape)"
   ]
  },
  {
   "cell_type": "code",
   "execution_count": 138,
   "id": "6da9e5ec-c4d8-4536-a1c4-fc880a3b00c0",
   "metadata": {},
   "outputs": [
    {
     "data": {
      "text/html": [
       "<pre style=\"white-space:pre;overflow-x:auto;line-height:normal;font-family:Menlo,'DejaVu Sans Mono',consolas,'Courier New',monospace\"><span style=\"font-weight: bold\">[[</span><span style=\"color: #008080; text-decoration-color: #008080; font-weight: bold\">0</span><span style=\"font-weight: bold\">]</span>\n",
       " <span style=\"font-weight: bold\">[</span><span style=\"color: #008080; text-decoration-color: #008080; font-weight: bold\">1</span><span style=\"font-weight: bold\">]</span>\n",
       " <span style=\"font-weight: bold\">[</span><span style=\"color: #008080; text-decoration-color: #008080; font-weight: bold\">2</span><span style=\"font-weight: bold\">]]</span>\n",
       "</pre>\n"
      ],
      "text/plain": [
       "\u001b[1m[\u001b[0m\u001b[1m[\u001b[0m\u001b[1;36m0\u001b[0m\u001b[1m]\u001b[0m\n",
       " \u001b[1m[\u001b[0m\u001b[1;36m1\u001b[0m\u001b[1m]\u001b[0m\n",
       " \u001b[1m[\u001b[0m\u001b[1;36m2\u001b[0m\u001b[1m]\u001b[0m\u001b[1m]\u001b[0m\n"
      ]
     },
     "metadata": {},
     "output_type": "display_data"
    },
    {
     "data": {
      "text/html": [
       "<pre style=\"white-space:pre;overflow-x:auto;line-height:normal;font-family:Menlo,'DejaVu Sans Mono',consolas,'Courier New',monospace\"><span style=\"font-weight: bold\">(</span><span style=\"color: #008080; text-decoration-color: #008080; font-weight: bold\">3</span>, <span style=\"color: #008080; text-decoration-color: #008080; font-weight: bold\">1</span><span style=\"font-weight: bold\">)</span>\n",
       "</pre>\n"
      ],
      "text/plain": [
       "\u001b[1m(\u001b[0m\u001b[1;36m3\u001b[0m, \u001b[1;36m1\u001b[0m\u001b[1m)\u001b[0m\n"
      ]
     },
     "metadata": {},
     "output_type": "display_data"
    }
   ],
   "source": [
    "# one way of handling dimensions of size 1, is to index them\n",
    "print(unsqueezed[0])\n",
    "print(unsqueezed[0].shape)"
   ]
  },
  {
   "cell_type": "markdown",
   "id": "9301cbcf-cad0-46c8-8c39-69dcb889c046",
   "metadata": {},
   "source": [
    ".squeeze() gets rid of all dimensions of size 1"
   ]
  },
  {
   "cell_type": "code",
   "execution_count": 139,
   "id": "c9f1cc23-4ba3-428c-a5d9-08e23fb8ef93",
   "metadata": {},
   "outputs": [
    {
     "data": {
      "text/html": [
       "<pre style=\"white-space:pre;overflow-x:auto;line-height:normal;font-family:Menlo,'DejaVu Sans Mono',consolas,'Courier New',monospace\"><span style=\"font-weight: bold\">[</span><span style=\"color: #008080; text-decoration-color: #008080; font-weight: bold\">0</span> <span style=\"color: #008080; text-decoration-color: #008080; font-weight: bold\">1</span> <span style=\"color: #008080; text-decoration-color: #008080; font-weight: bold\">2</span><span style=\"font-weight: bold\">]</span>\n",
       "</pre>\n"
      ],
      "text/plain": [
       "\u001b[1m[\u001b[0m\u001b[1;36m0\u001b[0m \u001b[1;36m1\u001b[0m \u001b[1;36m2\u001b[0m\u001b[1m]\u001b[0m\n"
      ]
     },
     "metadata": {},
     "output_type": "display_data"
    },
    {
     "data": {
      "text/html": [
       "<pre style=\"white-space:pre;overflow-x:auto;line-height:normal;font-family:Menlo,'DejaVu Sans Mono',consolas,'Courier New',monospace\"><span style=\"font-weight: bold\">(</span><span style=\"color: #008080; text-decoration-color: #008080; font-weight: bold\">3</span>,<span style=\"font-weight: bold\">)</span>\n",
       "</pre>\n"
      ],
      "text/plain": [
       "\u001b[1m(\u001b[0m\u001b[1;36m3\u001b[0m,\u001b[1m)\u001b[0m\n"
      ]
     },
     "metadata": {},
     "output_type": "display_data"
    }
   ],
   "source": [
    "print(unsqueezed.squeeze())\n",
    "print(unsqueezed.squeeze().shape)"
   ]
  },
  {
   "cell_type": "markdown",
   "id": "81a9878f-a24b-470c-bc66-4a5156487484",
   "metadata": {},
   "source": [
    "### Task: apply this to `stack`\n",
    "### Solution: "
   ]
  },
  {
   "cell_type": "code",
   "execution_count": 140,
   "id": "1db3ba59-ae9b-436a-bd3a-701b28a33d38",
   "metadata": {},
   "outputs": [],
   "source": [
    "stack = stack.squeeze()"
   ]
  },
  {
   "cell_type": "code",
   "execution_count": 141,
   "id": "ffa0ab5d-e668-4509-9b93-77425d7aed1d",
   "metadata": {},
   "outputs": [
    {
     "data": {
      "text/plain": [
       "(2, 25, 400, 400)"
      ]
     },
     "execution_count": 141,
     "metadata": {},
     "output_type": "execute_result"
    }
   ],
   "source": [
    "stack.shape"
   ]
  },
  {
   "cell_type": "markdown",
   "id": "8f47a007-597f-4d6b-a692-6437f85ac71f",
   "metadata": {},
   "source": [
    "# 3. View images using ndv"
   ]
  },
  {
   "cell_type": "code",
   "execution_count": 142,
   "id": "577f7050-312b-4381-8f43-a273f51d7e6e",
   "metadata": {},
   "outputs": [
    {
     "data": {
      "application/vnd.jupyter.widget-view+json": {
       "model_id": "038b8a18cb424e6daa0751e616eff97f",
       "version_major": 2,
       "version_minor": 0
      },
      "text/plain": [
       "RFBOutputContext()"
      ]
     },
     "metadata": {},
     "output_type": "display_data"
    },
    {
     "data": {
      "application/javascript": [
       "\n",
       "        (function() {\n",
       "            function setup_rightclick() {\n",
       "                // Get all buttons with the right-click-button class\n",
       "                var button = document.getElementsByClassName(\n",
       "                    'right-click-buttonNone'\n",
       "                )[0];\n",
       "                if (!button) {\n",
       "                    return;\n",
       "                }\n",
       "\n",
       "                // For each button, add a contextmenu listener\n",
       "                button.addEventListener('contextmenu', function(e) {\n",
       "                    // Prevent default context menu\n",
       "                    e.preventDefault();\n",
       "                    e.stopPropagation();\n",
       "\n",
       "                    // Get button position\n",
       "                    var rect = this.getBoundingClientRect();\n",
       "                    var scrollLeft = window.pageXOffset ||\n",
       "                        document.documentElement.scrollLeft;\n",
       "                    var scrollTop = window.pageYOffset ||\n",
       "                        document.documentElement.scrollTop;\n",
       "\n",
       "                    // Position the popup above the button\n",
       "                    var popup = document.getElementsByClassName(\n",
       "                        'ipywidget-popupNone'\n",
       "                    )[0];\n",
       "                    popup.style.display = '';\n",
       "                    popup.style.position = 'absolute';\n",
       "                    popup.style.top = (rect.bottom + scrollTop) + 'px';\n",
       "                    popup.style.left = (rect.left + scrollLeft) + 'px';\n",
       "\n",
       "                    // Style the popup\n",
       "                    popup.style.background = 'white';\n",
       "                    popup.style.border = '1px solid #ccc';\n",
       "                    popup.style.borderRadius = '3px';\n",
       "                    popup.style.padding = '8px';\n",
       "                    popup.style.boxShadow = '0 2px 5px rgba(0,0,0,0.2)';\n",
       "                    popup.style.zIndex = '1000';\n",
       "\n",
       "                    // Add to body\n",
       "                    document.body.appendChild(popup);\n",
       "\n",
       "                    // Close popup when clicking elsewhere\n",
       "                    document.addEventListener('click', function closePopup(event) {\n",
       "                        var popup = document.getElementsByClassName(\n",
       "                            'ipywidget-popupNone'\n",
       "                        )[0];\n",
       "                        if (popup && !popup.contains(event.target)) {\n",
       "                            popup.style.display = 'none';\n",
       "                            document.removeEventListener('click', closePopup);\n",
       "                        }\n",
       "                    });\n",
       "\n",
       "                    return false;\n",
       "                });\n",
       "            }\n",
       "\n",
       "            // Make sure it works even after widget is redrawn/updated\n",
       "            setTimeout(setup_rightclick, 1000);\n",
       "        })();\n",
       "        "
      ],
      "text/plain": [
       "<IPython.core.display.Javascript object>"
      ]
     },
     "metadata": {},
     "output_type": "display_data"
    },
    {
     "data": {
      "application/vnd.jupyter.widget-view+json": {
       "model_id": "f7bcb9c342fa42448c19c1573bf0c64d",
       "version_major": 2,
       "version_minor": 0
      },
      "text/plain": [
       "VBox(children=(BoundedFloatText(value=0.0, description='Ignore Lower Tail:', step=0.1, style=DescriptionStyle(…"
      ]
     },
     "metadata": {},
     "output_type": "display_data"
    },
    {
     "data": {
      "application/vnd.jupyter.widget-view+json": {
       "model_id": "b7fe0a08f8154bd594f50dfd98dabc06",
       "version_major": 2,
       "version_minor": 0
      },
      "text/plain": [
       "VBox(children=(HBox(children=(Label(value='.ndarray (2, 25, 400, 400), uint8, 7.63MB'), Image(value=b'GIF89a\\x…"
      ]
     },
     "metadata": {},
     "output_type": "display_data"
    },
    {
     "data": {
      "text/plain": [
       "<ndv.controllers._array_viewer.ArrayViewer at 0x140f22420>"
      ]
     },
     "execution_count": 142,
     "metadata": {},
     "output_type": "execute_result"
    }
   ],
   "source": [
    "ndv.imshow(stack)"
   ]
  },
  {
   "cell_type": "markdown",
   "id": "bebf4e6b-f739-406d-ad1d-cc7ab6f4a983",
   "metadata": {},
   "source": [
    "# 2. Images as numpy arrays "
   ]
  },
  {
   "cell_type": "code",
   "execution_count": 14,
   "id": "9db79f95-b4ce-411f-a7eb-c5045dba9fcc",
   "metadata": {},
   "outputs": [],
   "source": [
    "# TODO: Explain here how to open an image first "
   ]
  },
  {
   "cell_type": "markdown",
   "id": "6bd31864-a0ca-412c-8c35-06e9af8fddb6",
   "metadata": {},
   "source": [
    "## 2.1. Loading or generating images "
   ]
  },
  {
   "cell_type": "code",
   "execution_count": 15,
   "id": "5d06d033-a25d-44af-808f-90af5cd93964",
   "metadata": {},
   "outputs": [],
   "source": [
    "image = np.zeros([5,5], dtype=np.uint8) # explain everything here\n",
    "image = np.array(stack[0,12,250:255,250:255])"
   ]
  },
  {
   "cell_type": "markdown",
   "id": "5e446998-b17f-4675-8541-4ef632ba4e7c",
   "metadata": {},
   "source": [
    "## 2.2. Inspecting the images"
   ]
  },
  {
   "cell_type": "code",
   "execution_count": 16,
   "id": "5d9ce98e-e2d1-4a9b-bc50-1cff0f77d180",
   "metadata": {},
   "outputs": [
    {
     "data": {
      "text/plain": [
       "array([[24, 25, 34, 22, 18],\n",
       "       [34, 30, 37, 25, 18],\n",
       "       [32, 46, 50, 29, 32],\n",
       "       [37, 34, 37, 25, 37],\n",
       "       [36, 34, 29, 43, 32]], dtype=uint8)"
      ]
     },
     "execution_count": 16,
     "metadata": {},
     "output_type": "execute_result"
    }
   ],
   "source": [
    "image "
   ]
  },
  {
   "cell_type": "code",
   "execution_count": 17,
   "id": "428fa62f-65a2-4825-adaf-cffdeac98211",
   "metadata": {},
   "outputs": [
    {
     "data": {
      "text/html": [
       "<pre style=\"white-space:pre;overflow-x:auto;line-height:normal;font-family:Menlo,'DejaVu Sans Mono',consolas,'Courier New',monospace\"><span style=\"font-weight: bold\">[[</span><span style=\"color: #008080; text-decoration-color: #008080; font-weight: bold\">24</span> <span style=\"color: #008080; text-decoration-color: #008080; font-weight: bold\">25</span> <span style=\"color: #008080; text-decoration-color: #008080; font-weight: bold\">34</span> <span style=\"color: #008080; text-decoration-color: #008080; font-weight: bold\">22</span> <span style=\"color: #008080; text-decoration-color: #008080; font-weight: bold\">18</span><span style=\"font-weight: bold\">]</span>\n",
       " <span style=\"font-weight: bold\">[</span><span style=\"color: #008080; text-decoration-color: #008080; font-weight: bold\">34</span> <span style=\"color: #008080; text-decoration-color: #008080; font-weight: bold\">30</span> <span style=\"color: #008080; text-decoration-color: #008080; font-weight: bold\">37</span> <span style=\"color: #008080; text-decoration-color: #008080; font-weight: bold\">25</span> <span style=\"color: #008080; text-decoration-color: #008080; font-weight: bold\">18</span><span style=\"font-weight: bold\">]</span>\n",
       " <span style=\"font-weight: bold\">[</span><span style=\"color: #008080; text-decoration-color: #008080; font-weight: bold\">32</span> <span style=\"color: #008080; text-decoration-color: #008080; font-weight: bold\">46</span> <span style=\"color: #008080; text-decoration-color: #008080; font-weight: bold\">50</span> <span style=\"color: #008080; text-decoration-color: #008080; font-weight: bold\">29</span> <span style=\"color: #008080; text-decoration-color: #008080; font-weight: bold\">32</span><span style=\"font-weight: bold\">]</span>\n",
       " <span style=\"font-weight: bold\">[</span><span style=\"color: #008080; text-decoration-color: #008080; font-weight: bold\">37</span> <span style=\"color: #008080; text-decoration-color: #008080; font-weight: bold\">34</span> <span style=\"color: #008080; text-decoration-color: #008080; font-weight: bold\">37</span> <span style=\"color: #008080; text-decoration-color: #008080; font-weight: bold\">25</span> <span style=\"color: #008080; text-decoration-color: #008080; font-weight: bold\">37</span><span style=\"font-weight: bold\">]</span>\n",
       " <span style=\"font-weight: bold\">[</span><span style=\"color: #008080; text-decoration-color: #008080; font-weight: bold\">36</span> <span style=\"color: #008080; text-decoration-color: #008080; font-weight: bold\">34</span> <span style=\"color: #008080; text-decoration-color: #008080; font-weight: bold\">29</span> <span style=\"color: #008080; text-decoration-color: #008080; font-weight: bold\">43</span> <span style=\"color: #008080; text-decoration-color: #008080; font-weight: bold\">32</span><span style=\"font-weight: bold\">]]</span>\n",
       "</pre>\n"
      ],
      "text/plain": [
       "\u001b[1m[\u001b[0m\u001b[1m[\u001b[0m\u001b[1;36m24\u001b[0m \u001b[1;36m25\u001b[0m \u001b[1;36m34\u001b[0m \u001b[1;36m22\u001b[0m \u001b[1;36m18\u001b[0m\u001b[1m]\u001b[0m\n",
       " \u001b[1m[\u001b[0m\u001b[1;36m34\u001b[0m \u001b[1;36m30\u001b[0m \u001b[1;36m37\u001b[0m \u001b[1;36m25\u001b[0m \u001b[1;36m18\u001b[0m\u001b[1m]\u001b[0m\n",
       " \u001b[1m[\u001b[0m\u001b[1;36m32\u001b[0m \u001b[1;36m46\u001b[0m \u001b[1;36m50\u001b[0m \u001b[1;36m29\u001b[0m \u001b[1;36m32\u001b[0m\u001b[1m]\u001b[0m\n",
       " \u001b[1m[\u001b[0m\u001b[1;36m37\u001b[0m \u001b[1;36m34\u001b[0m \u001b[1;36m37\u001b[0m \u001b[1;36m25\u001b[0m \u001b[1;36m37\u001b[0m\u001b[1m]\u001b[0m\n",
       " \u001b[1m[\u001b[0m\u001b[1;36m36\u001b[0m \u001b[1;36m34\u001b[0m \u001b[1;36m29\u001b[0m \u001b[1;36m43\u001b[0m \u001b[1;36m32\u001b[0m\u001b[1m]\u001b[0m\u001b[1m]\u001b[0m\n"
      ]
     },
     "metadata": {},
     "output_type": "display_data"
    }
   ],
   "source": [
    "print(image) # or using the print function. "
   ]
  },
  {
   "cell_type": "markdown",
   "id": "9355e7e7-ec16-4e40-877a-988914ec10b1",
   "metadata": {},
   "source": [
    "Let's print a few properties of image"
   ]
  },
  {
   "cell_type": "code",
   "execution_count": 18,
   "id": "5d5f72d3-1a7b-4f67-b3f8-86d994019ca6",
   "metadata": {},
   "outputs": [
    {
     "data": {
      "text/html": [
       "<pre style=\"white-space:pre;overflow-x:auto;line-height:normal;font-family:Menlo,'DejaVu Sans Mono',consolas,'Courier New',monospace\">Type of the image: <span style=\"font-weight: bold\">&lt;</span><span style=\"color: #ff00ff; text-decoration-color: #ff00ff; font-weight: bold\">class</span><span style=\"color: #000000; text-decoration-color: #000000\"> </span><span style=\"color: #008000; text-decoration-color: #008000\">'numpy.ndarray'</span><span style=\"font-weight: bold\">&gt;</span>\n",
       "</pre>\n"
      ],
      "text/plain": [
       "Type of the image: \u001b[1m<\u001b[0m\u001b[1;95mclass\u001b[0m\u001b[39m \u001b[0m\u001b[32m'numpy.ndarray'\u001b[0m\u001b[1m>\u001b[0m\n"
      ]
     },
     "metadata": {},
     "output_type": "display_data"
    },
    {
     "data": {
      "text/html": [
       "<pre style=\"white-space:pre;overflow-x:auto;line-height:normal;font-family:Menlo,'DejaVu Sans Mono',consolas,'Courier New',monospace\">Shape of the image: <span style=\"font-weight: bold\">(</span><span style=\"color: #008080; text-decoration-color: #008080; font-weight: bold\">5</span>, <span style=\"color: #008080; text-decoration-color: #008080; font-weight: bold\">5</span><span style=\"font-weight: bold\">)</span>\n",
       "</pre>\n"
      ],
      "text/plain": [
       "Shape of the image: \u001b[1m(\u001b[0m\u001b[1;36m5\u001b[0m, \u001b[1;36m5\u001b[0m\u001b[1m)\u001b[0m\n"
      ]
     },
     "metadata": {},
     "output_type": "display_data"
    },
    {
     "data": {
      "text/html": [
       "<pre style=\"white-space:pre;overflow-x:auto;line-height:normal;font-family:Menlo,'DejaVu Sans Mono',consolas,'Courier New',monospace\">Minimum pixel value: <span style=\"color: #008080; text-decoration-color: #008080; font-weight: bold\">18</span>\n",
       "</pre>\n"
      ],
      "text/plain": [
       "Minimum pixel value: \u001b[1;36m18\u001b[0m\n"
      ]
     },
     "metadata": {},
     "output_type": "display_data"
    },
    {
     "data": {
      "text/html": [
       "<pre style=\"white-space:pre;overflow-x:auto;line-height:normal;font-family:Menlo,'DejaVu Sans Mono',consolas,'Courier New',monospace\">Maximum pixel value: <span style=\"color: #008080; text-decoration-color: #008080; font-weight: bold\">50</span>\n",
       "</pre>\n"
      ],
      "text/plain": [
       "Maximum pixel value: \u001b[1;36m50\u001b[0m\n"
      ]
     },
     "metadata": {},
     "output_type": "display_data"
    },
    {
     "data": {
      "text/html": [
       "<pre style=\"white-space:pre;overflow-x:auto;line-height:normal;font-family:Menlo,'DejaVu Sans Mono',consolas,'Courier New',monospace\">Mean pixel value: <span style=\"color: #008080; text-decoration-color: #008080; font-weight: bold\">32.00</span>\n",
       "</pre>\n"
      ],
      "text/plain": [
       "Mean pixel value: \u001b[1;36m32.00\u001b[0m\n"
      ]
     },
     "metadata": {},
     "output_type": "display_data"
    }
   ],
   "source": [
    "print(f'Type of the image: {type(image)}') \n",
    "print(f'Shape of the image: {image.shape}')  # Dimensions of the image\n",
    "print(f'Minimum pixel value: {image.min()}')  # Min pixel value\n",
    "print(f'Maximum pixel value: {image.max()}')  # Max pixel value\n",
    "print(f'Mean pixel value: {image.mean():.2f}')  # Average pixel value"
   ]
  },
  {
   "cell_type": "markdown",
   "id": "3c9eae31-cb6c-4704-bcf7-7b6043d0bd6e",
   "metadata": {},
   "source": [
    "Now, let's generate a simple plot of the image"
   ]
  },
  {
   "cell_type": "code",
   "execution_count": 19,
   "id": "440d8048-d772-4f86-85ae-45596eb21805",
   "metadata": {},
   "outputs": [],
   "source": [
    "# TODO: first without a function, than explain function \n",
    "def simpleplot(image): # example of function \n",
    "    plt.imshow(image, cmap = \"gray\")# vmax=4)\n",
    "    plt.colorbar()\n",
    "    plt.show()"
   ]
  },
  {
   "cell_type": "code",
   "execution_count": 20,
   "id": "45db9f8a-367c-41fd-bea4-8000f8f1c9f3",
   "metadata": {},
   "outputs": [
    {
     "data": {
      "image/png": "[encoded data removed]",
      "text/plain": [
       "<Figure size 640x480 with 2 Axes>"
      ]
     },
     "metadata": {},
     "output_type": "display_data"
    }
   ],
   "source": [
    "simpleplot(image)"
   ]
  },
  {
   "cell_type": "code",
   "execution_count": 21,
   "id": "010a305b-2a70-4732-a3c6-b244f380f761",
   "metadata": {},
   "outputs": [
    {
     "data": {
      "text/plain": [
       "array([24, 25, 34, 22, 18, 34, 30, 37, 25, 18, 32, 46, 50, 29, 32, 37, 34,\n",
       "       37, 25, 37, 36, 34, 29, 43, 32], dtype=uint8)"
      ]
     },
     "execution_count": 21,
     "metadata": {},
     "output_type": "execute_result"
    }
   ],
   "source": [
    "image.flatten() # explain .flatten(). Explain graphically! "
   ]
  },
  {
   "cell_type": "code",
   "execution_count": 81,
   "id": "bdfd763c-6373-4b55-853b-f3aff7550733",
   "metadata": {},
   "outputs": [
    {
     "ename": "AttributeError",
     "evalue": "'numpy.ndarray' object has no attribute 'unsqueeze'",
     "output_type": "error",
     "traceback": [
      "\u001b[31m---------------------------------------------------------------------------\u001b[39m",
      "\u001b[31mAttributeError\u001b[39m                            Traceback (most recent call last)",
      "\u001b[36mCell\u001b[39m\u001b[36m \u001b[39m\u001b[32mIn[81]\u001b[39m\u001b[32m, line 1\u001b[39m\n\u001b[32m----> \u001b[39m\u001b[32m1\u001b[39m simpleplot(\u001b[43mimage\u001b[49m\u001b[43m.\u001b[49m\u001b[43mflatten\u001b[49m\u001b[43m(\u001b[49m\u001b[43m)\u001b[49m\u001b[43m.\u001b[49m\u001b[43munsqueeze\u001b[49m())\n",
      "\u001b[31mAttributeError\u001b[39m: 'numpy.ndarray' object has no attribute 'unsqueeze'"
     ]
    }
   ],
   "source": [
    "simpleplot(image.flatten().unsqueeze())"
   ]
  },
  {
   "cell_type": "code",
   "execution_count": 22,
   "id": "29f115be-5a8c-47d3-8e7f-ca41542861c4",
   "metadata": {},
   "outputs": [
    {
     "data": {
      "text/plain": [
       "Text(0.5, 0, 'Gray value uint8')"
      ]
     },
     "execution_count": 22,
     "metadata": {},
     "output_type": "execute_result"
    },
    {
     "data": {
      "image/png": "[encoded data removed]",
      "text/plain": [
       "<Figure size 640x480 with 1 Axes>"
      ]
     },
     "metadata": {},
     "output_type": "display_data"
    }
   ],
   "source": [
    "plt.hist(image.flatten(), bins = 256) \n",
    "plt.xlabel(f\"Gray value {image.dtype}\") # format string"
   ]
  },
  {
   "cell_type": "code",
   "execution_count": 23,
   "id": "21772d05-80d5-4254-b668-01b1cbd2235a",
   "metadata": {},
   "outputs": [],
   "source": [
    "# note: indexing discussed in previous section "
   ]
  },
  {
   "cell_type": "code",
   "execution_count": 24,
   "id": "82e48739-fd21-46b0-944e-5041cc707582",
   "metadata": {},
   "outputs": [
    {
     "data": {
      "text/plain": [
       "array([24, 25, 34, 22, 18], dtype=uint8)"
      ]
     },
     "execution_count": 24,
     "metadata": {},
     "output_type": "execute_result"
    }
   ],
   "source": [
    "# Show them how to query images. Eva introduced that using lists \n",
    "# Go slower here! \n",
    "# draw a representation\n",
    "image[0]"
   ]
  },
  {
   "cell_type": "code",
   "execution_count": 25,
   "id": "de548276-e3dd-45d0-b847-fc49fddafc1b",
   "metadata": {},
   "outputs": [
    {
     "data": {
      "text/plain": [
       "(5, 5)"
      ]
     },
     "execution_count": 25,
     "metadata": {},
     "output_type": "execute_result"
    }
   ],
   "source": [
    "image.shape"
   ]
  },
  {
   "cell_type": "code",
   "execution_count": 26,
   "id": "51fc5c7b-9f76-4ddb-a8db-4c9f6ac077e4",
   "metadata": {},
   "outputs": [],
   "source": [
    "#show first 2 "
   ]
  },
  {
   "cell_type": "code",
   "execution_count": 27,
   "id": "659d0fc2-b6af-4424-833a-bf80f6f73217",
   "metadata": {},
   "outputs": [
    {
     "data": {
      "text/plain": [
       "array([[24, 25, 34, 22, 18],\n",
       "       [34, 30, 37, 25, 18],\n",
       "       [32, 46, 50, 29, 32],\n",
       "       [37, 34, 37, 25, 37],\n",
       "       [36, 34, 29, 43, 32]], dtype=uint8)"
      ]
     },
     "execution_count": 27,
     "metadata": {},
     "output_type": "execute_result"
    }
   ],
   "source": [
    "image"
   ]
  },
  {
   "cell_type": "markdown",
   "id": "8b84118e-bd0c-496d-ba61-a3be91b7fc00",
   "metadata": {},
   "source": [
    "### Task: Make a copy of image, and name it image2 (new variable). Turn the middle pixel of image2 to 255\n",
    "And plot it\n",
    "what color is it and why \n",
    "Learning goal: \n",
    "* What does \"white\" mean\n",
    "* copying numpy arrays correctly \n",
    "* Repeat of indexing"
   ]
  },
  {
   "cell_type": "markdown",
   "id": "5f71d6a8-2686-4c08-badd-78ff5d991a52",
   "metadata": {},
   "source": [
    "### Pitfalls"
   ]
  },
  {
   "cell_type": "code",
   "execution_count": 28,
   "id": "75dcad5b-55bc-448d-8da3-b4110c3ae053",
   "metadata": {},
   "outputs": [],
   "source": [
    "image2 = image "
   ]
  },
  {
   "cell_type": "code",
   "execution_count": 29,
   "id": "83a5053f-ec48-447e-a438-412cd0554a78",
   "metadata": {},
   "outputs": [
    {
     "data": {
      "text/plain": [
       "array([[24, 25, 34, 22, 18],\n",
       "       [34, 30, 37, 25, 18],\n",
       "       [32, 46, 50, 29, 32],\n",
       "       [37, 34, 37, 25, 37],\n",
       "       [36, 34, 29, 43, 32]], dtype=uint8)"
      ]
     },
     "execution_count": 29,
     "metadata": {},
     "output_type": "execute_result"
    }
   ],
   "source": [
    "image2"
   ]
  },
  {
   "cell_type": "code",
   "execution_count": 30,
   "id": "534b96a8-750a-4fdb-9eca-21e729140b2a",
   "metadata": {},
   "outputs": [],
   "source": [
    "image2[2,2] = 255 # using a self-generated image, this will change the original image. Getting an image using plt.imread makes the original image read-only"
   ]
  },
  {
   "cell_type": "markdown",
   "id": "14354efb-8814-4ce7-b2c9-20b91525a51f",
   "metadata": {},
   "source": [
    "### Task: Now inspect the pixel values of image and image2"
   ]
  },
  {
   "cell_type": "code",
   "execution_count": 31,
   "id": "516a0f92-f8ec-4b2a-9094-5f5347fbb110",
   "metadata": {},
   "outputs": [
    {
     "data": {
      "text/plain": [
       "array([[ 24,  25,  34,  22,  18],\n",
       "       [ 34,  30,  37,  25,  18],\n",
       "       [ 32,  46, 255,  29,  32],\n",
       "       [ 37,  34,  37,  25,  37],\n",
       "       [ 36,  34,  29,  43,  32]], dtype=uint8)"
      ]
     },
     "execution_count": 31,
     "metadata": {},
     "output_type": "execute_result"
    }
   ],
   "source": [
    "image2"
   ]
  },
  {
   "cell_type": "code",
   "execution_count": 32,
   "id": "a0e5e637-c354-487b-8185-1a930c4aa70c",
   "metadata": {},
   "outputs": [
    {
     "data": {
      "text/plain": [
       "array([[ 24,  25,  34,  22,  18],\n",
       "       [ 34,  30,  37,  25,  18],\n",
       "       [ 32,  46, 255,  29,  32],\n",
       "       [ 37,  34,  37,  25,  37],\n",
       "       [ 36,  34,  29,  43,  32]], dtype=uint8)"
      ]
     },
     "execution_count": 32,
     "metadata": {},
     "output_type": "execute_result"
    }
   ],
   "source": [
    "image"
   ]
  },
  {
   "cell_type": "markdown",
   "id": "7f7491d9-48d7-4e3c-a6d3-2e3f312e1a09",
   "metadata": {},
   "source": [
    "### Solution "
   ]
  },
  {
   "cell_type": "code",
   "execution_count": 33,
   "id": "057314db-3ac7-4381-8259-5640c80f5e05",
   "metadata": {},
   "outputs": [],
   "source": [
    "image = np.zeros([5,5], dtype = np.uint8) # in case it was overwritten\n",
    "image = np.array(stack[0,12,250:255,250:255])"
   ]
  },
  {
   "cell_type": "code",
   "execution_count": 34,
   "id": "461f4593-c027-4f13-8631-78424923c5ec",
   "metadata": {},
   "outputs": [],
   "source": [
    "image2 = np.array(image)"
   ]
  },
  {
   "cell_type": "code",
   "execution_count": 35,
   "id": "e3205821-fca8-4a59-9c33-4521bfbd8d9b",
   "metadata": {},
   "outputs": [],
   "source": [
    "image2 = np.array(image, copy = True)"
   ]
  },
  {
   "cell_type": "code",
   "execution_count": 36,
   "id": "551e7daf-836f-4184-a399-b2d1ceca2068",
   "metadata": {},
   "outputs": [],
   "source": [
    "image2 = image.copy() # another solution"
   ]
  },
  {
   "cell_type": "code",
   "execution_count": 37,
   "id": "82e69472-c256-4034-a61f-38da36441f6e",
   "metadata": {},
   "outputs": [],
   "source": [
    "image2[2, 2] = 255 "
   ]
  },
  {
   "cell_type": "code",
   "execution_count": 38,
   "id": "0cdb27f4-3ea3-4e2d-9983-51c8417d0fe3",
   "metadata": {},
   "outputs": [
    {
     "data": {
      "text/plain": [
       "array([[ 24,  25,  34,  22,  18],\n",
       "       [ 34,  30,  37,  25,  18],\n",
       "       [ 32,  46, 255,  29,  32],\n",
       "       [ 37,  34,  37,  25,  37],\n",
       "       [ 36,  34,  29,  43,  32]], dtype=uint8)"
      ]
     },
     "execution_count": 38,
     "metadata": {},
     "output_type": "execute_result"
    }
   ],
   "source": [
    "image2"
   ]
  },
  {
   "cell_type": "code",
   "execution_count": 39,
   "id": "606b2199-4531-4b54-8486-810485f2ab30",
   "metadata": {},
   "outputs": [
    {
     "data": {
      "text/plain": [
       "array([[24, 25, 34, 22, 18],\n",
       "       [34, 30, 37, 25, 18],\n",
       "       [32, 46, 50, 29, 32],\n",
       "       [37, 34, 37, 25, 37],\n",
       "       [36, 34, 29, 43, 32]], dtype=uint8)"
      ]
     },
     "execution_count": 39,
     "metadata": {},
     "output_type": "execute_result"
    }
   ],
   "source": [
    "image"
   ]
  },
  {
   "cell_type": "code",
   "execution_count": 40,
   "id": "0b734b2a-8c4b-4e57-8db1-978c8884246a",
   "metadata": {},
   "outputs": [
    {
     "data": {
      "image/png": "[encoded data removed]",
      "text/plain": [
       "<Figure size 640x480 with 2 Axes>"
      ]
     },
     "metadata": {},
     "output_type": "display_data"
    }
   ],
   "source": [
    "simpleplot(image)"
   ]
  },
  {
   "cell_type": "code",
   "execution_count": 41,
   "id": "d02175dc-d350-45a2-8051-c68fe4ecd420",
   "metadata": {},
   "outputs": [],
   "source": [
    "#Task: asign a value of 255 to the central column... "
   ]
  },
  {
   "cell_type": "markdown",
   "id": "1c74dc61-f3dd-4143-9b29-e73440bdfc07",
   "metadata": {},
   "source": [
    "### Task: Make a copy of image and name it \"frame\". Assign to all pixels but the rim-pixels a value of 255\n",
    "Tip: For-loops are not necessary here! "
   ]
  },
  {
   "cell_type": "markdown",
   "id": "5a5af16d-5514-4342-b40c-66d29c4e9fb6",
   "metadata": {},
   "source": [
    "### Solution"
   ]
  },
  {
   "cell_type": "code",
   "execution_count": 42,
   "id": "c904961a-c7f1-490d-91c9-7e7e06f6dff9",
   "metadata": {},
   "outputs": [],
   "source": [
    "frame = np.array(image)"
   ]
  },
  {
   "cell_type": "code",
   "execution_count": 43,
   "id": "46e0e059-801b-403a-a94a-d891b2a6907c",
   "metadata": {},
   "outputs": [],
   "source": [
    "frame[1:-1, 1:-1] = 255\n",
    "# or, less general: image3[1:4, 1:4] = 255"
   ]
  },
  {
   "cell_type": "code",
   "execution_count": 44,
   "id": "b4b031b4-84b8-4ac2-a9e7-f407568a42b8",
   "metadata": {},
   "outputs": [
    {
     "data": {
      "image/png": "[encoded data removed]",
      "text/plain": [
       "<Figure size 640x480 with 2 Axes>"
      ]
     },
     "metadata": {},
     "output_type": "display_data"
    }
   ],
   "source": [
    "simpleplot(frame)"
   ]
  },
  {
   "cell_type": "markdown",
   "id": "9b6f6742-16d0-4dfa-a152-af2fadae2684",
   "metadata": {},
   "source": [
    "### Task: Make a copy of image and name it \"vstripes\". Assign a value of 255 to every other pixel in y to give it a vertical stripy pattern "
   ]
  },
  {
   "cell_type": "markdown",
   "id": "3e6c615a-d92f-49cd-a488-b8a1cdaa8877",
   "metadata": {},
   "source": [
    "### Solution"
   ]
  },
  {
   "cell_type": "code",
   "execution_count": 45,
   "id": "b2854280-329c-49e2-a8f8-5a34bb767c63",
   "metadata": {},
   "outputs": [],
   "source": [
    "vstripes = np.array(image)\n",
    "ymax = len(image[0]) # TODO:  is this y or is this x?\n",
    "for i in range(0, ymax, 2):\n",
    "    vstripes[:, i] = 255"
   ]
  },
  {
   "cell_type": "code",
   "execution_count": 46,
   "id": "bf3bb2da-3581-48f9-bea9-a3a46d5782fe",
   "metadata": {},
   "outputs": [
    {
     "data": {
      "text/plain": [
       "5"
      ]
     },
     "execution_count": 46,
     "metadata": {},
     "output_type": "execute_result"
    }
   ],
   "source": [
    "len(image[1])"
   ]
  },
  {
   "cell_type": "code",
   "execution_count": 47,
   "id": "c2b306f4-d518-402f-940b-b5cae072824e",
   "metadata": {},
   "outputs": [
    {
     "data": {
      "image/png": "[encoded data removed]",
      "text/plain": [
       "<Figure size 640x480 with 2 Axes>"
      ]
     },
     "metadata": {},
     "output_type": "display_data"
    }
   ],
   "source": [
    "simpleplot(vstripes)"
   ]
  },
  {
   "cell_type": "markdown",
   "id": "e0b46b93-d66b-41a6-b85c-bfd80e13c370",
   "metadata": {},
   "source": [
    "### Bonus task: generate an image \"checkerboard\" that has a checkerboard pattern. \n",
    "Tips: \n",
    "* there are multiple solutions\n",
    "* you can use image or vstripes as a template \n",
    "* % is the modulo operator. The modulo operator yields the remainder from the division of the first argument by the second. Example: 5%3 = 2\n",
    "* image.T transposes image. This means it flips the image values over the diagonal of image.\n",
    "* ^ is an exclusive or. "
   ]
  },
  {
   "cell_type": "markdown",
   "id": "64e60dcc-0cad-4a1d-85cd-574a94f44a59",
   "metadata": {},
   "source": [
    "### Solution 1"
   ]
  },
  {
   "cell_type": "code",
   "execution_count": 48,
   "id": "f31f3c46-de92-4983-a14c-f8968dd2c79b",
   "metadata": {},
   "outputs": [],
   "source": [
    "checkerboard = vstripes ^ vstripes.T"
   ]
  },
  {
   "cell_type": "code",
   "execution_count": 49,
   "id": "9a5c2eca-b0d6-49d1-a052-d50f9e522e2f",
   "metadata": {},
   "outputs": [
    {
     "data": {
      "image/png": "[encoded data removed]",
      "text/plain": [
       "<Figure size 640x480 with 2 Axes>"
      ]
     },
     "metadata": {},
     "output_type": "display_data"
    }
   ],
   "source": [
    "simpleplot(checkerboard)"
   ]
  },
  {
   "cell_type": "code",
   "execution_count": 50,
   "id": "a22d5e96-357b-4a97-ab4d-2a9e62cc6637",
   "metadata": {},
   "outputs": [
    {
     "data": {
      "text/plain": [
       "array([[  0, 230,   0, 233,   0],\n",
       "       [230,   0, 209,  59, 221],\n",
       "       [  0, 209,   0, 226,   0],\n",
       "       [233,  59, 226,   0, 212],\n",
       "       [  0, 221,   0, 212,   0]], dtype=uint8)"
      ]
     },
     "execution_count": 50,
     "metadata": {},
     "output_type": "execute_result"
    }
   ],
   "source": [
    "checkerboard"
   ]
  },
  {
   "cell_type": "markdown",
   "id": "9b9d9c86-389d-4277-8f3d-27f92acafe6a",
   "metadata": {},
   "source": [
    "### Solution 2"
   ]
  },
  {
   "cell_type": "code",
   "execution_count": 51,
   "id": "be942048-89e2-47f6-95fd-4322d16207fd",
   "metadata": {},
   "outputs": [],
   "source": [
    "checkerboard2 = np.array(image)"
   ]
  },
  {
   "cell_type": "code",
   "execution_count": 52,
   "id": "9694587a-becb-4cf8-b2b7-6c647c79b10e",
   "metadata": {
    "scrolled": true
   },
   "outputs": [],
   "source": [
    "for i in range(0, 5):\n",
    "    for j in range(0, 5):\n",
    "        checkerboard2[i, j] = 255 * ((i + j % 2) % 2)"
   ]
  },
  {
   "cell_type": "code",
   "execution_count": 53,
   "id": "06bd8cbd-adc0-480a-8bf8-13388742b996",
   "metadata": {},
   "outputs": [
    {
     "data": {
      "image/png": "[encoded data removed]",
      "text/plain": [
       "<Figure size 640x480 with 2 Axes>"
      ]
     },
     "metadata": {},
     "output_type": "display_data"
    }
   ],
   "source": [
    "simpleplot(checkerboard2)\n"
   ]
  },
  {
   "cell_type": "markdown",
   "id": "18772a6c-0dde-4276-8f34-907b7a61240a",
   "metadata": {},
   "source": [
    "## 2.2. Numpy and multichannel/z-stacks\n",
    "A\n",
    "\n",
    "Use real image! \n",
    "Learning goal: \n",
    "* handling image axes\n",
    "* avoiding int overflow, why it's a good idea to use numpy "
   ]
  },
  {
   "cell_type": "code",
   "execution_count": 54,
   "id": "7797f283-7905-46b3-8685-f518973f6d3e",
   "metadata": {},
   "outputs": [],
   "source": [
    "multichannel = np.random.randint(0, 256, size=(2, 5, 5), dtype=np.uint8)"
   ]
  },
  {
   "cell_type": "code",
   "execution_count": 55,
   "id": "c3bcfcff-3eaa-4d90-8d12-ae80f18a77d8",
   "metadata": {},
   "outputs": [
    {
     "data": {
      "text/plain": [
       "(2, 5, 5)"
      ]
     },
     "execution_count": 55,
     "metadata": {},
     "output_type": "execute_result"
    }
   ],
   "source": [
    "multichannel.shape # print and describe"
   ]
  },
  {
   "cell_type": "code",
   "execution_count": 56,
   "id": "57d0fb67-cd4b-4785-8e46-95cfa0aa7ddc",
   "metadata": {},
   "outputs": [
    {
     "data": {
      "text/plain": [
       "array([[[ 89, 172,  15, 252,  11],\n",
       "        [161, 213, 180,  66, 199],\n",
       "        [232, 192, 151, 104, 224],\n",
       "        [215, 188,  12, 223, 194],\n",
       "        [ 63, 118, 203, 247,  31]],\n",
       "\n",
       "       [[247,  65,  61,   8, 173],\n",
       "        [163, 222, 213,  91, 214],\n",
       "        [ 52, 167,   9,  15, 187],\n",
       "        [111,  24,   1, 111, 156],\n",
       "        [  7,  90, 199,  68, 195]]], dtype=uint8)"
      ]
     },
     "execution_count": 56,
     "metadata": {},
     "output_type": "execute_result"
    }
   ],
   "source": [
    "multichannel # print datatype"
   ]
  },
  {
   "cell_type": "markdown",
   "id": "3c0763e4-8eee-4de7-8a99-fb1721d71e09",
   "metadata": {},
   "source": [
    "### Task: plot the first channel"
   ]
  },
  {
   "cell_type": "code",
   "execution_count": 57,
   "id": "fa098464-2d16-484c-b958-c46632e2acfc",
   "metadata": {},
   "outputs": [
    {
     "data": {
      "text/plain": [
       "(5, 5)"
      ]
     },
     "execution_count": 57,
     "metadata": {},
     "output_type": "execute_result"
    }
   ],
   "source": [
    "# also print the shape \n",
    "multichannel[0,:,:].shape"
   ]
  },
  {
   "cell_type": "code",
   "execution_count": 58,
   "id": "476d52f2-c684-4011-8392-e93af6a4dca9",
   "metadata": {},
   "outputs": [
    {
     "data": {
      "image/png": "[encoded data removed]",
      "text/plain": [
       "<Figure size 640x480 with 2 Axes>"
      ]
     },
     "metadata": {},
     "output_type": "display_data"
    }
   ],
   "source": [
    "simpleplot(multichannel[0,:,:])"
   ]
  },
  {
   "cell_type": "markdown",
   "id": "a4aefbc9-4e42-45fa-9a12-f4d52117d255",
   "metadata": {},
   "source": [
    "### Task: plot the second channel"
   ]
  },
  {
   "cell_type": "code",
   "execution_count": 59,
   "id": "123c673a-88dc-43d6-b81d-e4af7fb48a1f",
   "metadata": {},
   "outputs": [
    {
     "data": {
      "image/png": "[encoded data removed]",
      "text/plain": [
       "<Figure size 640x480 with 2 Axes>"
      ]
     },
     "metadata": {},
     "output_type": "display_data"
    }
   ],
   "source": [
    "simpleplot(multichannel[1,:,:])"
   ]
  },
  {
   "cell_type": "markdown",
   "id": "b1237542-ec85-4965-ae07-c7d2416aa09f",
   "metadata": {},
   "source": [
    "### Task: generate an image that is the mean of channel 0 and channel 1: \"mean projection\" \n",
    "TODO: Not of channels, of stacks\n",
    "collapse image \"multichannel\" into a single-channel image by averaging the values in each channel at every pixel. The result should be a (5, 5) array where each value represents the mean of the two original channels at that position. This is called the mean projection\n",
    "\n",
    "Tip: https://numpy.org/doc/2.2/reference/routines.statistics.html "
   ]
  },
  {
   "cell_type": "code",
   "execution_count": 60,
   "id": "3421c330-6052-45c1-921a-08cc615929d6",
   "metadata": {},
   "outputs": [
    {
     "data": {
      "image/png": "[encoded data removed]",
      "text/plain": [
       "<Figure size 640x480 with 2 Axes>"
      ]
     },
     "metadata": {},
     "output_type": "display_data"
    }
   ],
   "source": [
    "mean_of_chanels = np.mean(multichannel, axis = 0)\n",
    "simpleplot(mean_of_chanels)"
   ]
  },
  {
   "cell_type": "code",
   "execution_count": 61,
   "id": "98867783-ac4d-4338-ba8b-3d6117520923",
   "metadata": {},
   "outputs": [
    {
     "data": {
      "text/plain": [
       "array([[168. , 118.5,  38. , 130. ,  92. ],\n",
       "       [162. , 217.5, 196.5,  78.5, 206.5],\n",
       "       [142. , 179.5,  80. ,  59.5, 205.5],\n",
       "       [163. , 106. ,   6.5, 167. , 175. ],\n",
       "       [ 35. , 104. , 201. , 157.5, 113. ]])"
      ]
     },
     "execution_count": 61,
     "metadata": {},
     "output_type": "execute_result"
    }
   ],
   "source": [
    "mean_of_chanels"
   ]
  },
  {
   "cell_type": "markdown",
   "id": "f62d9bab-8965-4dac-8974-77749863f874",
   "metadata": {},
   "source": [
    "### Task: sanity-check whether np.mean does what you expect it to do without using numpy "
   ]
  },
  {
   "cell_type": "markdown",
   "id": "110b651f-c7ba-44b6-8084-95c30bc9e412",
   "metadata": {},
   "source": [
    "### Pitfall"
   ]
  },
  {
   "cell_type": "code",
   "execution_count": 62,
   "id": "01cd6e87-9445-4681-a43b-14a03d46ea4f",
   "metadata": {},
   "outputs": [
    {
     "data": {
      "text/plain": [
       "array([[False,  True,  True, False,  True],\n",
       "       [False, False, False,  True, False],\n",
       "       [False, False,  True,  True, False],\n",
       "       [False,  True,  True, False, False],\n",
       "       [ True,  True, False, False,  True]])"
      ]
     },
     "execution_count": 62,
     "metadata": {},
     "output_type": "execute_result"
    }
   ],
   "source": [
    "channel1 = multichannel[0,:,:]\n",
    "channel2 = multichannel[1,:,:]\n",
    "\n",
    "mean_of_chanels == (channel1 + channel2)/2 # integer overflow "
   ]
  },
  {
   "cell_type": "code",
   "execution_count": 63,
   "id": "6e36c770-4baf-4160-b2a5-4f83f08c548f",
   "metadata": {},
   "outputs": [
    {
     "data": {
      "text/plain": [
       "array([[168. , 118.5,  38. , 130. ,  92. ],\n",
       "       [162. , 217.5, 196.5,  78.5, 206.5],\n",
       "       [142. , 179.5,  80. ,  59.5, 205.5],\n",
       "       [163. , 106. ,   6.5, 167. , 175. ],\n",
       "       [ 35. , 104. , 201. , 157.5, 113. ]])"
      ]
     },
     "execution_count": 63,
     "metadata": {},
     "output_type": "execute_result"
    }
   ],
   "source": [
    "mean_of_chanels "
   ]
  },
  {
   "cell_type": "markdown",
   "id": "406a947c-5a69-4969-8afe-e5d7975bb6f4",
   "metadata": {},
   "source": [
    "### Solution 1"
   ]
  },
  {
   "cell_type": "code",
   "execution_count": 64,
   "id": "f22f380f-87e8-4a4e-8247-a7893c904a25",
   "metadata": {},
   "outputs": [
    {
     "data": {
      "text/plain": [
       "array([[168. , 118.5,  38. , 130. ,  92. ],\n",
       "       [162. , 217.5, 196.5,  78.5, 206.5],\n",
       "       [142. , 179.5,  80. ,  59.5, 205.5],\n",
       "       [163. , 106. ,   6.5, 167. , 175. ],\n",
       "       [ 35. , 104. , 201. , 157.5, 113. ]])"
      ]
     },
     "execution_count": 64,
     "metadata": {},
     "output_type": "execute_result"
    }
   ],
   "source": [
    "(multichannel[0,:,:].astype(np.uint16) + multichannel[1,:,:].astype(np.uint16))/2 "
   ]
  },
  {
   "cell_type": "code",
   "execution_count": 65,
   "id": "c50ccc01-2601-40b9-85a2-4c4eec12212e",
   "metadata": {},
   "outputs": [
    {
     "data": {
      "text/plain": [
       "array([[ True,  True,  True,  True,  True],\n",
       "       [ True,  True,  True,  True,  True],\n",
       "       [ True,  True,  True,  True,  True],\n",
       "       [ True,  True,  True,  True,  True],\n",
       "       [ True,  True,  True,  True,  True]])"
      ]
     },
     "execution_count": 65,
     "metadata": {},
     "output_type": "execute_result"
    }
   ],
   "source": [
    "mean_of_chanels == (multichannel[0,:,:].astype(np.uint16) + multichannel[1,:,:].astype(np.uint16))/2 #cast to unint16 #TODO: too advanced, remove!"
   ]
  },
  {
   "cell_type": "markdown",
   "id": "ed0c01a2-8cd0-4ff3-9de5-43add38d4af2",
   "metadata": {},
   "source": [
    "### Solution 2"
   ]
  },
  {
   "cell_type": "code",
   "execution_count": 66,
   "id": "b5f29aa8-5c7c-4296-982c-0513030fcda7",
   "metadata": {},
   "outputs": [
    {
     "data": {
      "text/plain": [
       "array([[ True,  True,  True,  True,  True],\n",
       "       [ True,  True,  True,  True,  True],\n",
       "       [ True,  True,  True,  True,  True],\n",
       "       [ True,  True,  True,  True,  True],\n",
       "       [ True,  True,  True,  True,  True]])"
      ]
     },
     "execution_count": 66,
     "metadata": {},
     "output_type": "execute_result"
    }
   ],
   "source": [
    "mean_of_chanels == (multichannel[0,:,:]/2 + multichannel[1,:,:]/2) # or divide by two first"
   ]
  },
  {
   "cell_type": "markdown",
   "id": "7288c862-1209-43a3-b495-a5035bcca27b",
   "metadata": {
    "jp-MarkdownHeadingCollapsed": true
   },
   "source": [
    "### Task: compute the max projection \n",
    "\n",
    "Have a table of numpy operations instead of the link. Let the participants plot a bunch of them\n",
    "task: max intensity and plot\n",
    "Tip: https://numpy.org/doc/2.2/reference/routines.statistics.html "
   ]
  },
  {
   "cell_type": "markdown",
   "id": "4772b436-422b-4c62-bf94-50e070e32f63",
   "metadata": {},
   "source": [
    "### Solution"
   ]
  },
  {
   "cell_type": "code",
   "execution_count": 67,
   "id": "b97ff6ef-4f11-4e4f-b94e-9044eea94b8c",
   "metadata": {},
   "outputs": [],
   "source": [
    "maxproject = np.max(multichannel, axis = 0)"
   ]
  },
  {
   "cell_type": "code",
   "execution_count": 68,
   "id": "65a577fb-d920-48ec-a9ea-265b1467113d",
   "metadata": {},
   "outputs": [
    {
     "data": {
      "image/png": "[encoded data removed]",
      "text/plain": [
       "<Figure size 640x480 with 2 Axes>"
      ]
     },
     "metadata": {},
     "output_type": "display_data"
    }
   ],
   "source": [
    "simpleplot(np.max(multichannel, axis = 0))"
   ]
  },
  {
   "cell_type": "markdown",
   "id": "a3a77cb5-77ba-46d9-834d-47fc11fcfabc",
   "metadata": {},
   "source": [
    "# 3. Visualization"
   ]
  },
  {
   "cell_type": "markdown",
   "id": "bf9e06b7-50c4-405a-a046-51d050a1b2f2",
   "metadata": {},
   "source": [
    "## 3.1. Visualization using Matplotlib"
   ]
  },
  {
   "cell_type": "code",
   "execution_count": 69,
   "id": "5d4f71cf-6efd-45b8-8946-41c59d30b44d",
   "metadata": {},
   "outputs": [],
   "source": [
    "def show_2_channels(image):\n",
    "    \n",
    "    fig, axes = plt.subplots(1, 2, figsize=(6, 3))\n",
    "    \n",
    "    for i in range(2):\n",
    "        im = axes[i].imshow(image[i, :, :], cmap='gray', vmin=0, vmax=255)\n",
    "        axes[i].imshow(image[i, :, :], cmap='gray', vmin=0, vmax=255)\n",
    "        axes[i].set_title(f'Channel {i}')\n",
    "        axes[i].axis('off')\n",
    "        # Add colorbar for this subplot\n",
    "        fig.colorbar(im, ax=axes[i], fraction=0.046, pad=0.04)\n",
    "\n",
    "    plt.tight_layout()\n",
    "    plt.show()"
   ]
  },
  {
   "cell_type": "code",
   "execution_count": 70,
   "id": "2a3a1945-9882-43c2-9a52-c1b58180ebb4",
   "metadata": {
    "scrolled": true
   },
   "outputs": [
    {
     "data": {
      "image/png": "[encoded data removed]",
      "text/plain": [
       "<Figure size 600x300 with 4 Axes>"
      ]
     },
     "metadata": {},
     "output_type": "display_data"
    }
   ],
   "source": [
    "show_2_channels(multichannel)"
   ]
  },
  {
   "cell_type": "code",
   "execution_count": 71,
   "id": "c4dea4b1-553c-4299-a4e8-c9aa068f089f",
   "metadata": {},
   "outputs": [],
   "source": [
    "# Task: plot all channels of the following image. Write a function show_all_channels(). "
   ]
  },
  {
   "cell_type": "code",
   "execution_count": 72,
   "id": "380faf7e-e6cc-44f3-9800-e6eb1e6075a5",
   "metadata": {},
   "outputs": [],
   "source": [
    "threechannel = np.random.randint(0, 256, size=(3, 5, 5), dtype=np.uint8)"
   ]
  },
  {
   "cell_type": "code",
   "execution_count": 73,
   "id": "23ed7491-ef86-4ab1-940b-b3a60bab0bf4",
   "metadata": {},
   "outputs": [
    {
     "data": {
      "text/plain": [
       "3"
      ]
     },
     "execution_count": 73,
     "metadata": {},
     "output_type": "execute_result"
    }
   ],
   "source": [
    "np.shape(threechannel)[0]"
   ]
  },
  {
   "cell_type": "code",
   "execution_count": 74,
   "id": "13876979-14d7-4331-b9fb-54cb476f3c6d",
   "metadata": {},
   "outputs": [
    {
     "data": {
      "image/png": "[encoded data removed]",
      "text/plain": [
       "<Figure size 600x300 with 4 Axes>"
      ]
     },
     "metadata": {},
     "output_type": "display_data"
    }
   ],
   "source": [
    "show_2_channels(threechannel)"
   ]
  },
  {
   "cell_type": "code",
   "execution_count": 75,
   "id": "89f48de6-2f49-41f9-81c9-005a069bf8f9",
   "metadata": {},
   "outputs": [],
   "source": [
    "def show_all_channels(image, n_channels = None):\n",
    "    if not n_channels: \n",
    "        nchannels = np.shape(image)[0]\n",
    "    fig, axes = plt.subplots(1, nchannels, figsize=(6, 3))\n",
    "    for i in range(nchannels):\n",
    "        im = axes[i].imshow(image[i, :, ], cmap='gray', vmin=0, vmax=255)\n",
    "        axes[i].imshow(image[i, :, :], cmap='gray', vmin=0, vmax=255)\n",
    "        axes[i].set_title(f'Channel {i}')\n",
    "        axes[i].axis('off')\n",
    "        # Add colorbar for this subplot\n",
    "        fig.colorbar(im, ax=axes[i], fraction=0.046, pad=0.04)\n",
    "\n",
    "    plt.tight_layout()\n",
    "    plt.show()"
   ]
  },
  {
   "cell_type": "code",
   "execution_count": 76,
   "id": "08feddbb-0789-44fb-b9af-2a1c2cc8af59",
   "metadata": {
    "scrolled": true
   },
   "outputs": [
    {
     "data": {
      "image/png": "[encoded data removed]",
      "text/plain": [
       "<Figure size 600x300 with 6 Axes>"
      ]
     },
     "metadata": {},
     "output_type": "display_data"
    }
   ],
   "source": [
    "show_all_channels(threechannel)"
   ]
  },
  {
   "cell_type": "markdown",
   "id": "f58d56c5-d3ae-4af0-935a-ceab2b8684b4",
   "metadata": {},
   "source": [
    "## 3.2 Visualization using ndv"
   ]
  },
  {
   "cell_type": "code",
   "execution_count": 77,
   "id": "eada9d31-ac6d-43c6-bf41-458a904d1781",
   "metadata": {},
   "outputs": [
    {
     "data": {
      "text/plain": [
       "\u001b[31mSignature:\u001b[39m\n",
       "ndv.imshow(\n",
       "    data: \u001b[33m'Any | DataWrapper'\u001b[39m,\n",
       "    /,\n",
       "    *,\n",
       "    viewer_options: \u001b[33m'ArrayViewerModel | ArrayViewerModelKwargs | None'\u001b[39m = \u001b[38;5;28;01mNone\u001b[39;00m,\n",
       "    display_model: \u001b[33m'ArrayDisplayModel | None'\u001b[39m = \u001b[38;5;28;01mNone\u001b[39;00m,\n",
       "    **display_kwargs: \u001b[33m'Unpack[ArrayDisplayModelKwargs]'\u001b[39m,\n",
       ") -> \u001b[33m'ArrayViewer'\u001b[39m\n",
       "\u001b[31mDocstring:\u001b[39m\n",
       "Display an array or DataWrapper in a new `ArrayViewer` window.\n",
       "\n",
       "This convenience function creates an `ArrayViewer` instance populated with `data`,\n",
       "calls `show()` on it, and then runs the application.\n",
       "\n",
       "Parameters\n",
       "----------\n",
       "data : Any | DataWrapper\n",
       "    The data to be displayed. Any ArrayLike object or an `ndv.DataWrapper`.\n",
       "display_model: ArrayDisplayModel, optional\n",
       "    The display model to use. If not provided, a new one will be created.\n",
       "viewer_options: ArrayViewerModel | ArrayViewerModelKwargs, optional\n",
       "    Either a [`ArrayViewerModel`][ndv.models.ArrayViewerModel] or a dictionary of\n",
       "    keyword arguments used to create one.\n",
       "    See docs for [`ArrayViewerModel`][ndv.models.ArrayViewerModel] for options.\n",
       "**display_kwargs : Unpack[ArrayDisplayModelKwargs]\n",
       "    Additional keyword arguments used to create the\n",
       "    [`ArrayDisplayModel`][ndv.models.ArrayDisplayModel]. (Generally, this is\n",
       "    used instead of passing a `display_model` directly.)\n",
       "\n",
       "Returns\n",
       "-------\n",
       "ArrayViewer\n",
       "    The `ArrayViewer` instance.\n",
       "\u001b[31mFile:\u001b[39m      ~/.cache/uv/environments-v2/juv-tmp-8bcf-xmo-2a53f5f3a8cf51a6/lib/python3.12/site-packages/ndv/util.py\n",
       "\u001b[31mType:\u001b[39m      function"
      ]
     },
     "metadata": {},
     "output_type": "display_data"
    }
   ],
   "source": [
    "ndv.imshow?"
   ]
  },
  {
   "cell_type": "code",
   "execution_count": 78,
   "id": "33521c86-0d80-4ecc-a9d9-30a460c2f672",
   "metadata": {},
   "outputs": [],
   "source": [
    "#Time (T), Channel (C), Z (Z), Y, X"
   ]
  },
  {
   "cell_type": "code",
   "execution_count": 79,
   "id": "6447e249-0919-4c84-a7db-827df29f267d",
   "metadata": {},
   "outputs": [
    {
     "data": {
      "text/plain": [
       "array([[24, 25, 34, 22, 18],\n",
       "       [34, 30, 37, 25, 18],\n",
       "       [32, 46, 50, 29, 32],\n",
       "       [37, 34, 37, 25, 37],\n",
       "       [36, 34, 29, 43, 32]], dtype=uint8)"
      ]
     },
     "execution_count": 79,
     "metadata": {},
     "output_type": "execute_result"
    }
   ],
   "source": [
    "image"
   ]
  },
  {
   "cell_type": "code",
   "execution_count": null,
   "id": "218861ed-2562-47d3-ae7d-8b43355cf456",
   "metadata": {},
   "outputs": [],
   "source": []
  }
 ],
 "metadata": {
  "kernelspec": {
   "display_name": "Python 3 (ipykernel)",
   "language": "python",
   "name": "python3"
  },
  "language_info": {
   "codemirror_mode": {
    "name": "ipython",
    "version": 3
   },
   "file_extension": ".py",
   "mimetype": "text/x-python",
   "name": "python",
   "nbconvert_exporter": "python",
   "pygments_lexer": "ipython3",
   "version": "3.12.11"
  }
 },
 "nbformat": 4,
 "nbformat_minor": 5
}
