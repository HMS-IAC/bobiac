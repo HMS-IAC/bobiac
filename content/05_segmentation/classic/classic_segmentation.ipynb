{
 "cells": [
  {
   "cell_type": "markdown",
   "id": "16a60488",
   "metadata": {},
   "source": [
    "# Classic Segmentation\n",
    "\n",
    "<div class=\"custom-button-row\">\n",
    "    <a \n",
    "        class=\"custom-button custom-download-button\" href=\"../../notebooks/4_python_basics/Intro_to_Python_II.ipynb\" download>\n",
    "        <i class=\"fas fa-download\"></i> Download this Notebook\n",
    "    </a>\n",
    "    <a\n",
    "    class=\"custom-button custom-download-button\" href=\"https://colab.research.google.com/github/HMS-IAC/bobiac/blob/gh-pages/colab_notebooks/4_python_basics/Intro_to_Python_II.ipynb\" target=\"_blank\">\n",
    "        <img class=\"button-icon\" src=\"../../_static/logo/icon-google-colab.svg\" alt=\"Open in Colab\">\n",
    "        Open in Colab\n",
    "    </a>\n",
    "</div>"
   ]
  },
  {
   "cell_type": "code",
   "execution_count": 1,
   "id": "9f33553a",
   "metadata": {
    "jupyter": {
     "source_hidden": true
    }
   },
   "outputs": [],
   "source": [
    "# /// script\n",
    "# requires-python = \">=3.10\"\n",
    "# ///\n",
    "\n",
    "# Standard library imports (no need to declare in dependencies)"
   ]
  },
  {
   "cell_type": "markdown",
   "id": "0ab370b9",
   "metadata": {},
   "source": [
    "This notebook covers the following steps in building a **classic segmentation pipeline**:\n",
    "\n",
    "| Step | Concept | Why it matters |\n",
    "|---------|---------|----------------|\n",
    "| 0 | Setup | Import necessary packages |\n",
    "| 1 | Loading an Image | Open tif image and display it |\n",
    "| 2 | Filtering | Learn how to process images to improve thresholding results |\n",
    "| 3 | Thresholding | Learn how to use thresholding to generate a binary mask |\n",
    "| 4 | Labeling | Learn how to label binary masks |\n",
    "| 5 | Mask Refinement | Learn how to use watershed segmentation to refine binary masks |\n",
    "| 6 | Processing Many Images | Learn how to apply these processing steps to many images |\n",
    "\n",
    "\n",
    "Each chapter has:\n",
    "\n",
    "1. **Summary** – review core concepts from lecture.\n",
    "2. ✍️ **Exercise** – _your turn_ to write code!"
   ]
  },
  {
   "cell_type": "markdown",
   "id": "94c41893",
   "metadata": {},
   "source": [
    "***"
   ]
  },
  {
   "cell_type": "markdown",
   "id": "5eaf93b8",
   "metadata": {},
   "source": [
    "## 0. Setup"
   ]
  },
  {
   "cell_type": "markdown",
   "id": "66cd7d03",
   "metadata": {},
   "source": [
    "**Concept.**  \n",
    "We are going to be using existing Python packages for classic segmentation, so we need to specify them at the beginning of our code. This is called specifying our **dependencies**. It's standard practice to specify all dependencies at the very beginning of your code.\n",
    "\n",
    "For learning purposes, we will import everything here at the beginning, and then refer back to what each package is at the relevant step. "
   ]
  },
  {
   "cell_type": "markdown",
   "id": "7fb27b941602401d91542211134fc71a",
   "metadata": {},
   "source": [
    "### ✍️ Exercise: Run the following code block to specify our dependencies"
   ]
  },
  {
   "cell_type": "code",
   "execution_count": null,
   "id": "acae54e37e7d407bbb7b55eff062a284",
   "metadata": {},
   "outputs": [],
   "source": [
    "# specify dependencies\n",
    "import ndv\n",
    "import numpy as np\n",
    "import tifffile\n",
    "from scipy import ndimage as ndi\n",
    "from skimage.color import label2rgb\n",
    "from skimage.feature import peak_local_max\n",
    "from skimage.filters import gaussian, threshold_otsu\n",
    "from skimage.measure import label\n",
    "from skimage.segmentation import watershed"
   ]
  },
  {
   "cell_type": "markdown",
   "id": "68d79a7a",
   "metadata": {},
   "source": [
    "***"
   ]
  },
  {
   "cell_type": "markdown",
   "id": "fcf30588",
   "metadata": {},
   "source": [
    "## 1. Loading an Image"
   ]
  },
  {
   "cell_type": "markdown",
   "id": "c5317c0e",
   "metadata": {},
   "source": [
    "**Concept.**\n",
    "To work with an image in Python, we need to specify where the image file is so that we can **read**, or load, it. Once the image file is read, we can **view** it and process it.  \n",
    "\n",
    "### Specifying your file's path\n",
    "Once you have found your file's path, you should assign it to a variable to make it easy to work with. Here's an example:\n",
    "```python\n",
    "file_path = '/Users/edelase/HMS Dropbox/Eva de la Serna/Eva_CITE_folder/projects/bobiac/lectures/classic_segmentation/img.tif'\n",
    "```\n",
    "\n",
    "**❗️CAUTION❗️** Be wary of spaces in folder names, as they sometimes cause terminal to add `\\` or `/` to file directories where they should not be. It is best practice to always use `_` in folder names whenever you would have wanted to have a space.\n",
    "\n",
    "**🗒️ NOTE:** Specifying file paths is a common task outside of image segmentation with Python, so some of you may have experience with this already. Note the terminology though. An individual file's location is a **path**. A folder's path containing an individual or multiple files is called a **directory**."
   ]
  },
  {
   "cell_type": "markdown",
   "id": "0c2962de",
   "metadata": {},
   "source": [
    "### ✍️ Exercise: Run the code below to specify the image file's path"
   ]
  },
  {
   "cell_type": "code",
   "execution_count": 1,
   "id": "95a2b64c",
   "metadata": {},
   "outputs": [],
   "source": [
    "image_path = \"/Users/edelase/HMS Dropbox/Eva de la Serna/Eva_CITE_folder/projects/bobiac/lectures/classic_segmentation/DAPI_wf_0.tif\""
   ]
  },
  {
   "cell_type": "markdown",
   "id": "61607421",
   "metadata": {},
   "source": [
    "### Reading an image\n",
    "There are many different ways to read image files in Python. In this lesson, we are using the Python package `tifffile`, to read .tif image files. In order to read an image with `tifffile`, we will need to import it, which we have already done in Setup, and then provide it with the image's path:\n",
    "```python\n",
    "import tifffile # we did this in 0. Setup\n",
    "raw_image = tifffile.imread(image_path)\n",
    "```\n",
    "`tifffile.imread()` will use that `image_path` you inputted to find your file and read it. It will then return the read file. Since we will be wanting to work with this file, we assign it to the variable `raw_image` for easy reference. "
   ]
  },
  {
   "cell_type": "markdown",
   "id": "14084981",
   "metadata": {},
   "source": [
    "### ✍️ Exercise: Run the following code to read the image "
   ]
  },
  {
   "cell_type": "code",
   "execution_count": 2,
   "id": "f752d458",
   "metadata": {},
   "outputs": [],
   "source": [
    "raw_image = tifffile.imread(image_path)"
   ]
  },
  {
   "cell_type": "markdown",
   "id": "4ae4186f",
   "metadata": {},
   "source": [
    "### Viewing the image\n",
    "In Python, reading the image and viewing it are two separate actions. Now that we have read the image and assigned it to the variable `raw_image`, we can view it using `ndv`, which we imported in setup. \n",
    "\n",
    "| Package Name | Description | How to import it | Documentation Link | \n",
    "|---------|---------|----------------| ----------------|\n",
    "| ndv | Multi-dimensional image viewer | `import ndv` | [ndv](https://pypi.org/project/ndv/) |\n",
    "\n",
    "We can use ndv to view `raw_image` as follows: \n",
    "```python\n",
    "ndv.imshow(raw_image)\n",
    "```\n",
    "`ndv.imshow()` will use that `raw_image` you inputted to display your image. It will then return the image displayed in the ndv viewer. "
   ]
  },
  {
   "cell_type": "markdown",
   "id": "624c494d",
   "metadata": {},
   "source": [
    "### ✍️ Exercise: Run the following code to view the image "
   ]
  },
  {
   "cell_type": "code",
   "execution_count": null,
   "id": "9e7447ab",
   "metadata": {
    "tags": [
     "skip-execution"
    ]
   },
   "outputs": [],
   "source": [
    "ndv.imshow(raw_image)"
   ]
  },
  {
   "cell_type": "code",
   "execution_count": null,
   "id": "938c804e27f84196a10c8828c723f798",
   "metadata": {
    "tags": [
     "remove-input",
     "remove-output"
    ]
   },
   "outputs": [],
   "source": [
    "viewer = ndv.imshow(raw_image)"
   ]
  },
  {
   "cell_type": "code",
   "execution_count": null,
   "id": "504fb2a444614c0babb325280ed9130a",
   "metadata": {
    "tags": [
     "remove-input"
    ]
   },
   "outputs": [],
   "source": [
    "viewer.widget().children[1].snapshot()"
   ]
  },
  {
   "cell_type": "markdown",
   "id": "9a63283cbaf04dbcab1f6479b197f3a8",
   "metadata": {},
   "source": [
    "***"
   ]
  },
  {
   "cell_type": "markdown",
   "id": "2dff935a",
   "metadata": {},
   "source": [
    "## 2. Filtering"
   ]
  },
  {
   "cell_type": "markdown",
   "id": "7e517d3d",
   "metadata": {},
   "source": [
    "**Concept.**  \n",
    "**Filters** change image pixel values using a **mathematical operation** to smooth and reduce **noise** from images. They can help improve thresholding results. \n",
    "\n",
    "### Applying a filter to an image\n",
    "There are many different filters we can apply. Here's a summary of the ones we covered in depth in lecture: \n",
    "| Filter Name | Description | How to import it | Documentation Link | \n",
    "|---------|---------|----------------| ----------------|\n",
    "| mean filter | For a given kernel size, sums values in a list and and then divides by the total number of values | `from skimage.filters.rank import mean` | [skimage.filters.rank.mean](https://scikit-image.org/docs/0.25.x/api/skimage.filters.rank.html#skimage.filters.rank.mean) |\n",
    "| Gaussian blur filter | For a given kernel size, multiply each value by a Gaussian profile weighting, then divide by the total number of values | `from skimage.filters import gaussian` | [skimmage.filters.gaussian](https://scikit-image.org/docs/dev/api/skimage.filters.html#skimage.filters.gaussian) |\n",
    "| median filter | For a given kernel size, take the middle number in a sorted list of numbers | `from skimage.filters import median` | [skimage.filters.median](https://scikit-image.org/docs/dev/api/skimage.filters.html#skimage.filters.median) |\n"
   ]
  },
  {
   "cell_type": "markdown",
   "id": "8dd0d8092fe74a7c96281538738b07e2",
   "metadata": {},
   "source": [
    "### ✍️ Exercise: Write code to apply a Gaussian blur filter to `raw_image` and assign it to the variable `filtered_image`\n",
    "Remember - we already imported the gaussian function from skimage.filters in Setup!"
   ]
  },
  {
   "cell_type": "code",
   "execution_count": null,
   "id": "72eea5119410473aa328ad9291626812",
   "metadata": {
    "tags": [
     "teacher"
    ]
   },
   "outputs": [],
   "source": [
    "filtered_image = gaussian(raw_image)"
   ]
  },
  {
   "cell_type": "markdown",
   "id": "40465674",
   "metadata": {},
   "source": [
    "***"
   ]
  },
  {
   "cell_type": "markdown",
   "id": "3dc95a1a",
   "metadata": {},
   "source": [
    "## 3. Thresholding"
   ]
  },
  {
   "cell_type": "markdown",
   "id": "8a24d030",
   "metadata": {},
   "source": [
    "**Concept.**  \n",
    "**Thresholding** is when we select a range of digital values, or **intensity values**, in the image. These selected values are how we define regions of the image we are interested in. "
   ]
  },
  {
   "cell_type": "markdown",
   "id": "5d8902ba",
   "metadata": {},
   "source": [
    "### Defining a threshold\n",
    "We need to define a minimum intensity cutoff which separates the **background** (what we don't care about) from the **foreground** (what we do care about). We can manually pick a an intensity value as this cutoff value like below:\n",
    "```python\n",
    "min_threshold = 50\n",
    "```\n",
    "\n",
    "However, manually changing the value assigned to `min_threshold` until we find an optimal intensity cutoff value is tedious and may vary between images in a dataset. Therefore, it is best practice to instead use established **thresholding algorithms** to automatically define an intensity cutoff value. `skimage.filters` contains many different types of thresholding algorithms, but from that we will be using the Otsu thresholding algorithm `threshold_otsu`. \n",
    "\n",
    "| Thresholding Algorithm | Description | How to import it | Documentation Link | \n",
    "|---------|---------|----------------| ----------------|\n",
    "| Otsu thresholding | Returns threshold using Otsu's method | `from skimage.filters import threshold_otsu` | [threshold_otsu](https://scikit-image.org/docs/dev/api/skimage.filters.html#skimage.filters.threshold_otsu) |\n",
    "\n",
    "We can use `threshold_otsu` from `skimage.filters` as follows: \n",
    "```python\n",
    "min_threshold = threshold_otsu(filtered_image)\n",
    "```\n",
    "Here, `threshold_otsu()` will use that inputted `filtered_image` to calculate an intensity cutoff value. It will return the cutoff value assigned to the variable `min_threshold`. "
   ]
  },
  {
   "cell_type": "markdown",
   "id": "59bbdb311c014d738909a11f9e486628",
   "metadata": {},
   "source": [
    "### ✍️ Exercise: Write code to calculate a threshold on `filtered_image` using Otsu's method\n",
    "Remember - we already imported the threshold_otsu function from skimage.filters in Setup!"
   ]
  },
  {
   "cell_type": "code",
   "execution_count": null,
   "id": "b43b363d81ae4b689946ece5c682cd59",
   "metadata": {
    "tags": [
     "teacher"
    ]
   },
   "outputs": [],
   "source": [
    "min_threshold = threshold_otsu(filtered_image)"
   ]
  },
  {
   "cell_type": "markdown",
   "id": "8a65eabff63a45729fe45fb5ade58bdc",
   "metadata": {},
   "source": [
    "### Generating a binary mask\n",
    "We now want to use this cutoff value to generate a **binary mask**, which is an image that has only 2 pixel values: one corresponding to the background and one corresponding to the foreground. By generating the binary mask, we will be able to evaluate whether this `min_threshold` is a sufficient cutoff value. \n",
    "\n",
    "We can generate the binary mask by using the comparison operator `>`:\n",
    "```python\n",
    "binary_mask = filtered_image > min_threshold\n",
    "```\n",
    "Python will interpret this line of code by going pixel by pixel through `filtered_image` and assigning `True` values where a pixel is greater than `min_threshold` and assigning `False` values where a pixel is equal or less than `min_threshold`. The output will be the binary mask image, filled with `True` and `False`. Since this binary mask is something we will be working with, we should assign it a variable, such as `binary_mask`. "
   ]
  },
  {
   "cell_type": "markdown",
   "id": "c7a79f80",
   "metadata": {},
   "source": [
    "### ✍️ Exercise: Write code to threshold `filtered_image` and generate a binary image assigned to the variable `binary_mask`"
   ]
  },
  {
   "cell_type": "code",
   "execution_count": null,
   "id": "745cd7aa",
   "metadata": {
    "tags": [
     "teacher"
    ]
   },
   "outputs": [],
   "source": [
    "binary_mask = filtered_image > min_threshold"
   ]
  },
  {
   "cell_type": "markdown",
   "id": "ce9951d2",
   "metadata": {},
   "source": [
    "***"
   ]
  },
  {
   "cell_type": "markdown",
   "id": "71072aba",
   "metadata": {},
   "source": [
    "## 4. Mask Labeling"
   ]
  },
  {
   "cell_type": "markdown",
   "id": "4377aec2",
   "metadata": {},
   "source": [
    "**Concept.**  \n",
    "Now that we have a binary mask that has white, or value `True`, pixels that match the image foreground and black, or value  `False`, pixels that match the image background, we need a way to distinguish individual objects within this mask. **Labeling** a mask is when we identify individual objects within a binary mask and assign them a unique identifier. \n",
    "\n",
    "### Labeling a binary mask\n",
    "From `skimage.measure` we can use `label()` to label a curated binary mask, which we already imported in Setup.\n",
    "\n",
    "| Function | Description | How to import it | Documentation Link | \n",
    "|---------|---------|----------------| ----------------|\n",
    "| `label()` | Label connected regions of an image for Instance segmentation | `from skimage.measure import label` | [threshold_otsu](https://scikit-image.org/docs/dev/api/skimage.measure.html#skimage.measure.label) |\n",
    "\n",
    "Here's how we use `label` from `skimage.measure` to label a binary mask: \n",
    "```python\n",
    "labeled_image = label(binary_mask)\n",
    "```\n",
    "Here, `label()` will take the inputted `binary_image` and count each connected object in the image and assign them a number starting from 1. It will then return an image where each object's pixels have the value of its object's assigned number. It will return the transformed image, so we should assign it a variable, like `labeled_image`!\n"
   ]
  },
  {
   "cell_type": "markdown",
   "id": "e3aed757",
   "metadata": {},
   "source": [
    "### ✍️ Exercise: Write code to label `binary_mask` and assign it to the variable `labeled_image`\n",
    "Remember - we already imported the label function from skimage.measure in Setup!"
   ]
  },
  {
   "cell_type": "code",
   "execution_count": null,
   "id": "ced25859",
   "metadata": {
    "tags": [
     "teacher"
    ]
   },
   "outputs": [],
   "source": [
    "labeled_image = label(binary_mask)"
   ]
  },
  {
   "cell_type": "markdown",
   "id": "584c9a12",
   "metadata": {},
   "source": [
    "### Displaying a labeled mask on top of the image\n",
    "Let's now summarize our final segmentation result in 1 image by viewing the `labeled_image` overlaid onto the original `raw_image`. From `skimage.color`, we can use `label2rgb` to do this, which we already imported in Setup. \n",
    "\n",
    "| Function | Description | How to import it | Documentation Link | \n",
    "|---------|---------|----------------| ----------------|\n",
    "| `label2rgb()` | Returns an RGB image where color-coded labels are painted over the image | `from skimage.color import label2rgb` | [label2rgb](https://scikit-image.org/docs/dev/api/skimage.color.html#skimage.color.label2rgb) |\n",
    "\n",
    "Here's how we can use `label2rgb` from `skimage.color` to summarize our segmentation result: \n",
    "```python\n",
    "seg_summary = label2rgb(labeled_image, image = raw_image, bg_label=0)\n",
    "```\n",
    "Here, `label2rgb()` is filled with a few arguments: \n",
    "1. Argument 1: The labeled mask `labeled_image`\n",
    "2. Argument 2: The original image we want the `labeled_image` overlaid onto, specified as `image = raw_image`\n",
    "3. Argument 3: Background transparency of `labeled_image`, which is set to 0 by specifying `bg_label=0` \n",
    "\n",
    "The output will be an rgb image of the labeled mask overlaid onto the raw image. Assign this result a variable for easy reference, like `seg_summary`!"
   ]
  },
  {
   "cell_type": "markdown",
   "id": "76aa0c30",
   "metadata": {},
   "source": [
    "### ✍️ Exercise: Write code that displays `labeled_image` overlaid onto `raw_image`, then view the result with `ndv`\n",
    "Remember - we already imported the `label` function from `skimage.measure` and `ndv` in Setup!"
   ]
  },
  {
   "cell_type": "code",
   "execution_count": null,
   "id": "21627fd3",
   "metadata": {
    "tags": [
     "teacher"
    ]
   },
   "outputs": [],
   "source": [
    "seg_summary = label2rgb(labeled_image, image=raw_image, bg_label=0)\n",
    "ndv.imshow(seg_summary)"
   ]
  },
  {
   "cell_type": "markdown",
   "id": "c3933fab20d04ec698c2621248eb3be0",
   "metadata": {},
   "source": [
    "How does the segmentation result look? Are all labels corresponding to individual nuclei? If not, additional processing steps are needed to refine `binary_mask`."
   ]
  },
  {
   "cell_type": "markdown",
   "id": "8edb47106e1a46a883d545849b8ab81b",
   "metadata": {},
   "source": [
    "***"
   ]
  },
  {
   "cell_type": "markdown",
   "id": "d00e582b",
   "metadata": {},
   "source": [
    "## 5. Mask Refinement"
   ]
  },
  {
   "cell_type": "markdown",
   "id": "5e060920",
   "metadata": {},
   "source": [
    "**Concept.**  \n",
    "**Mask refinement** is needed when a binary mask still does not accurately match the image foreground. In the context of our nuclei example image, we need to apply additional processing steps to remove connected objects that are too small to be nuclei, fill any holes within nuclei, and separate touching nuclei.\n",
    "\n",
    "### Common mask refinement steps\n",
    "There are many different ways we can refine a binary mask. The table below summarizes very common refinement steps:\n",
    "| Algorithm Name | Description | How to import it | Documentation Link |\n",
    "|---------|---------|----------------|----------------|\n",
    "| Watershed Transform | A useful algorithm for separating touching objects. The output is a labeled image. | `from skimage.segmentation import watershed` | [skimage.segmentation.watershed](https://scikit-image.org/docs/0.25.x/api/skimage.segmentation.html#skimage.segmentation.watershed) |\n",
    "| Remove Objects by Size | Remove objects smaller than the specified size from the foreground.  | `from skimage.morphology import remove_small_objects` | [skimage.morphology.remove_small_objects](https://scikit-image.org/docs/0.25.x/api/skimage.morphology.html#skimage.morphology.remove_small_objects) |\n",
    "| Morphological Opening | Mathematical operation that results in small object removal | `from skimage.morphology import binary_opening` | [skimage.morphology.binary_opening](https://scikit-image.org/docs/stable/api/skimage.morphology.html#skimage.morphology.binary_opening) |\n",
    "| Morphological Closing | Mathematical operation that results in small hole removal | `from skimage.morphology import binary_closing` | [skimage.morphology.binary_closing](https://scikit-image.org/docs/stable/api/skimage.morphology.html#skimage.morphology.binary_closing) |\n",
    "| Morphological Erosion | Mathematical operation that reduces shape size | `from skimage.morphology import binary_erosion` | [skimage.morphology.binary_erosion](https://scikit-image.org/docs/stable/api/skimage.morphology.html#skimage.morphology.binary_erosion) |\n",
    "| Morphological Dilation | Mathematical operation that increases shape size | `from skimage.morphology import binary_dilation` | [skimage.morphology.binary_dilation](https://scikit-image.org/docs/stable/api/skimage.morphology.html#skimage.morphology.binary_dilation) |\n",
    "\n",
    "Let's now walk through steps to remove objects smaller than nuclei with `remove_small_objects()`, fill in any holes within nuclei with `binary_closing()`, and then separate touching nuclei with `watershed()`."
   ]
  },
  {
   "cell_type": "markdown",
   "id": "4dd4641cc4064e0191573fe9c69df29b",
   "metadata": {},
   "source": [
    "### Removing objects smaller than nuclei\n",
    "`remove_small_objects()`"
   ]
  },
  {
   "cell_type": "markdown",
   "id": "8309879909854d7188b41380fd92a7c3",
   "metadata": {},
   "source": [
    "### ✍️ Exercise: Write code to remove objects smaller than nuclei in `binary_mask`. Use `ndv` to display the result\n",
    "Remember, all packages have already been imported in Setup!"
   ]
  },
  {
   "cell_type": "code",
   "execution_count": null,
   "id": "3ed186c9a28b402fb0bc4494df01f08d",
   "metadata": {},
   "outputs": [],
   "source": []
  },
  {
   "cell_type": "markdown",
   "id": "cb1e1581032b452c9409d6c6813c49d1",
   "metadata": {},
   "source": [
    "### Filling holes within nuclei\n",
    "`binary_closing()`"
   ]
  },
  {
   "cell_type": "markdown",
   "id": "379cbbc1e968416e875cc15c1202d7eb",
   "metadata": {},
   "source": [
    "### ✍️ Exercise: Write code to fill holes within nuclei in `binary_mask`. Use `ndv` to display the result\n",
    "Remember, all packages have already been imported in Setup!"
   ]
  },
  {
   "cell_type": "code",
   "execution_count": null,
   "id": "277c27b1587741f2af2001be3712ef0d",
   "metadata": {},
   "outputs": [],
   "source": []
  },
  {
   "cell_type": "markdown",
   "id": "db7b79bc585a40fcaf58bf750017e135",
   "metadata": {},
   "source": [
    "### Separating touching nuclei\n",
    "Let's apply the Watershed Transformation to our `binary_mask` to separate any touching nuclei. From `skimage.segmentation`, we can use `watershed()` to do this, although we will need a few additional functions to provide all necessary inputs to the `watershed()` function. \n",
    "\n",
    "| Function | Description | How to import it | Documentation Link |\n",
    "|---------|---------|----------------|----------------|\n",
    "| `distance_transform_edt()` | Calculates the distance transform of the input | `from scipy.ndimage import distance_transform_edt()` | [scipy.ndimage.distance_transform_edt](https://docs.scipy.org/doc/scipy/reference/generated/scipy.ndimage.distance_transform_edt.html) |\n",
    "| `peak_local_max` | Remove objects smaller than the specified size from the foreground.  | `from skimage.feature import peak_local_max` | [skimage.feature.peak_local_max](https://scikit-image.org/docs/0.25.x/api/skimage.feature.html#skimage.feature.peak_local_max) |\n",
    "\n",
    "```python\n",
    "# we did all of the imports below in 0. Setup\n",
    "from scipy import ndimage as ndi\n",
    "from skimage.feature import peak_local_max\n",
    "import numpy as np\n",
    "from skimage.segmentation import watershed\n",
    "\n",
    "distance_transform = ndi.distance_transform_edt(binary_mask)\n",
    "peak_coords = peak_local_max(distance_transform, footprint=np.ones((3, 3)), labels=binary_mask)\n",
    "distance_image = np.zeros(distance_transform.shape, dtype=bool)\n",
    "distance_image[tuple(peak_coords.T)] = True\n",
    "markers, _ = ndi.label(distance_image)\n",
    "labeled_ws_image = watershed(-distance_transform, markers, mask=binary_mask)\n",
    "```\n",
    "Here, `watershed()` will apply the Watershed Transform to the inputted `binary_image`. It will return the transformed, labeled image, so we should assign it a variable, say labeled_ws_image!"
   ]
  },
  {
   "cell_type": "markdown",
   "id": "debd599b",
   "metadata": {},
   "source": [
    "### ✍️ Exercise: Write code to apply a watershed transform to `binary_mask` and assign it to the variable `labeled_ws_image`. Then, display `labeled_ws_image` overlaid onto `raw_image`\n",
    "Remember, all packages have already been imported in Setup!"
   ]
  },
  {
   "cell_type": "code",
   "execution_count": null,
   "id": "70e822bc",
   "metadata": {},
   "outputs": [],
   "source": []
  },
  {
   "cell_type": "markdown",
   "id": "b118ea5561624da68c537baed56e602f",
   "metadata": {},
   "source": [
    "## END OF FIRST LAB SECTION - STOP HERE FOR LAST LECTURE COMPONENT!"
   ]
  },
  {
   "cell_type": "markdown",
   "id": "45bcb4dd",
   "metadata": {},
   "source": [
    "***"
   ]
  },
  {
   "cell_type": "markdown",
   "id": "10185d26023b46108eb7d9f57d49d2b3",
   "metadata": {},
   "source": [
    "## 6. Processing Many Images"
   ]
  },
  {
   "cell_type": "markdown",
   "id": "8763a12b2bbd4a93a75aff182afb95dc",
   "metadata": {},
   "source": [
    "**Concept.**  \n",
    "Something about statistics and working smarter not harder.\n",
    "\n",
    "### Using a for loop to apply processing steps to many images\n",
    "\n",
    "```python\n",
    "from pathlib import Path\n",
    "folder_path = Path(“/Users/edelase/bobiac”) # update with your folder's path\n",
    "for image_path in path.iterdir():\n",
    "    # read each image and apply processing steps\n",
    "```"
   ]
  },
  {
   "cell_type": "markdown",
   "id": "7623eae2785240b9bd12b16a66d81610",
   "metadata": {},
   "source": [
    "### ✍️ Exercise: Improve the code below! \n",
    "1. Group processing steps into functions\n",
    "2. Add a for loop so processing steps can be applied to many images"
   ]
  },
  {
   "cell_type": "code",
   "execution_count": null,
   "id": "7cdc8c89c7104fffa095e18ddfef8986",
   "metadata": {},
   "outputs": [],
   "source": [
    "# specify dependencies\n",
    "\n",
    "# load the image\n",
    "image_path = \"/Users/edelase/HMS Dropbox/Eva de la Serna/Eva_CITE_folder/projects/bobiac/lectures/classic_segmentation/DAPI_wf_0.tif\"\n",
    "raw_image = tifffile.imread(image_path)\n",
    "\n",
    "# filter the image with gaussian filter\n",
    "filtered_image = gaussian(raw_image)\n",
    "\n",
    "# threshold filtered_image to generate binary mask\n",
    "binary_mask = filtered_image > threshold_otsu(filtered_image)\n",
    "\n",
    "# apply watershed to separate nuclei and label mask\n",
    "distance_transform = ndi.distance_transform_edt(binary_mask)\n",
    "peak_coords = peak_local_max(\n",
    "    distance_transform, footprint=np.ones((3, 3)), labels=binary_mask\n",
    ")\n",
    "distance_image = np.zeros(distance_transform.shape, dtype=bool)\n",
    "distance_image[tuple(peak_coords.T)] = True\n",
    "markers, _ = ndi.label(distance_image)\n",
    "labeled_ws_image = watershed(-distance_transform, markers, mask=binary_mask)\n",
    "\n",
    "# display resulting labeled_image overlaid onto raw_image\n",
    "seg_summary = label2rgb(labeled_ws_image, image=raw_image, bg_label=0)"
   ]
  }
 ],
 "metadata": {
  "kernelspec": {
   "display_name": "Python 3 (ipykernel)",
   "language": "python",
   "name": "python3"
  },
  "language_info": {
   "codemirror_mode": {
    "name": "ipython",
    "version": 3
   },
   "file_extension": ".py",
   "mimetype": "text/x-python",
   "name": "python",
   "nbconvert_exporter": "python",
   "pygments_lexer": "ipython3",
   "version": "3.12.9"
  }
 },
 "nbformat": 4,
 "nbformat_minor": 5
}
