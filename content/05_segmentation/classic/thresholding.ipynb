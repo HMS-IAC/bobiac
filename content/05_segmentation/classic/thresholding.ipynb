{
 "cells": [
  {
   "cell_type": "markdown",
   "id": "16a60488",
   "metadata": {},
   "source": [
    "# Classic Segmentation: Thresholding\n",
    "\n",
    "<div class=\"custom-button-row\">\n",
    "    <a \n",
    "        class=\"custom-button custom-download-button\" href=\"../../notebooks/4_python_basics/Intro_to_Python_II.ipynb\" download>\n",
    "        <i class=\"fas fa-download\"></i> Download this Notebook\n",
    "    </a>\n",
    "    <a\n",
    "    class=\"custom-button custom-download-button\" href=\"https://colab.research.google.com/github/HMS-IAC/bobiac/blob/gh-pages/colab_notebooks/4_python_basics/Intro_to_Python_II.ipynb\" target=\"_blank\">\n",
    "        <img class=\"button-icon\" src=\"../../_static/logo/icon-google-colab.svg\" alt=\"Open in Colab\">\n",
    "        Open in Colab\n",
    "    </a>\n",
    "</div>"
   ]
  },
  {
   "cell_type": "code",
   "execution_count": 1,
   "id": "9f33553a",
   "metadata": {
    "jupyter": {
     "source_hidden": true
    }
   },
   "outputs": [],
   "source": [
    "# /// script\n",
    "# requires-python = \">=3.10\"\n",
    "# ///\n",
    "\n",
    "# Standard library imports (no need to declare in dependencies)"
   ]
  },
  {
   "cell_type": "markdown",
   "id": "0ab370b9",
   "metadata": {},
   "source": [
    "## <p class=\"alert alert-success\">Thresholding</p>"
   ]
  },
  {
   "cell_type": "markdown",
   "metadata": {},
   "source": [
    "**Concept.**  \n",
    "**Thresholding** is when we select a range of digital values, or **intensity values**, in the image. These selected values are how we define regions of the image we are interested in. "
   ]
  },
  {
   "cell_type": "markdown",
   "id": "94c41893",
   "metadata": {},
   "source": [
    "***"
   ]
  },
  {
   "cell_type": "markdown",
   "id": "8a24d030",
   "metadata": {},
   "source": [
    "### Displaying an image's histogram\n",
    "Since thresholding is based on intensity values, it will be helpful to get a sense of what our image's intensity values are! A histogram is a very helpful graph to visualize distributions of values, including intensity values! We can use `matplotlib`, which we imported as `plt`, to generate a histogram of our image as follows:\n",
    "```python\n",
    "plt.histogram(raw_image)\n",
    "```\n",
    "Here, `plt.histogram()` will use that `raw_image` you inputted to plot the distribution of its intensity values. It will then return the plot to view."
   ]
  },
  {
   "cell_type": "markdown",
   "id": "deddaff2",
   "metadata": {},
   "source": [
    "<div class=\"alert alert-info\">\n",
    "  <strong> 📓 ACTION: Display an image's histogram</strong>\n",
    "</div>\n",
    "\n",
    "Use `plt` to make a histogram plot of `raw_image` intensity values. "
   ]
  },
  {
   "cell_type": "code",
   "execution_count": 7,
   "id": "39f16918",
   "metadata": {},
   "outputs": [
    {
     "ename": "ModuleNotFoundError",
     "evalue": "No module named 'skimage'",
     "output_type": "error",
     "traceback": [
      "\u001b[0;31m---------------------------------------------------------------------------\u001b[0m",
      "\u001b[0;31mModuleNotFoundError\u001b[0m                       Traceback (most recent call last)",
      "Cell \u001b[0;32mIn[7], line 1\u001b[0m\n\u001b[0;32m----> 1\u001b[0m \u001b[38;5;28;01mfrom\u001b[39;00m \u001b[38;5;21;01mskimage\u001b[39;00m\u001b[38;5;21;01m.\u001b[39;00m\u001b[38;5;21;01mexposure\u001b[39;00m \u001b[38;5;28;01mimport\u001b[39;00m histogram\n\u001b[1;32m      2\u001b[0m hist, hist_centers \u001b[38;5;241m=\u001b[39m histogram(raw_image)\n\u001b[1;32m      3\u001b[0m plt\u001b[38;5;241m.\u001b[39mplot(hist)\n",
      "\u001b[0;31mModuleNotFoundError\u001b[0m: No module named 'skimage'"
     ]
    }
   ],
   "source": [
    "from skimage.exposure import histogram\n",
    "\n",
    "hist, hist_centers = histogram(raw_image)\n",
    "plt.plot(hist)\n",
    "plt.show()"
   ]
  },
  {
   "cell_type": "markdown",
   "id": "5d8902ba",
   "metadata": {},
   "source": [
    "### Defining a threshold\n",
    "Now that we can view our image's distribution of intensity values, let's define a minimum intensity cutoff which separates the **background** (what we don't care about) from the **foreground** (what we do care about). Using the histogram, we can use the left-most bin as a starting point for a cutoff value. For easy reference, assign this value to a variable `min_threshold`: \n",
    "\n",
    "```python\n",
    "min_threshold = 50\n",
    "```\n",
    "Now you give it a try!"
   ]
  },
  {
   "cell_type": "markdown",
   "id": "3d27568e",
   "metadata": {},
   "source": [
    "<div class=\"alert alert-info\">\n",
    "  <strong> 📓 ACTION: Define a threshold</strong>\n",
    "</div>\n",
    "\n",
    "Declare a `min_threshold` variable with an intensity value cut off. "
   ]
  },
  {
   "cell_type": "code",
   "execution_count": null,
   "id": "e90fe42a",
   "metadata": {},
   "outputs": [],
   "source": [
    "min_threshold = 50"
   ]
  },
  {
   "cell_type": "markdown",
   "id": "958a2217",
   "metadata": {},
   "source": [
    "### Generating a binary mask\n",
    "We now want to use this cutoff value to generate a **binary mask**, which is an image that has 0 values where there is background and 1 values where there is foreground. By generating the binary mask, we will be able to evaluate whether this `min_threshold` is a sufficient cutoff value. \n",
    "\n",
    "We can generate the binary mask by using the comparison operator `>`:\n",
    "```python\n",
    "raw_image > min_threshold\n",
    "```\n",
    "Python will interpret this line of code by going pixel by pixel through `raw_image` and assigning 1 values where a pixel is greater than `min_threshold` and assigning 0 values where a pixel is equal or less than `min_threshold`. The output will be the binary mask image, filled with 1s and 0s. Since this binary mask is something we will be working with, we should assign it a variable. \n",
    "\n",
    "Now you give it a try!"
   ]
  },
  {
   "cell_type": "markdown",
   "id": "1d0329c5",
   "metadata": {},
   "source": [
    "<div class=\"alert alert-info\">\n",
    "  <strong> 📓 ACTION: Generate a binary mask</strong>\n",
    "</div>\n",
    "\n",
    "Make a binary mask out of `raw_image` using the `min_threshold` variable and assign it to the variable `binary_mask`. Then, use `plt.imshow()` to display it."
   ]
  },
  {
   "cell_type": "code",
   "execution_count": null,
   "id": "c5b864e5",
   "metadata": {},
   "outputs": [],
   "source": [
    "binary_mask = raw_image > min_threshold\n",
    "plt.imshow(binary_mask)"
   ]
  },
  {
   "cell_type": "markdown",
   "id": "3c35605f",
   "metadata": {},
   "source": [
    "### Thresholding Algorithms\n",
    "We can manually change the value assigned to `min_threshold` until we find an optimal intensity cutoff value, but this is tedious and may vary between images in a dataset. Therefore, it is best practice to instead use established thresholding algorithms to automatically define an intensity cutoff value. `skimage.filters` contains many different types of thresholding algorithms, but from that we will be using the Otsu thresholding algorithm `threshold_otsu`. We can do that as follows: \n",
    "```python\n",
    "from skimage.filters import threshold_otsu\n",
    "threshold_otsu(raw_image)\n",
    "```\n",
    "Here, `threshold_otsu()` will use that inputted `raw_image` to calculate an intensity cutoff value. It will return the value. Therefore, we can use it to generate a binary mask: \n",
    "```python\n",
    "binary_mask = raw_image > threshold_otsu(raw_image)\n",
    "```\n",
    "\n",
    "Now you give it a try!"
   ]
  },
  {
   "cell_type": "markdown",
   "id": "c7a79f80",
   "metadata": {},
   "source": [
    "<div class=\"alert alert-info\">\n",
    "  <strong> 📓 ACTION: Using thresholding algorithms to generate a binary mask</strong>\n",
    "</div>\n",
    "\n",
    "Make a binary mask using `threshold_otsu` from `skimage.filters`, then use `plt.imshow()` to display it."
   ]
  },
  {
   "cell_type": "code",
   "execution_count": null,
   "id": "745cd7aa",
   "metadata": {},
   "outputs": [],
   "source": [
    "from skimage.filters import threshold_otsu\n",
    "\n",
    "binary_mask = raw_image > threshold_otsu(raw_image)\n",
    "plt.imshow(binary_mask)"
   ]
  },
  {
   "cell_type": "markdown",
   "id": "32d4e25b",
   "metadata": {},
   "source": [
    "### Evaluating the binary mask\n",
    "We can evaluate the binary mask by comparing it to the raw image. In particular, we are looking to see whether the white regions (pixel value 1) of the binary mask correspond perfectly to the regions of interest in the raw image. To do this, we can use matplotlib to plot `raw_image` and `binary_mask` side by side. Here's how we structure the code: \n",
    "```python\n",
    "# Create a figure and axis\n",
    "fig, axes = plt.subplots(1, 2, figsize=(15, 5))  # 1 row, 2 columns\n",
    "\n",
    "# Plot the 2 images\n",
    "# raw_image\n",
    "axes[0].imshow(raw_image, cmap='gray', vmin=raw_image.min(), vmax=raw_image.max()) # plot the raw_image\n",
    "axes[0].set_title(\"Raw Image\", fontweight='bold') # label the raw_image\n",
    "axes[0].axis('off')  # Turn off axis\n",
    "\n",
    "# binary_mask\n",
    "axes[1].imshow(binary_mask, cmap='gray', vmin=binary_mask.min(), vmax=binary_mask.max()) # plot the binary_mask\n",
    "axes[1].set_title(\"Binary Mask\", fontweight='bold') # label the binary_mask\n",
    "axes[1].axis('off')  # Turn off axis\n",
    "\n",
    "# Show the plot\n",
    "plt.show()\n",
    "\n",
    "```\n",
    "Viewing images side by side to evaluate processing steps is going to be a frequent action of this lesson. Therefore, let's bundle this code structure into a function! \n",
    "\n",
    "- E needs to check in with Maria because they will have written a function do this already in the previous lesson"
   ]
  },
  {
   "cell_type": "markdown",
   "id": "1461caf3",
   "metadata": {},
   "source": [
    "<div class=\"alert alert-info\">\n",
    "  <strong> 📓 ACTION: Display raw_img and binary_mask</strong>\n",
    "</div>\n",
    "\n",
    "Use `plt` to plot `raw_image` and `binary_mask` images."
   ]
  },
  {
   "cell_type": "code",
   "execution_count": null,
   "id": "64b7b987",
   "metadata": {},
   "outputs": [],
   "source": [
    "# Create a figure and axis\n",
    "fig, axes = plt.subplots(1, 2, figsize=(15, 5))  # 1 row, 2 columns\n",
    "\n",
    "# Plot the 2 images\n",
    "# raw_image\n",
    "axes[0].imshow(\n",
    "    raw_image, cmap=\"gray\", vmin=raw_image.min(), vmax=raw_image.max()\n",
    ")  # plot the raw_image\n",
    "axes[0].set_title(\"Raw Image\", fontweight=\"bold\")  # label the raw_image\n",
    "axes[0].axis(\"off\")  # Turn off axis\n",
    "\n",
    "# binary_mask\n",
    "axes[1].imshow(\n",
    "    binary_mask, cmap=\"gray\", vmin=binary_mask.min(), vmax=binary_mask.max()\n",
    ")  # plot the binary_mask\n",
    "axes[1].set_title(\"Binary Mask\", fontweight=\"bold\")  # label the binary_mask\n",
    "axes[1].axis(\"off\")  # Turn off axis\n",
    "\n",
    "# Show the plot\n",
    "plt.show()"
   ]
  }
 ],
 "metadata": {
  "kernelspec": {
   "display_name": "Python 3 (ipykernel)",
   "language": "python",
   "name": "python3"
  },
  "language_info": {
   "codemirror_mode": {
    "name": "ipython",
    "version": 3
   },
   "file_extension": ".py",
   "mimetype": "text/x-python",
   "name": "python",
   "nbconvert_exporter": "python",
   "pygments_lexer": "ipython3",
   "version": "3.12.9"
  }
 },
 "nbformat": 4,
 "nbformat_minor": 5
}
