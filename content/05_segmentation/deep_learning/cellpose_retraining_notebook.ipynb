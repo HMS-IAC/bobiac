{
 "cells": [
  {
   "cell_type": "markdown",
   "id": "dbca03c3",
   "metadata": {},
   "source": [
    "# Retraining Cellpose on Custom Data\n",
    "\n",
    "Now, we will learn how we can retrain Cellpose with our own data to improve its performance on specific dataset.\n",
    "\n",
    "<a href=\"https://colab.research.google.com/github/MouseLand/cellpose/blob/main/notebooks/train_Cellpose-SAM.ipynb\" target=\"_parent\"><img src=\"https://colab.research.google.com/assets/colab-badge.svg\" alt=\"Open In Colab\"/></a>"
   ]
  }
 ],
 "metadata": {
  "language_info": {
   "name": "python"
  }
 },
 "nbformat": 4,
 "nbformat_minor": 5
}
