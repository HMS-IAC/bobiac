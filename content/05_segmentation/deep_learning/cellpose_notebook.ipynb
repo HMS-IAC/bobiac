{
 "cells": [
  {
   "cell_type": "markdown",
   "id": "1a63fe2e",
   "metadata": {},
   "source": [
    "# Cellpose in Python\n",
    "\n",
    "If you do not have an Apple Silicon Mac or a GPU we suggest to run this notebook in Google Colab. \n",
    "\n",
    "<a href=\"https://colab.research.google.com/github/MouseLand/cellpose/blob/main/notebooks/test_Cellpose-SAM.ipynb\" target=\"_parent\"><img src=\"https://colab.research.google.com/assets/colab-badge.svg\" alt=\"Open In Colab\"/></a>\n",
    "\n",
    "...\n"
   ]
  }
 ],
 "metadata": {
  "language_info": {
   "name": "python"
  }
 },
 "nbformat": 4,
 "nbformat_minor": 5
}
