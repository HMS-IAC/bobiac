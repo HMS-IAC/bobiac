{
 "cells": [
  {
   "cell_type": "markdown",
   "id": "a268f5ed",
   "metadata": {},
   "source": [
    "# Cellpose in Python\n",
    "\n",
    "<div class=\"custom-button-row\">\n",
    "    <a \n",
    "        class=\"custom-button custom-download-button\" href=\"../../../notebooks/05_segmentation/deep_learning/cellpose_notebook.ipynb\" download>\n",
    "        <i class=\"fas fa-download\"></i> Download this Notebook\n",
    "    </a>\n",
    "    <a\n",
    "    class=\"custom-button custom-download-button\" href=\"https://colab.research.google.com/github/HMS-IAC/bobiac/blob/gh-pages/colab_notebooks/05_segmentation/deep_learning/cellpose_notebook.ipynb\" target=\"_blank\">\n",
    "        <img class=\"button-icon\" src=\"../../../_static/logo/icon-google-colab.svg\" alt=\"Open in Colab\">\n",
    "        Open in Colab\n",
    "    </a>\n",
    "</div>"
   ]
  },
  {
   "cell_type": "code",
   "execution_count": null,
   "id": "2e3bd4fa",
   "metadata": {},
   "outputs": [],
   "source": [
    "# /// script\n",
    "# requires-python = \">=3.12\"\n",
    "# dependencies = [\n",
    "#     \"matplotlib\",\n",
    "#     \"tifffile\",\n",
    "#     \"cellpose\"\n",
    "# ]\n",
    "# ///"
   ]
  },
  {
   "cell_type": "markdown",
   "id": "1a63fe2e",
   "metadata": {},
   "source": [
    "# Overview\n",
    "\n",
    "In this section...\n",
    "\n",
    "If you do not have an Apple Silicon Mac or a GPU we suggest to run this notebook in Google Colab. \n",
    "\n",
    "...\n",
    "\n",
    "The images we will use for this section can be downloaded from the <a href=\"../../../_static/data/05_segmentation_cellpose.zip\" download> <i class=\"fas fa-download\"></i> Cellpose Dataset</a>."
   ]
  },
  {
   "cell_type": "markdown",
   "id": "f437ad73",
   "metadata": {},
   "source": [
    "## Import Libraries"
   ]
  },
  {
   "cell_type": "code",
   "execution_count": 39,
   "id": "4d831fd3",
   "metadata": {},
   "outputs": [],
   "source": [
    "import tifffile"
   ]
  },
  {
   "cell_type": "markdown",
   "id": "a72afec2",
   "metadata": {},
   "source": [
    "## Run Cellpose on A Sample Image\n",
    "\n",
    "..."
   ]
  },
  {
   "cell_type": "markdown",
   "id": "a6139b9c",
   "metadata": {},
   "source": [
    "### Load the Image\n",
    "\n",
    "..."
   ]
  },
  {
   "cell_type": "code",
   "execution_count": 41,
   "id": "fc120648",
   "metadata": {},
   "outputs": [],
   "source": [
    "image_path = \"../../../_static/images/cellpose/cell_cellpose.tif\"\n",
    "image = tifffile.imread(image_path)"
   ]
  },
  {
   "cell_type": "markdown",
   "id": "8de800cb",
   "metadata": {},
   "source": [
    "### Init the Model\n",
    "\n",
    "..."
   ]
  },
  {
   "cell_type": "code",
   "execution_count": null,
   "id": "6ac7d865",
   "metadata": {},
   "outputs": [],
   "source": []
  },
  {
   "cell_type": "markdown",
   "id": "61ba06fe",
   "metadata": {},
   "source": [
    "### Run Cellpose\n",
    "\n",
    "..."
   ]
  },
  {
   "cell_type": "code",
   "execution_count": null,
   "id": "989a751e",
   "metadata": {},
   "outputs": [],
   "source": []
  },
  {
   "cell_type": "markdown",
   "id": "8a9b3c09",
   "metadata": {},
   "source": [
    "### Display the Results"
   ]
  },
  {
   "cell_type": "code",
   "execution_count": null,
   "id": "e0bfbd8f",
   "metadata": {},
   "outputs": [],
   "source": []
  },
  {
   "cell_type": "markdown",
   "id": "ecc88037",
   "metadata": {},
   "source": [
    "## Run Cellpose on a Folder of Images\n",
    "\n",
    "..."
   ]
  },
  {
   "cell_type": "code",
   "execution_count": null,
   "id": "0c62c4ea",
   "metadata": {},
   "outputs": [],
   "source": []
  },
  {
   "cell_type": "markdown",
   "id": "e2d8c2e0",
   "metadata": {},
   "source": [
    "TO REMOVE: <a href=\"https://colab.research.google.com/github/MouseLand/cellpose/blob/main/notebooks/test_Cellpose-SAM.ipynb\" target=\"_parent\"><img src=\"https://colab.research.google.com/assets/colab-badge.svg\" alt=\"Open In Colab\"/></a>"
   ]
  },
  {
   "cell_type": "markdown",
   "id": "d88d389e",
   "metadata": {},
   "source": []
  }
 ],
 "metadata": {
  "kernelspec": {
   "display_name": ".venv",
   "language": "python",
   "name": "python3"
  },
  "language_info": {
   "codemirror_mode": {
    "name": "ipython",
    "version": 3
   },
   "file_extension": ".py",
   "mimetype": "text/x-python",
   "name": "python",
   "nbconvert_exporter": "python",
   "pygments_lexer": "ipython3",
   "version": "3.13.0"
  }
 },
 "nbformat": 4,
 "nbformat_minor": 5
}
