{
 "cells": [
  {
   "cell_type": "markdown",
   "id": "4e296f4b",
   "metadata": {},
   "source": [
    "# Pixel Intensity-Based Colocalization\n",
    "\n",
    "<div class=\"custom-button-row\">\n",
    "    <a \n",
    "        class=\"custom-button custom-download-button\" href=\"../../../notebooks/08_colocalization/pixel_intensity_based_colocalization.ipynb\" download>\n",
    "        <i class=\"fas fa-download\"></i> Download this Notebook\n",
    "    </a>\n",
    "    <a\n",
    "    class=\"custom-button custom-download-button\" href=\"https://colab.research.google.com/github/HMS-IAC/bobiac/blob/gh-pages/colab_notebooks/08_colocalization/pixel_intensity_based_colocalization.ipynb\" target=\"_blank\">\n",
    "        <img class=\"button-icon\" src=\"../../../_static/logo/icon-google-colab.svg\" alt=\"Open in Colab\">\n",
    "        Open in Colab\n",
    "    </a>\n",
    "</div>"
   ]
  },
  {
   "cell_type": "code",
   "execution_count": null,
   "id": "d447e0a7",
   "metadata": {},
   "outputs": [],
   "source": [
    "# /// script\n",
    "# requires-python = \">=3.12\"\n",
    "# dependencies = [\n",
    "#     \"matplotlib\",\n",
    "#     \"ndv[jupyter,vispy]\",\n",
    "#     \"scikit-image\",\n",
    "#     \"scipy\",\n",
    "#     \"tifffile\",\n",
    "#     \"imagecodecs\",\n",
    "# ]\n",
    "# ///"
   ]
  },
  {
   "cell_type": "code",
   "execution_count": null,
   "id": "58157086",
   "metadata": {},
   "outputs": [],
   "source": []
  },
  {
   "cell_type": "markdown",
   "id": "482a8248",
   "metadata": {},
   "source": [
    "<!-- <div align=\"center\"> <img src=\"https://raw.githubusercontent.com/HMS-IAC/bobiac/main/_static/images/coloc/pearsons.png\" alt=\"Ilastik Logo\" width=\"600\"></div> -->\n",
    "<div align=\"left\"> <img src=\"../../_static/images/coloc/pearsons.png\" alt=\"Ilastik Logo\" width=\"600\"></div>"
   ]
  },
  {
   "cell_type": "code",
   "execution_count": null,
   "id": "561ae61f",
   "metadata": {},
   "outputs": [],
   "source": [
    "# numerator = np.sum((image1 - mean_image1) * (image2 - mean_image2))\n",
    "# denominator = np.sqrt(\n",
    "#     np.sum((image1 - mean_image1) ** 2) * np.sum((image2 - mean_image2) ** 2)\n",
    "# )\n",
    "# prs = numerator / denominator\n",
    "\n",
    "# pearson, p_value = pearsonr(image1.flatten(), image2.flatten())"
   ]
  },
  {
   "cell_type": "code",
   "execution_count": null,
   "id": "7ba57d6f",
   "metadata": {},
   "outputs": [],
   "source": []
  },
  {
   "cell_type": "markdown",
   "id": "0c967d67",
   "metadata": {},
   "source": [
    "<!-- <div align=\"center\"> <img src=\"https://raw.githubusercontent.com/HMS-IAC/bobiac/main/_static/images/coloc/manders.png\" alt=\"Ilastik Logo\" width=\"600\"></div> -->\n",
    "<div align=\"left\"> <img src=\"../../_static/images/coloc/manders.png\" alt=\"Ilastik Logo\" width=\"600\"></div>"
   ]
  },
  {
   "cell_type": "code",
   "execution_count": null,
   "id": "63cc2fb4",
   "metadata": {},
   "outputs": [],
   "source": [
    "# # create binary masks based on thresholds\n",
    "# image_1_mask = image1 > thr1\n",
    "# image_2_mask = image2 > thr2\n",
    "\n",
    "# # only consider pixels within the mask (keep intensities above threshold, zero elsewhere)\n",
    "# image1_tr = np.where(image_1_mask, image1, 0)\n",
    "# image2_tr = np.where(image_2_mask, image2, 0)\n",
    "\n",
    "# # find overlapping regions\n",
    "# # use intensity values from image1 (above threshold) ONLY where image2 > 0\n",
    "# image1_overlap_with_image2 = np.where(image_2_mask, image1_tr, 0)\n",
    "# # use intensity values from image2 (above threshold) ONLY where image1 > 0\n",
    "# image2_overlap_with_image1 = np.where(image_1_mask, image2_tr, 0)\n",
    "\n",
    "# # calculate the sum of the masked images\n",
    "# sum_image1_tr = np.sum(image1_tr)\n",
    "# sum_image2_tr = np.sum(image2_tr)\n",
    "\n",
    "# # calculate the Manders coefficients\n",
    "# M1 = np.sum(image1_overlap_with_image2) / sum_image1_tr\n",
    "# M2 = np.sum(image2_overlap_with_image1) / sum_image2_tr\n",
    "\n",
    "\n",
    "# # def manders_colocalization_coefficients(\n",
    "# #     image1: np.ndarray,\n",
    "# #     image2: np.ndarray,\n",
    "# #     image_1_mask: np.ndarray,\n",
    "# #     image_2_mask: np.ndarray,\n",
    "# # ) -> tuple[float, float]:\n",
    "# #     \"\"\"Calculate the Manders colocalization coefficients for two images.\n",
    "\n",
    "# #     Parameters\n",
    "# #     ----------\n",
    "# #     image1 : np.ndarray\n",
    "# #         The first image.\n",
    "# #     image2 : np.ndarray\n",
    "# #         The second image.\n",
    "# #     image_1_mask : np.ndarray\n",
    "# #         The mask for the first image.\n",
    "# #     image_2_mask : np.ndarray\n",
    "# #         The mask for the second image.\n",
    "\n",
    "# #     Returns\n",
    "# #     -------\n",
    "# #     tuple[float, float]\n",
    "# #         The Manders coefficients M1 and M2.\n",
    "# #         M1 is the fraction of image1 that colocalizes with image2.\n",
    "# #         M2 is the fraction of image2 that colocalizes with image1.\n",
    "# #     \"\"\"\n",
    "\n",
    "# #     # only consider pixels within the mask\n",
    "# #     image1_tr = np.where(image_1_mask, image1, 0)\n",
    "# #     image2_tr = np.where(image_2_mask, image2, 0)\n",
    "\n",
    "# #     # use intensity values from image1 where image2 > 0\n",
    "# #     image1_coloc = np.where(image_2_mask, image1_tr, 0)\n",
    "# #     # use intensity values from image2 where image1 > 0\n",
    "# #     image2_coloc = np.where(image_1_mask, image2_tr, 0)\n",
    "\n",
    "# #     sum_image1_tr = np.sum(image1_tr)\n",
    "# #     sum_image2_tr = np.sum(image2_tr)\n",
    "\n",
    "# #     M1 = np.sum(image1_coloc) / sum_image1_tr if sum_image1_tr > 0 else 0\n",
    "# #     M2 = np.sum(image2_coloc) / sum_image2_tr if sum_image2_tr > 0 else 0\n",
    "\n",
    "# #     return M1, M2"
   ]
  }
 ],
 "metadata": {
  "language_info": {
   "name": "python"
  }
 },
 "nbformat": 4,
 "nbformat_minor": 5
}
