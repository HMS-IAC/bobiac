{
 "cells": [
  {
   "cell_type": "markdown",
   "id": "16a60488",
   "metadata": {},
   "source": [
    "# intro to python II\n",
    "\n",
    "<div class=\"custom-button-row\">\n",
    "    <a \n",
    "        class=\"custom-button custom-download-button\" href=\"../../notebooks/4_python_basics/Intro_to_Python_II.ipynb\" download>\n",
    "        <i class=\"fas fa-download\"></i> Download this Notebook\n",
    "    </a>\n",
    "    <a\n",
    "    class=\"custom-button custom-download-button\" href=\"https://colab.research.google.com/github/HMS-IAC/bobiac/blob/gh-pages/colab_notebooks/4_python_basics/Intro_to_Python_II.ipynb\" target=\"_blank\">\n",
    "        <img class=\"button-icon\" src=\"../../_static/logo/icon-google-colab.svg\" alt=\"Open in Colab\">\n",
    "        Open in Colab\n",
    "    </a>\n",
    "</div>"
   ]
  },
  {
   "cell_type": "code",
   "execution_count": 1,
   "id": "9f33553a",
   "metadata": {
    "jupyter": {
     "source_hidden": true
    }
   },
   "outputs": [],
   "source": [
    "# /// script\n",
    "# requires-python = \">=3.10\"\n",
    "# ///\n",
    "\n",
    "# Standard library imports (no need to declare in dependencies)"
   ]
  },
  {
   "cell_type": "markdown",
   "id": "0ab370b9",
   "metadata": {},
   "source": [
    "## Boston Bioimage Analysis Course\n",
    "\n",
    "Welcome to your next step in learning Python!  \n",
    "This notebook is written **like a small interactive book** to complement the lecture.\n",
    "\n",
    "This notebook covers the following **core building blocks**:\n",
    "\n",
    "| Chapter | Concept | Why it matters |\n",
    "|---------|---------|----------------|\n",
    "| 0 | [Commenting & Printing](#0-commenting--printing) | Learn how to annotate your code to make it more readable |\n",
    "| 1 | [Data Types](#1-data-types) | Understand the different types of values in Python |\n",
    "| 2 | [Variables](#2-variables) | Store and label values |\n",
    "| 3 | [Operators](#3-operators) | Learn how to perform operations on variables & values |\n",
    "| 4 | [Data Structures](#4-data-structures) | Organizing values in Python |\n",
    "| 5 | [Data Structures: Lists](#5-data-structures-lists) | An ordered container of values |\n",
    "| 6 | [Data Structures: Tuples](#6-data-structures-tuples) | An ordered, immutable container of values |\n",
    "| 7 | [Data Structures: Dictionaries](#7-data-structures-dictionaries) | A key-value container |\n",
    "| 8 | [Data Structures: Sets](#8-data-structures-sets) | An unordered, unique set of values |\n",
    "| 9 | [For Loops](#9-for-loops) | Learn how to automate repetitive tasks |\n",
    "| 10 | [If Statements](#10-if-statements) | Conduct conditional tasks |\n",
    "| 11 | [Functions](#11-functions) | Package code into reusable, testable actions |\n",
    "\n",
    "Each chapter has:\n",
    "\n",
    "1. **Narrative explanation** – read this like a textbook.\n",
    "2. **Live demo** – run and play.\n",
    "3. **Exercise** – _your turn_ & _guess the output!_ ✅ "
   ]
  },
  {
   "cell_type": "markdown",
   "id": "5eaf93b8",
   "metadata": {},
   "source": [
    "## <div style = 'background-color:#74B868; color:rgb(0, 0, 255)'> 0. Commenting & Printing \n",
    "</div>"
   ]
  },
  {
   "cell_type": "markdown",
   "id": "66cd7d03",
   "metadata": {},
   "source": [
    "**Concept.**  \n",
    "In Python, **comments** can be used to explain Python code in regular language. They can make the code more readable, making it easier for future you and others to interpret your code. Comments can also be used to prevent running lines of code. \n",
    "\n",
    "### How to make a comment in Python\n",
    "In Python, all lines starting with a # are a comment. Python will ignore them. For example:\n",
    "```python \n",
    "# This is a comment\n",
    "```\n",
    "\n",
    "### Where can I put comments in Python\n",
    "You can place comments as their own line, or even at the end of a line of code. \n",
    "```python \n",
    "# This is a comment\n",
    "print(\"Hello, World!\") # this is a comment\n",
    "> \"Hello, World!\"\n",
    "```\n",
    "Remember that in Python, `print` is a built-in function that prints whatever is put inside of it to the screen when run. It is a very useful tool in coding, as we will see throughout this lesson!\n",
    "\n",
    "### Use comments to prevent Python from running code\n",
    "You can add a # to lines of code to prevent Python from running them. This is called commenting out code. \n",
    "```python \n",
    "# print(\"Hello, World!\")\n",
    "print(\"Hasta la vista, baby!\")\n",
    "> \"Hasta la vista, baby!\"\n",
    "```\n",
    "### Commenting keyboard shortcuts\n",
    "Since commenting is so useful in Python, there are keyboard shortcuts to quickly comment out lines of code.\n",
    "| Operating System | Shortcut |\n",
    "|---------|---------|\n",
    "| Mac OS X | CMD + / |\n",
    "| Windows | CTRL + / |\n",
    "\n",
    "Put your cursor on any 1 line of code or highlight multiple lines of code to comment out with this shortcut.\n",
    "\n",
    "### Commenting Best Practices\n",
    "It is best practice to comment your code so that you and others who review it know how to follow it with no additional explanation. Throughout the remainder of this lesson, we will indicate our best practices for commenting code and generally making your code more readable. "
   ]
  },
  {
   "cell_type": "markdown",
   "id": "8ff99f1e",
   "metadata": {},
   "source": [
    "<div class=\"alert alert-success\">\n",
    "  <strong>✍️ Exercise: Printing Practice</strong>\n",
    "</div>\n",
    "\n",
    "Use `print` to print your name!"
   ]
  },
  {
   "cell_type": "code",
   "execution_count": null,
   "id": "2b2ea6b5",
   "metadata": {},
   "outputs": [],
   "source": [
    "print(\"Eva\")"
   ]
  },
  {
   "cell_type": "markdown",
   "id": "76921332",
   "metadata": {},
   "source": [
    "<div class=\"alert alert-success\">\n",
    "  <strong>✍️ Exercise: Commenting Practice</strong>\n",
    "</div>\n",
    "\n",
    "1. Make a line comment that says: \"This is a comment\"\n",
    "2. Run the code in the cell\n",
    "3. Then add the following code in a separate line: ```print(\"This shouldn't be here\")```\n",
    "4. Run the code in the cell\n",
    "5. Comment out the ```print(\"This shouldn't be here\")``` code line\n",
    "6. Run the code in the cell again"
   ]
  },
  {
   "cell_type": "code",
   "execution_count": null,
   "id": "476d4f33",
   "metadata": {},
   "outputs": [],
   "source": [
    "# This is a comment\n",
    "print(\"This shouldn't be here\")"
   ]
  },
  {
   "cell_type": "markdown",
   "id": "6c5a4b18",
   "metadata": {},
   "source": [
    "***"
   ]
  },
  {
   "cell_type": "markdown",
   "id": "fcf30588",
   "metadata": {},
   "source": [
    "## 1. Data Types"
   ]
  },
  {
   "cell_type": "markdown",
   "id": "c5317c0e",
   "metadata": {},
   "source": [
    "**Concept.**\n",
    "Let's now discuss different types of **values** commonly used in Python! In Python, the following **data types** are commonly used: \n",
    "\n",
    "| Data Type | Description | Example |\n",
    "|---------|---------|----------------|\n",
    "| `int` | Pronounced \"int\"; integer numbers | -1, 0, 42 |\n",
    "| `float` | Pronounced \"float\"; decimal numbers | 3.14, -0.001, 26.2 |\n",
    "| `str` | Pronounced \"string\"; a sequence of characters bounded by single or double quotes | \"hello\", 'world', \"123\", \"ca$hmoney3000\", \"^.^\" |\n",
    "| `bool` | Pronounced \"bool\" or \"boolean\"; 2 truth values | True or False |\n",
    "| `None` | Pronounced \"none\"; nothing - represents absence of a value | None |\n",
    "\n",
    "### How to tell what data type is assigned to a value\n",
    "At times, it will be useful to check what data type a value is. You can find out by using ```type()```:\n",
    "```python\n",
    "print(type('Hi'))\n",
    "> 'str'\n",
    "```\n",
    "\n",
    "### Casting a value to a different data type\n",
    "You also cast, or change, a value's data type. You can do this for each data type with ```int()```, ```float()```, or ```str()```. \n",
    "\n",
    "Example of converting a `float` to an `int`:\n",
    "```python\n",
    "print(type(2.3))\n",
    "> float \n",
    "print(int(2.3)) # converts float 2.3 to int 2\n",
    "> 2\n",
    "print(type(int(2.3)))\n",
    "> int\n",
    "```\n",
    "Example of converting an `int` to a `str`:\n",
    "```python\n",
    "print(type(17))\n",
    "> int\n",
    "print(str(17)) # converts int 17 to str 17\n",
    "> 17\n",
    "print(type(str(17)))\n",
    "> str\n",
    "```"
   ]
  },
  {
   "cell_type": "markdown",
   "id": "6643031f",
   "metadata": {},
   "source": [
    "<div class=\"alert alert-success\">\n",
    "  <strong>✍️ Exercise: Guess the output!</strong>\n",
    "</div>\n",
    "\n",
    "Predict what will be printed!\n",
    "\n",
    "\n",
    "What data type will be printed?"
   ]
  },
  {
   "cell_type": "code",
   "execution_count": null,
   "id": "6c79215f",
   "metadata": {},
   "outputs": [],
   "source": [
    "print(type(3.14))"
   ]
  },
  {
   "cell_type": "markdown",
   "id": "dd3a5c33",
   "metadata": {},
   "source": [
    "What data type will be printed?"
   ]
  },
  {
   "cell_type": "code",
   "execution_count": null,
   "id": "c7a56c23",
   "metadata": {},
   "outputs": [],
   "source": [
    "print(type(str(2025)))"
   ]
  },
  {
   "cell_type": "markdown",
   "id": "5746dfb8",
   "metadata": {},
   "source": [
    "What will be printed?"
   ]
  },
  {
   "cell_type": "code",
   "execution_count": null,
   "id": "75c47682-d82d-430d-bcf3-27e44eddd222",
   "metadata": {},
   "outputs": [],
   "source": [
    "print(float(1))"
   ]
  },
  {
   "cell_type": "markdown",
   "id": "3dc95a1a",
   "metadata": {},
   "source": [
    "## 2. Variables\n",
    "***"
   ]
  },
  {
   "cell_type": "markdown",
   "id": "8a24d030",
   "metadata": {},
   "source": [
    "**Concept.**  \n",
    "A **variable** is a name assigned to a value. In Python, we call creating a new variable \"declaring a new variable.\"\n",
    "\n",
    "### How to declare a new variable in Python \n",
    "In Python, you declare a new variable by typing a **variable name** and assigning a value to it. Here's a few examples of declaring variables:\n",
    "```python\n",
    "welcome = 'Hello World'\n",
    "x = 3\n",
    "y = 5.2  \n",
    "```\n",
    "\n",
    "### How to name your variables\n",
    "You can name your variables *almost* whatever you want in Python. \n",
    "\n",
    "Here are two rules for naming variables in Python:\n",
    "* Do not **start** your variable name with numbers or special characters\n",
    "* Do not include spaces in your variable name\n",
    "\n",
    "Here are best practices for naming variables in Python:\n",
    "* Do not use special characters in variable names other than _\n",
    "* Use lowercase_with_underscores when you would have wanted to use spaces (`snake_case`)  \n",
    "* Be descriptive with names. For example: `temperature_c` or `temp_c` is better than `t` \n",
    "* When in doubt, add a comment to remind yourself what the variable is\n",
    "\n",
    "### How to change your variable's value  \n",
    "After declaring a variable, you can reassign the value associated with it by simply redeclaring it as the new desired value. Here's an example:\n",
    "\n",
    "```python\n",
    "price = 19.99\n",
    "price = \"expensive\"\n",
    "```\n",
    "the variable price is now assigned to \"expensive\" "
   ]
  },
  {
   "cell_type": "markdown",
   "id": "6b651854",
   "metadata": {},
   "source": [
    "<div class=\"alert alert-success\">\n",
    "  <strong>✍️ Exercise: Variable Practice</strong>\n",
    "</div>\n",
    "\n",
    "Create two variables:\n",
    "* `first_name` = your first name\n",
    "* `bobiac_year` = your BoBiAC cohort year\n",
    "\n",
    "Bonus points for commenting what your variables are!\n",
    "\n",
    "Then, tell Python to **print** the values assigned to these variables by writing:\n",
    "```python\n",
    "print(first_name)\n",
    "print(bobiac_year)\n",
    "```\n",
    "When you run your code, you should see:\n",
    "<br>`your first name`\n",
    "<br>`bobiac_year`"
   ]
  },
  {
   "cell_type": "code",
   "execution_count": null,
   "id": "7505d7e6",
   "metadata": {
    "tags": [
     "teacher"
    ]
   },
   "outputs": [],
   "source": [
    "first_name = 'Eva' # your first name\n",
    "bobiac_year = 2025 # your BoBiAC cohort year\n",
    "print(first_name)\n",
    "print(bobiac_year)"
   ]
  },
  {
   "cell_type": "markdown",
   "id": "2dff935a",
   "metadata": {},
   "source": [
    "## 3. Operators\n",
    "***"
   ]
  },
  {
   "cell_type": "markdown",
   "id": "7e517d3d",
   "metadata": {},
   "source": [
    "**Concept.**  \n",
    "Now that we know more about variables and what can be assigned to them, let's discuss what we can *do* with variables. In Python, **operators** are used to perform various operations on variables, including arithmetic or comparison operations. \n",
    "\n",
    "### Arithmetic operators\n",
    "Arithmetic operators in Python include basic mathematical calculations that you would normally do on a calculator! \n",
    "| Operator | Description | Example |\n",
    "|---------|---------|----------------|\n",
    "| `+`| Addition | variable_1 + variable_2 |\n",
    "| `-` | Subtraction | variable_1 - variable_2 |\n",
    "| `*` | Multiplication | variable_1 * variable_2 |\n",
    "| `/` | Division | variable_1 / variable_2 |\n",
    "| `**` | Exponent | variable_1**variable_2 |\n",
    "\n",
    "Using arithmetic operators with variables will **return**, or result, in a value.\n",
    "\n",
    "Let's see some examples!\n",
    "\n",
    "Adding two `int` values:\n",
    "```python\n",
    "v1 = 1\n",
    "v2 = 2\n",
    "print(v1 + v2)\n",
    "> 3\n",
    "```\n",
    "\n",
    "Adding two `str` values:\n",
    "```python\n",
    "v1 = \"BoBiAC\"\n",
    "v2 = \"2025\"\n",
    "print(v1 + v2)\n",
    "> BoBiAC2025\n",
    "```\n",
    "\n",
    "Notice that we can add 2 `str` values!\n",
    "\n",
    "**🗒️ NOTE:** You might be wondering, can we apply other arithmetic operators to `str` values? The answer is yes, but implementing operators beyond `+` does not have use for the applications we are covering in this course. \n",
    "\n",
    "### Comparison operators\n",
    "Comparison operators compare values assigned to two different variables. \n",
    "| Operator | Description | Example |\n",
    "|---------|---------|----------------|\n",
    "| `==` | Equal in value | variable_1 == variable_2 |\n",
    "| `!=` | Not equal in value | variable_1 != variable_2 |\n",
    "| `>` | Greater than | variable_1 > variable_2 |\n",
    "| `<` | Less than | variable_1 < variable_2 |\n",
    "| `>=` | Greater than or equal to | variable_1 >= variable_2 |\n",
    "| `<=` | Less than or equal to | variable_1 <= variable_2 |\n",
    "\n",
    "Unlike arithmetic operators, comparison operators generally return a ```bool```, which is either ```True``` or ```False```. For example if ```variable_1 = 1``` and ```variable_2 = 2```, then ```variable_1 < variable_2``` would return ```True```. \n",
    "\n",
    "**❗️CAUTION❗️** Notice that `==` has a different meaning than `=` in Python. A single `=` is used to declare a variable. A double `==` is used to evaluate whether two values are equal. "
   ]
  },
  {
   "cell_type": "markdown",
   "id": "429cff35",
   "metadata": {},
   "source": [
    "<div class=\"alert alert-success\">\n",
    "  <strong>✍️ Exercise: Guess the output!</strong>\n",
    "</div>\n",
    "\n",
    "Predict what will be printed!\n"
   ]
  },
  {
   "cell_type": "code",
   "execution_count": null,
   "id": "4880d8e4",
   "metadata": {},
   "outputs": [],
   "source": [
    "variable_1 = 5\n",
    "variable_2 = 10\n",
    "print(variable_1 + variable_2)"
   ]
  },
  {
   "cell_type": "code",
   "execution_count": null,
   "id": "52f03577",
   "metadata": {},
   "outputs": [],
   "source": [
    "variable_1 = 5\n",
    "variable_2 = 10\n",
    "print(variable_1==variable_2)"
   ]
  },
  {
   "cell_type": "code",
   "execution_count": null,
   "id": "24b90f0f-857a-4aad-b535-fa872a9bd3a5",
   "metadata": {},
   "outputs": [],
   "source": [
    "variable_1 = \"Hi\"\n",
    "variable_2 = \"hello\"\n",
    "print(variable_1 + variable_2)"
   ]
  },
  {
   "cell_type": "code",
   "execution_count": null,
   "id": "1abba4ab",
   "metadata": {},
   "outputs": [],
   "source": [
    "variable_1 = 2\n",
    "variable_2 = 1.3\n",
    "print(variable_1 + variable_2)"
   ]
  },
  {
   "cell_type": "code",
   "execution_count": null,
   "id": "2254450a-63db-446c-93f9-63b94c111f82",
   "metadata": {},
   "outputs": [],
   "source": [
    "v1 = \"Hi\"\n",
    "v2 = \"Eva\"\n",
    "print(f\"{v1} {v2}\")"
   ]
  },
  {
   "cell_type": "markdown",
   "id": "d00e582b",
   "metadata": {},
   "source": [
    "## 4. Data Structures\n",
    "***"
   ]
  },
  {
   "cell_type": "markdown",
   "id": "5e060920",
   "metadata": {},
   "source": [
    "**Concept.**  \n",
    "In many cases, we will have datasets with many values. Each value has a data type. In Python, we use **data structures** as a **container** to organize these values. Python has 4 different types of built-in data structures: lists, tuples, dictionaries, and sets. \n",
    "\n",
    "**Built-In Python Data Structures' Features**\n",
    "When thinking about how to organize values into a **data structures** in Python, there are a few key questions that we can consider: \n",
    "* Do the values need appear in an order? \n",
    "* Can the values be changed after they have been put in a data structure?\n",
    "* Can there be duplicate values? \n",
    "\n",
    "The following table summarizes the answers to these 4 questions for each Python data structure:\n",
    "| Characteristic | `list` | `tuple` | `dict` | `set` |\n",
    "|---------|---------|---------|---------|---------|\n",
    "| Ordered? | Yes | Yes | Yes | No |\n",
    "| Allows changing items? | Yes | No | Yes | Yes |\n",
    "| Allows duplicate items?  | Yes | Yes | No | No |\n",
    "\n",
    "In the next chapters, we will learn more about each of these data structures and how we can work with them. "
   ]
  },
  {
   "cell_type": "markdown",
   "id": "71072aba",
   "metadata": {},
   "source": [
    "## 5. Data Structures: Lists\n",
    "***"
   ]
  },
  {
   "cell_type": "markdown",
   "id": "4377aec2",
   "metadata": {},
   "source": [
    "**Concept.**  \n",
    "A **list** is a type of data structure in Python. It is a way to store a **sequence** of values in a single variable.\n",
    "\n",
    "### Creating a list\n",
    "In Python, we can create a list by using square brackets [ ] and commas , to separate items: \n",
    "```python\n",
    "mylist = [1, 2, 3]\n",
    "```\n",
    "We can put any data type we'd like in a list, not just `int`! In addition, lists can contain mixed data types. Here's an example:\n",
    "```python\n",
    "mylist = [1, 'code', 1.1, 'breathe', 2, 'repeat', True]\n",
    "```\n",
    "Lists can also have duplicate items: \n",
    "```python\n",
    "mylist = [1, 'code', 'code', 1.1, 'breathe', 2, 'repeat', True, True]\n",
    "```\n",
    "\n",
    "Just as with variables associated with only one value, we can print variables associated with a whole list to see the entire list:"
   ]
  },
  {
   "cell_type": "code",
   "execution_count": null,
   "id": "4e6472ba",
   "metadata": {},
   "outputs": [],
   "source": [
    "mylist = ['a', 'b', 'c']\n",
    "print(mylist)"
   ]
  },
  {
   "cell_type": "markdown",
   "id": "45484dbe",
   "metadata": {},
   "source": [
    "### List of lists\n",
    "One interesting feature about lists is that they not only can contain multiple **values** of different data types, but also generally multiple **items**. An item can be a **value**, such as an `int` or a `str`, but it can also be a `list`. That's right, you can have a list of lists!\n",
    "```python\n",
    "mylist = [['code', 'code', 'code'], ['breathe', 'breathe'], ['repeat']]\n",
    "```"
   ]
  },
  {
   "cell_type": "markdown",
   "id": "5dd1a603",
   "metadata": {},
   "source": [
    "### List length\n",
    "Some lists will be long, some will be short. You can find a list's length using `len()`:\n",
    "```python\n",
    "mylist = [1, 2, 3]\n",
    "print(len(mylist))\n",
    "> 3\n",
    "```\n",
    "Now you give it a try! Get the length of this list: \n",
    "```python\n",
    "mylist = ['Bo', 'Bi', 'A', 'C', 2025]\n",
    "```"
   ]
  },
  {
   "cell_type": "code",
   "execution_count": null,
   "id": "f860a3aa",
   "metadata": {},
   "outputs": [],
   "source": [
    "mylist = ['Bo', 'Bi', 'A', 'C', 2025]\n",
    "print(len(mylist))"
   ]
  },
  {
   "cell_type": "markdown",
   "id": "9fd71ecf",
   "metadata": {},
   "source": [
    "### Indexing\n",
    "The order in which items appear inside lists is an important property called the item's **index**. You can access items in a list by their index. The first item in a list has an index `[0]`, the second item has an index of `[1]`, and so on. Notice how our index counting scheme in Python starts from 0 instead of 1. Starting from 0 is general theme in Python that spans through many different concepts we will cover in this course. \n",
    "\n",
    "### Accessing list items\n",
    "We can access individual list items by using their indices! For example, let's consider the following list `mylist`:\n",
    "```python\n",
    "mylist = ['a', 'b', 'c']\n",
    "```\n",
    "If we want to print only `'a'`, then we can use its index to specifically print it. Since `'a'` is first in the list, it has an index of `[0]`.\n",
    "```python\n",
    "print(mylist[0])\n",
    "> 'a'\n",
    "```"
   ]
  },
  {
   "cell_type": "markdown",
   "id": "fe80d248",
   "metadata": {},
   "source": [
    "<div class=\"alert alert-success\">\n",
    "  <strong>✍️ Exercise: Printing Items in a List</strong>\n",
    "</div>\n",
    "\n",
    "\n",
    "Print the following sentence by accessing and printing items in the list `mylist`\n",
    "* Sentence: \n",
    "    I \n",
    "    love \n",
    "    to \n",
    "    code. \n",
    "* ```mylist = ['I', 'hate', 'love', 'to', 'code'] ```\n"
   ]
  },
  {
   "cell_type": "code",
   "execution_count": null,
   "id": "d9c31404",
   "metadata": {},
   "outputs": [],
   "source": [
    "mylist = ['I', 'hate', 'love', 'to', 'code']\n",
    "print(mylist[0])\n",
    "print(mylist[2])\n",
    "print(mylist[3])\n",
    "print(mylist[4])"
   ]
  },
  {
   "cell_type": "markdown",
   "id": "e26ea4ca",
   "metadata": {},
   "source": [
    "### Negative Indexing\n",
    "Sometimes lists will contain a lot of items, and it will be easier to reference their index in reference to the end of the list, instead of the beginning. For example, let's consider the following list `mylist`:\n",
    "```python\n",
    "mylist = ['a', 'b', 'c', 'd', 'e', 'f', 'g', 'h', 'i', 'j', 'k', 'l', 'm', 'n', 'o', 'p', 'q', 'r', 's', 't', 'u', 'v', 'w', 'x', 'y', 'z']\n",
    "```\n",
    "\n",
    "If we want to print `'x'`, it's much easier to say it's 3rd from the end of the list, rather than counting through the items preceding it. We can use negative indexing to start our index count from the end of the list and work backwards. With negative indexing, `[-1]` is the last item of the list, `[-2]` is the second to last item of the list, and so on. Therefore, to print `'x'` from `mylist`, we would use `[-3]` index:\n"
   ]
  },
  {
   "cell_type": "code",
   "execution_count": null,
   "id": "6aef7fd2",
   "metadata": {},
   "outputs": [],
   "source": [
    "mylist = ['a', 'b', 'c', 'd', 'e', 'f', 'g', 'h', 'i', 'j', 'k', 'l', 'm', 'n', 'o', 'p', 'q', 'r', 's', 't', 'u', 'v', 'w', 'x', 'y', 'z']\n",
    "print(mylist[-3])"
   ]
  },
  {
   "cell_type": "markdown",
   "id": "f9d96234",
   "metadata": {},
   "source": [
    "### Accessing a Range of Indices\n",
    "Sometimes, you'd like to access a range of items from a list. Let's again consider this list `mylist`:\n",
    "```python\n",
    "mylist = ['a', 'b', 'c', 'd', 'e', 'f', 'g', 'h', 'i', 'j', 'k', 'l', 'm', 'n', 'o', 'p', 'q', 'r', 's', 't', 'u', 'v', 'w', 'x', 'y', 'z']\n",
    "```\n",
    "\n",
    "If we want to print `'a' 'b' 'c'`, the first 3 items in the list, then we can specify the range of their indices using a colon `:`. Since indexing starts from `0`, that range will be `[0:3]`. Notice how the last number in that index range, 3, is excluded.\n",
    "\n",
    "Therefore, we would write the following:"
   ]
  },
  {
   "cell_type": "code",
   "execution_count": null,
   "id": "a60976bd",
   "metadata": {},
   "outputs": [],
   "source": [
    "mylist = ['a', 'b', 'c', 'd', 'e', 'f', 'g', 'h', 'i', 'j', 'k', 'l', 'm', 'n', 'o', 'p', 'q', 'r', 's', 't', 'u', 'v', 'w', 'x', 'y', 'z']\n",
    "print(mylist[0:2]) # wrong indexing - the last item is EXCLUDED!!!\n",
    "print(mylist[0:3]) # correct indexing to print abc"
   ]
  },
  {
   "cell_type": "markdown",
   "id": "5253b046",
   "metadata": {},
   "source": [
    "Remember, indexing in Python starts at zero! Let's see another example of accessing a range of indices. \n",
    "\n",
    "Accessing a range from a list of lists:\n",
    "If we are working with a list of lists, then we will have two indices to specify.\n",
    "```python\n",
    "mylist = [['a', 'b', 'c'], ['d', 'e', 'f']]\n",
    "```\n",
    "If we want to print only `'d'`, then we can use the first index to specify which item in the overall list, then a second index to specify the value within that item.\n",
    "\n",
    "```python\n",
    "print(mylist[1][0])\n",
    "> d\n",
    "```"
   ]
  },
  {
   "cell_type": "markdown",
   "id": "6f8aa19b",
   "metadata": {},
   "source": [
    "<div class=\"alert alert-success\">\n",
    "  <strong>✍️ Exercise: Guess the output!</strong>\n",
    "</div>\n",
    "\n",
    "What will be printed, given that the list `mylist` is defined as:\n",
    "* ```python mylist = ['I', 'hate', 'love', 'to', 'code'] ```"
   ]
  },
  {
   "cell_type": "code",
   "execution_count": null,
   "id": "88ad54ce",
   "metadata": {},
   "outputs": [],
   "source": [
    "print(mylist[2:6])"
   ]
  },
  {
   "cell_type": "markdown",
   "id": "2d415007",
   "metadata": {},
   "source": [
    "### Changing an item in a list\n",
    "Lists are **mutable**, meaning that after making a list we can change list items. We can do that by simply using an item's index and redefining it. For example, consider the list `mylist`:\n",
    "```python\n",
    "mylist = [\"dapi\", \"fitc\", \"cy5\"]\n",
    "```\n",
    "Let's say that we want to change the first entry of `mylist` to be `0`, instead of `1`. We would do that as follows: \n",
    "```python\n",
    "mylist[1] = \"mcherry\"\n",
    "```\n",
    "Let's check it!"
   ]
  },
  {
   "cell_type": "code",
   "execution_count": null,
   "id": "9a8adb9a",
   "metadata": {},
   "outputs": [],
   "source": [
    "mylist = [\"dapi\", \"fitc\", \"cy5\"]\n",
    "print(mylist)\n",
    "mylist[1] = \"mcherry\"\n",
    "print(mylist)"
   ]
  },
  {
   "cell_type": "markdown",
   "id": "7f10238b",
   "metadata": {},
   "source": [
    "### Adding items to a list\n",
    "After a list is defined, we can add items to that list.\n",
    "\n",
    "#### Add item to the end of a list\n",
    "You can add an item to the end of a list with `append()`. For example: \n",
    "```python\n",
    "mylist = [] # empty list\n",
    "mylist.append('something')\n",
    "print(mylist)\n",
    "> ['something']\n",
    "```\n",
    "Here's another example of using `append()` to add a list to a list:\n",
    "```python\n",
    "mylist = []\n",
    "a = ['hi', 'hello']\n",
    "b = ['bye', 'goodbye']\n",
    "mylist.append(a)\n",
    "mylist.append(b)\n",
    "print(mylist)\n",
    "> [['hi', 'hello'], ['bye', 'goodbye']]\n",
    "```\n",
    "Notice how `append()` simply adds items to the end of `mylist`. In this case, the items are lists. `append()` does **not** add the values within each list to `mylist`.\n",
    "\n",
    "#### Add an item to a specific list index\n",
    "You can add an item to a specified index with `insert()`. For example, let's say we want to insert `'b'` in `mylist` at index `[1]`: \n",
    "```python\n",
    "mylist = ['a', 'c']\n",
    "mylist.insert(1, 'b')\n",
    "print(mylist)\n",
    "> ['a', 'b', 'c']\n",
    "```"
   ]
  },
  {
   "cell_type": "markdown",
   "id": "c0c5ff3f",
   "metadata": {},
   "source": [
    "<div class=\"alert alert-success\">\n",
    "  <strong>✍️ Exercise: Adding Items to a List</strong>\n",
    "</div>\n",
    "\n",
    "Given `mylist`:\n",
    "```python\n",
    "mylist = ['a', 'b', 'c']\n",
    "```\n",
    "Add `'easy as'` to the beginning of `mylist`. Print the updated `mylist` to confirm it's correct."
   ]
  },
  {
   "cell_type": "code",
   "execution_count": null,
   "id": "8d575f2a",
   "metadata": {},
   "outputs": [],
   "source": [
    "a = 'easy as'\n",
    "mylist = ['a', 'b', 'c']\n",
    "mylist.insert(0, a)\n",
    "print(mylist)"
   ]
  },
  {
   "cell_type": "markdown",
   "id": "ae581ff4",
   "metadata": {},
   "source": [
    "<div class=\"alert alert-success\">\n",
    "  <strong>✍️ Exercise: Adding Items to a List</strong>\n",
    "</div>\n",
    "\n",
    "Given `mylist`:\n",
    "```python\n",
    "mylist = ['a', 'b', 'c']\n",
    "```\n",
    "Add `'alphabet'` to the end of `mylist`. Print the updated `mylist` to confirm it's correct."
   ]
  },
  {
   "cell_type": "code",
   "execution_count": null,
   "id": "267bbb2f",
   "metadata": {},
   "outputs": [],
   "source": [
    "a = 'alphabet'\n",
    "mylist = ['a', 'b', 'c']\n",
    "mylist.append(a)\n",
    "print(mylist)"
   ]
  },
  {
   "cell_type": "markdown",
   "id": "86e7591f",
   "metadata": {},
   "source": [
    "### Removing List Items\n",
    "We can also remove items from a list! There are many ways to do this, but we will focus on 3 main ways. \n",
    "\n",
    "#### Removing List Items with remove()\n",
    "Let's say you have a specific value you would like to remove from a list. You can use `remove()` to remove that value from the list. For example, consider the following list `mylist`:\n",
    "```python\n",
    "mylist = [1, 2, 3]\n",
    "```\n",
    "Let's say we want to remove the `int` 2 from `mylist`. We could do that using `remove()`:\n",
    "```python\n",
    "mylist = [1, 2, 3]\n",
    "mylist.remove(2)\n",
    "print(mylist)\n",
    "> [1, 3]\n",
    "```\n",
    "`remove()` is a nice way to remove list items when you have a specific **value** you want to target to remove.\n",
    "\n",
    "#### Removing List Items with pop()\n",
    "Let's say you know the index of a specific item that you want to remove from a list. You can use `pop()` to remove that value from the list. For example, consider the following list `mylist`:\n",
    "```python\n",
    "mylist = ['a', 'b', 'c']\n",
    "```\n",
    "Let's say we want to remove the second value in `mylist`, which would have an index of [1]. We could do that using `pop()`:\n",
    "``` python\n",
    "mylist = ['a', 'b', 'c']\n",
    "mylist.pop(1) # remove the second value from mylist\n",
    "print(mylist)\n",
    "> ['a', 'c']\n",
    "```\n",
    "**❗️CAUTION❗️** Notice that `pop()` removes a specified **index**, while `remove()` removes a specified **value**. The two approaches are not the same! \n",
    "\n",
    "#### Emptying a List with clear()\n",
    "Sometimes, you want to start fresh with an empty list. You can do that using `clear()`. Let's say that you have already made a list `mylist`:\n",
    "```python\n",
    "mylist = ['x', 'y', 'z']\n",
    "```\n",
    "Now you want to remove all items in `mylist`. Here's how you can use `clear()` to do that: \n",
    "```python\n",
    "mylist = ['x', 'y', 'z']\n",
    "mylist.clear()\n",
    "print(mylist)\n",
    "> []\n",
    "```"
   ]
  },
  {
   "cell_type": "markdown",
   "id": "980d234f",
   "metadata": {},
   "source": [
    "<div class=\"alert alert-success\">\n",
    "  <strong>✍️ Exercise: Removing Items from a List</strong>\n",
    "</div>\n",
    "\n",
    "Given `letters`:\n",
    "```python\n",
    "letters = ['d', 'm', 'x']\n",
    "```\n",
    "Remove `'m'`. Print the updated `letters` to confirm it's correct."
   ]
  },
  {
   "cell_type": "code",
   "execution_count": null,
   "id": "ea5893be",
   "metadata": {},
   "outputs": [],
   "source": [
    "# using pop()\n",
    "letters = ['d', 'm', 'x']\n",
    "letters.pop(1)\n",
    "print(letters)\n",
    "\n",
    "# using remove()\n",
    "letters = ['d', 'm', 'x']\n",
    "letters.remove('m')\n",
    "print(letters)"
   ]
  },
  {
   "cell_type": "markdown",
   "id": "917705a8",
   "metadata": {},
   "source": [
    "## 6. Data Structures: Tuples\n",
    "***"
   ]
  },
  {
   "cell_type": "markdown",
   "id": "9a36f204",
   "metadata": {},
   "source": [
    "**Concept.**  \n",
    "Another data structure in Python is a `tuple`. Just as with a `list`, a `tuple` allows you to associate 1 variable with a sequence of values that are ordered and potentially appear in duplicate. However, a `tuple` is unchangeable, or **immutable**, meaning that we cannot change items in a tuple after they are specified. \n",
    "\n",
    "The chart below summarizes a comparison between a `list` and a `tuple`:\n",
    "\n",
    "| Characteristic | `list` | `tuple` |\n",
    "|---------|---------|---------|\n",
    "| Ordered? | Yes | Yes |\n",
    "| Allows changing items? | Yes | No |\n",
    "| Allows duplicate items?  | Yes | Yes |\n",
    "\n",
    "### Creating a tuple\n",
    "In Python, we can create a tuple by using parentheses () and commas to separate items: \n",
    "```python\n",
    "mytuple = (1, 2, 3)\n",
    "```\n",
    "\n",
    "**🗒️ NOTE** Notice how similar a tuple and a list look in definition. Remember that lists are defined with [] and commas separating items, while tuples are defined with () and commas separating items. \n",
    "\n",
    "|  | Definition\n",
    "|---------|---------|\n",
    "| `list` | [] |\n",
    "| `tuple` | () |\n",
    "\n",
    "Just as with lists, we can put any data type we'd like in a tuple. For example:\n",
    "```python\n",
    "mytuple = ('a', 1, 'b', 2.5)\n",
    "```\n",
    "### Tuple length\n",
    "Just as with lists, we can get a tuple's length using `len()`:\n",
    "```python\n",
    "mytuple = ('a', 'b', 'c')\n",
    "print(len(mytuple))\n",
    "> 3\n",
    "```\n",
    "### Accessing items in a tuple\n",
    "Since tuples are also ordered sequences of items, we can access their items using indices! The sytax to do this is the same as with lists. Let's say we want to access `'b'` in `mytuple` tuple: \n",
    "```python\n",
    "mytuple = ('a', 'b', 'c')\n",
    "print(mytuple[1])\n",
    "> 'b'\n",
    "```\n",
    "### Tuples are immutable\n",
    "Unlike lists, we cannot change items inside a tuple. Let's learn this the hard way. Try running the block of code below. What happens?"
   ]
  },
  {
   "cell_type": "code",
   "execution_count": null,
   "id": "e1f2db65",
   "metadata": {},
   "outputs": [],
   "source": [
    "a = (1, 2, 3)\n",
    "a[1] = 5"
   ]
  },
  {
   "cell_type": "markdown",
   "id": "99a0b8a0",
   "metadata": {},
   "source": [
    "We can write the code to try and change the second item in tuple `a`, but we will get an error because we cannot change items in a tuple!"
   ]
  },
  {
   "cell_type": "markdown",
   "id": "ecbe1b69",
   "metadata": {},
   "source": [
    "<div class=\"alert alert-success\">\n",
    "  <strong>✍️ Exercise: Tuple Practice</strong>\n",
    "</div>\n",
    "\n",
    "Create a tuple containing each letter of your first name as individual items and print it. "
   ]
  },
  {
   "cell_type": "code",
   "execution_count": null,
   "id": "d62d705f",
   "metadata": {},
   "outputs": [],
   "source": [
    "name_tuple = ('e', 'v', 'a')\n",
    "print(name_tuple)"
   ]
  },
  {
   "cell_type": "markdown",
   "id": "f8df949a",
   "metadata": {},
   "source": [
    "Access the first item in the tuple you created and print it. "
   ]
  },
  {
   "cell_type": "code",
   "execution_count": null,
   "id": "9a8b93cf",
   "metadata": {},
   "outputs": [],
   "source": [
    "print(name_tuple[0])"
   ]
  },
  {
   "cell_type": "markdown",
   "id": "941666ff",
   "metadata": {},
   "source": [
    "## 7. Data Structures: Dictionaries\n",
    "***"
   ]
  },
  {
   "cell_type": "markdown",
   "id": "98a41617",
   "metadata": {},
   "source": [
    "**Concept.**  \n",
    "Another data structure in Python is a **dictionary**, or `dict`. A `dict` allows you to to associate, or **map**, a **key** to a single **value** or multiple **values**. Therefore, a `dict` is organized similarly to a phonebook, where a person's name is a key mapped to multiple values, such as their address and phone numbers. \n",
    "\n",
    "Just like a `list`, a `dict` is mutable (changeable). However, a `dict` does **not** allow duplicate keys. \n",
    "\n",
    "The following chart summaries the differences between a `list`, `tuple`, and a `dict`:\n",
    "| Characteristic | `list` | `tuple` | `dict` |\n",
    "|---------|---------|---------|---------|\n",
    "| Ordered? | Yes | Yes | Yes |\n",
    "| Allows changing items? | Yes | No | Yes |\n",
    "| Allows duplicate items?  | Yes | Yes | No |\n",
    "\n",
    "### Creating a dict\n",
    "In Python, we can create a dictionary by using curly brackets {}, colons, and commas to separate items and their associated values: \n",
    "```python\n",
    "mydict = {\n",
    "        1: \"Start\", \n",
    "        2: \"Middle\", \n",
    "        3: \"Finish\"\n",
    "        }\n",
    "```\n",
    "In this example, 1, 2, 3 are keys and \"Start\", \"Middle\", \"Finish\" are values associated with those keys. Both keys and values can have any data type in dictionaries. In dictionaries, we can have duplicate values, but we **cannot** have duplicate keys. \n",
    "\n",
    "### Creating a dict with multiple values associated to keys\n",
    "Dictionaries allow you to associate multiple values with each key, not just 1! However, to do this, we specify the multiple values by using a list:\n",
    "```python\n",
    "mydict = {\n",
    "        1: \"Start of course\"\n",
    "        2: [\"Lectures\", \"Labs\", \"Office Hours\"]\n",
    "        3: [\"Course dinner\", 2025]\n",
    "        }\n",
    "```\n",
    "\n",
    "### Accessing a key's values\n",
    "To access a specific key's values from a `dict`, we can use key indexing:\n",
    "```python\n",
    "mydict = {\n",
    "        1: \"Start of course\"\n",
    "        2: [\"Lectures\", \"Labs\", \"Office Hours\"]\n",
    "        3: [\"Course dinner\", 2025]\n",
    "        }\n",
    "print(mydict[2])\n",
    "> [\"Lectures\", \"Labs\", \"Office Hours\"]\n",
    "```"
   ]
  },
  {
   "cell_type": "markdown",
   "id": "01701446",
   "metadata": {},
   "source": [
    "<div class=\"alert alert-success\">\n",
    "  <strong>✍️ Exercise: Dictionary Practice</strong>\n",
    "</div>\n",
    "\n",
    "Create a dictionary containing the following artists and their songs:\n",
    "* Hey Jude by the Beatles\n",
    "* Don't Stop Believin by Journey\n",
    "* Hit Me with Your Best Shot by Pat Benatar\n",
    "* With a Little Help from My Friends by the Beatles\n",
    "* Yellow Submarine by the Beatles\n",
    "\n",
    "Print the dictionary. "
   ]
  },
  {
   "cell_type": "code",
   "execution_count": null,
   "id": "1d6b8cad",
   "metadata": {},
   "outputs": [],
   "source": [
    "song_dict = {\n",
    "            \"The Beatles\": ['Hey Jude', 'With a Little Help from My Friends', 'Yellow Submarine'],\n",
    "            \"Journey\": \"Don't Stop Believin\",\n",
    "            \"Pat Benatar\": \"Hit Me with Your Best Shot\"\n",
    "            }\n",
    "\n",
    "print(song_dict)"
   ]
  },
  {
   "cell_type": "markdown",
   "id": "f42ab7b4",
   "metadata": {},
   "source": [
    "From your dictionary, access the Journey song and print it."
   ]
  },
  {
   "cell_type": "code",
   "execution_count": null,
   "id": "225d710b",
   "metadata": {},
   "outputs": [],
   "source": [
    "print(song_dict[1])"
   ]
  },
  {
   "cell_type": "markdown",
   "id": "5a4b491a",
   "metadata": {},
   "source": [
    "## 8. Data Structures: Sets\n",
    "***"
   ]
  },
  {
   "cell_type": "markdown",
   "id": "b1201ee2",
   "metadata": {},
   "source": [
    "**Concept.**  \n",
    "Another data structure in Python is a `set`. Just as with a `list` and a `tuple`, a `set` allows you to associate 1 variable with one or more values. However, a `set` does not order its items and they cannot appear in duplicate. \n",
    "\n",
    "The following chart summaries the differences between a `list`, `tuple`, `dict`, and a `set`:\n",
    "| Characteristic | `list` | `tuple` | `dict` | `set` |\n",
    "|---------|---------|---------|---------|---------|\n",
    "| Ordered? | Yes | Yes | Yes | No |\n",
    "| Allows changing items? | Yes | No | Yes | Yes |\n",
    "| Allows duplicate items?  | Yes | Yes | No | No |\n",
    "\n",
    "### Creating a set\n",
    "In Python, we can create a tuple by using curly brackets {} and commas to separate items: \n",
    "```python\n",
    "myset = {1, 2, 3}\n",
    "```\n",
    "\n",
    "**🗒️ NOTE** Notice how both a set and a dictionary use curly brackets {} to start their definition. Remember that sets are defined with {} and commas separating items, while dictionaries are defined with {} and commas separating keys that are mapped to values with colons. \n",
    "\n",
    "|  | Definition |\n",
    "|---------|---------|\n",
    "| `set` | {\"item1\", \"item2\"} |\n",
    "| `dict` | {\"key1\": \"value\", \"key2\": \"value\"} |\n",
    "\n",
    "Just as with the other 3 data structures, we can put any data type we'd like in a set. For example:\n",
    "```python\n",
    "myset = {'a', 1, 'b', 2.5}\n",
    "```\n",
    "\n",
    "### Set length\n",
    "We can get a set's length using `len()`:\n",
    "```python\n",
    "myset = {'a', 'b', 'c'}\n",
    "print(len(myset))\n",
    "> 3\n",
    "```\n",
    "\n",
    "### Sets do not allow duplicates\n",
    "Sets do not allow duplicate items. However, instead of returning an error if you try to define a set with a duplicate item, the duplicate item will simply be ignored. Let's check it out! Consider the following set `myset`:\n",
    "```python\n",
    "myset = {\"chocolate\", \"vanilla\", \"strawberry\", \"chocolate\"}\n",
    "```\n",
    "In this set, `\"chocolate\"` appears in duplicate. What happens when we print `myset`?\n"
   ]
  },
  {
   "cell_type": "code",
   "execution_count": null,
   "id": "2ef29909",
   "metadata": {},
   "outputs": [
    {
     "ename": "",
     "evalue": "",
     "output_type": "error",
     "traceback": [
      "\u001b[1;31mRunning cells with '/usr/bin/python3' requires the ipykernel package.\n",
      "\u001b[1;31mRun the following command to install 'ipykernel' into the Python environment. \n",
      "\u001b[1;31mCommand: '/usr/bin/python3 -m pip install ipykernel -U --user --force-reinstall'"
     ]
    }
   ],
   "source": [
    "myset = {\"chocolate\", \"vanilla\", \"strawberry\", \"chocolate\"}\n",
    "print(myset)"
   ]
  },
  {
   "cell_type": "markdown",
   "id": "e84a6478",
   "metadata": {},
   "source": [
    "`\"chocolate\"` does not appear in duplicate when we print `myset`. \n",
    "\n",
    "### Accessing items in a set\n",
    "Since sets contain unordered items, we cannot use indices or keys to access them."
   ]
  },
  {
   "cell_type": "markdown",
   "id": "50fd9ab1",
   "metadata": {},
   "source": [
    "<div class=\"alert alert-success\">\n",
    "  <strong>✍️ Exercise: Set Practice</strong>\n",
    "</div>\n",
    "\n",
    "Create a set containing your favorite ice cream flavors, then print the set. "
   ]
  },
  {
   "cell_type": "code",
   "execution_count": null,
   "id": "6591bae9",
   "metadata": {},
   "outputs": [],
   "source": [
    "icecream_flavors = {\"chocolate\", \"pistachio\", \"hazelnut\"}\n",
    "print(icecream_flavors)"
   ]
  },
  {
   "cell_type": "markdown",
   "id": "1e54fa6f",
   "metadata": {},
   "source": [
    "Now print the length of your set."
   ]
  },
  {
   "cell_type": "code",
   "execution_count": null,
   "id": "8324d8e9",
   "metadata": {},
   "outputs": [],
   "source": [
    "print(len(icecream_flavors))"
   ]
  },
  {
   "cell_type": "markdown",
   "id": "5392b56d",
   "metadata": {},
   "source": [
    "## 9. For Loops\n",
    "***"
   ]
  },
  {
   "cell_type": "markdown",
   "id": "2d7aa434",
   "metadata": {},
   "source": [
    "**Concept.**  \n",
    "In Python, `for` loops can be used to iterate through items in containers, such as a `list`, `tuple`, `dict`, or `set`. They are helpful when you have a block of code that you want to repeat a specific amount of times on each item in one of these data structures.\n",
    "\n",
    "Let's consider a countdown timer. We want to print numbers counting down from 5 to 0. In Python, we can do this by declaring a `count_start` variable as `5` and then successively subtracting `1` and printing the result until we get to 1. We could write out the following code:\n",
    "```python\n",
    "count_sequence = [5, 4, 3, 2, 1] # sequence of counting\n",
    "print(count_sequence[0]) # print 5\n",
    "print(count_sequence[1]) # print 4\n",
    "print(count_sequence[2]) # print 3\n",
    "print(count_sequence[3]) # print 2\n",
    "print(count_sequence[4]) # print 1\n",
    "```\n",
    "\n",
    "But wow, that's a lot to type out! Not only is it tedious to type, more typing means more chances to make a mistake. Instead, let's simplify this code by using a `for` loop!\n",
    "\n",
    "### Setting up a for loop with a list\n",
    "In Python, a `for` loop can be used to iterate through a sequence. As we learned earlier, a `list` is a sequence of items in a specified order. Let's say we want to apply an operation to each item in a `list`. We can use the following `for` loop structure: \n",
    "```python\n",
    "mylist = [1, 2, 3]\n",
    "for item in mylist:\n",
    "    #do something to each item\n",
    "```\n",
    "In this structure, Python is smart enough to know that the variable `item` refers to each item in `mylist` for each increment of the for loop.\n",
    "\n",
    "If we use this structure now to simplify our countdown code above, we would get: \n",
    "```python\n",
    "count_sequence = [5, 4, 3, 2, 1]\n",
    "for item in count_sequence: \n",
    "    print(item)\n",
    "> 5\n",
    "> 4\n",
    "> 3\n",
    "> 2\n",
    "> 1\n",
    "```\n",
    "Wow! We went from 6 lines of code to 3 lines of code! Yay for loops!"
   ]
  },
  {
   "cell_type": "markdown",
   "id": "dcebe064",
   "metadata": {},
   "source": [
    "<div class=\"alert alert-success\">\n",
    "  <strong>✍️ Exercise: For Loop Practice</strong>\n",
    "</div>\n",
    "\n",
    "You're playing hide and seek and want to use Python to count to 10. Write Python code that will print out your count up from 1 to 10 by using the following list for the count sequence: \n",
    "```python\n",
    "count = [1, 2, 3, 4, 5, 6, 7, 8, 9, 10]\n",
    "```"
   ]
  },
  {
   "cell_type": "code",
   "execution_count": null,
   "id": "9f56b0ff",
   "metadata": {
    "tags": [
     "teacher"
    ]
   },
   "outputs": [],
   "source": [
    "count = [1, 2, 3, 4, 5, 6, 7, 8, 9, 10] # counting sequence as a list\n",
    "for item in count:\n",
    "        print(item)"
   ]
  },
  {
   "cell_type": "markdown",
   "id": "221c1b31",
   "metadata": {},
   "source": [
    "### Setting up a for loop with a tuple\n",
    "`for` loops also can loop over tuples. Here's an example of the same hide and seek code, but instead of organizing the count in a `list`, we'll organize it in a `tuple`. \n",
    "```python\n",
    "count = (1, 2, 3, 4, 5, 6, 7, 8, 9, 10) # counting sequence as a tuple\n",
    "for item in count:\n",
    "        print(item)\n",
    "> 1\n",
    "> 2\n",
    "> 3\n",
    "> 4\n",
    "> 5\n",
    "> 6\n",
    "> 7\n",
    "> 8\n",
    "> 9\n",
    "> 10\n",
    "```\n",
    "\n",
    "### Setting up a for loop with a dict\n",
    "`for` loops can loop over dictionaries too. Here's an example of using a `for` loop to loop over `mydict` dictionary's keys:\n",
    "```python\n",
    "mydict = {\n",
    "        1: \"Start\", \n",
    "        2: \"Middle\", \n",
    "        3: \"Finish\"\n",
    "        }\n",
    "for key in mydict: \n",
    "        print(key)\n",
    "> 1\n",
    "> 2\n",
    "> 3\n",
    "``` \n",
    "\n",
    "### Setting up a for loop with a set\n",
    "\n",
    "sets can also be iterated, but you should not rely on the order of items:\n",
    "\n",
    "Since sets do not have ordered items, there are no indices that `for` loops are incrementing over. Therefore, their application to sets is a little different. `for` loops can be used to do tasks on specific **values** in a set. Consider the following set `myset`:\n",
    "```python\n",
    "myset = {\"apple\", \"banana\", \"coconut\"}\n",
    "```\n",
    "We can use a `for` loop to print `\"I like fruit\"` only if `\"apple\"` value is present in `myset`:\n",
    "```python\n",
    "for \"apple\" in myset: \n",
    "        print(\"I like fruit\")\n",
    "> \"I like fruit\"\n",
    "```\n",
    "Since `\"apple\"` is present in `myset`, `\"I like fruit\"` is printed. "
   ]
  },
  {
   "cell_type": "markdown",
   "id": "b7cfbcf3",
   "metadata": {},
   "source": [
    "## 10. If Statements\n",
    "***"
   ]
  },
  {
   "cell_type": "markdown",
   "id": "fcee62ce",
   "metadata": {},
   "source": [
    "**Concept.**  \n",
    "Let's consider a situation where you have a set of operations on data you have automated with a `for` loop, but for certain parts of the data you want to skip or do extra operations. In Python, `if` statements are used to conditionally conduct operations. `if` statements allow your code to **make decisions** and **branch** into different paths depending on conditions.\n",
    "\n",
    "**`if` statement keywords**\n",
    "\n",
    "- `if`: only runs the code block if the condition is `True`\n",
    "- `elif`: (else if) — test an additional condition if the previous one was `False`\n",
    "- `else`: fallback — runs only if all above conditions are `False`\n",
    "\n",
    "\n",
    "### How to structure an if statement in Python\n",
    "```python\n",
    "if #something is true:\n",
    "    # do something\n",
    "```\n",
    "\n",
    "For example, let's say in our hide and seek count up, we want to warn everyone to hurry up once we count to 7. We would need to add another task to our foor loop beyond just printing the current count of 7 to add printing \"Hurry up!\". We could do that with an if statement: \n",
    "```python\n",
    "count_sequence = [1, 2, 3, 4, 5, 6, 7, 8, 9, 10]\n",
    "for item in count_sequence:\n",
    "        print(item)\n",
    "        if i==7: # if we're on the count of 7,\n",
    "            print(\"Hurry up!\") # then print \"Hurry up!\"\n",
    "\n",
    " ```\n",
    "In this code, \"Hurry up!\" will only print when we are on the count of 7 in `count_sequence`. For other increments, Python will pass over the if statement because item==7 is not true. \n",
    "\n",
    " ### Multiple if statements in Python \n",
    "Let's say you have a few different conditions to check. You can structure a series of if statements with the following structure:\n",
    "\n",
    "```python \n",
    " if # something is true: \n",
    "    # do this\n",
    " elif # if above is false but something else is true:\n",
    "    # do this\n",
    " elif # if all above is false but something else is true:\n",
    "    # do this\n",
    " else # if none of the above is true:\n",
    "    # do this \n",
    "\n",
    "```\n",
    "Just as with one `if` statement, Python will skip over any `if` or  `elif` statements where the condition is not true. Adding `else` will tell Python to do that task when all of the above is not true. \n",
    "\n",
    "Here's an example: \n",
    "```python\n",
    "mylist = [1, 2, 3]\n",
    "for item in mylist: \n",
    "    if item==2:\n",
    "        print(\"Python rocks!\")\n",
    "    elif item > 1:\n",
    "        ...\n",
    "    else:\n",
    "        print(\"*\")\n",
    "> *\n",
    "> \"Python rocks!\"\n",
    "> \":D\"\n",
    "```\n",
    "### Logical operators\n",
    "When constructing `if` statements, sometimes it is helpful to use **logical operators** as a condition to be met. Logical operators are used to combine multiple comparison operators. \n",
    "| Operator | Description | Example |\n",
    "|---------|---------|----------------|\n",
    "| `and` | Returns ```True``` if both statements are true | variable_1>1 and variable_2<5 |\n",
    "| `or` | Returns ```True``` if one of the statements is true | variable_1>1 or variable_2<5> |\n",
    "\n",
    "Logical operators will generally return a ```bool```, which is either ```True``` or ```False```. For example if ```variable_1 = 1``` and ```variable_2 = 2```, then ```variable_1<3 and variable_2<5``` would return ```True```. \n",
    "\n",
    "Let's see an example! Let's say we bought two different lottery tickets and want to use Python to quickly compare our number to the two different winning numbers for a chance to receive any grand prize money. Here is code that uses an `if` statement with an `or` operator to do that: \n",
    "\n",
    "```python\n",
    "winning_number_1 = 314159\n",
    "winning_number_2 = 628318\n",
    "lottery_tickets = [628318, 271828]\n",
    "for number in lottery_tickets: \n",
    "    if number==winning_number_1 or number==winning_number_2:\n",
    "        print(\"Congratulations! You won!\")\n",
    "```\n",
    "Since no items in `lottery_tickets` match `winning_number_1`, the first portion of the `if` statement is always going to be `False`. However, the first item in `lottery_tickets` is the same as `winning_number_2`, so in the first loop `number==winning_number_2` will be `True`. Therefore, in the first loop we will have `False` or `True`, which will yield `True`. We will consequently see the following printed in the first loop: \n",
    "```python\n",
    "> \"Congratulations! You won!\"\n",
    "```\n",
    "The second loop has `False` or `False`, which will yield `False`. Therefore, nothing will be printed in the second loop. "
   ]
  },
  {
   "cell_type": "markdown",
   "id": "9b2d4b8f",
   "metadata": {},
   "source": [
    "<div class=\"alert alert-success\">\n",
    "  <strong>✍️ Exercise: Guess the output!</strong>\n",
    "</div>\n",
    "\n",
    "Predict what will be printed before running the code!"
   ]
  },
  {
   "cell_type": "code",
   "execution_count": null,
   "id": "b7ac72f1",
   "metadata": {},
   "outputs": [],
   "source": [
    "mylist = [1, 2, 3]\n",
    "for item in mylist: \n",
    "    if item>0 or item<5:\n",
    "        print(\"if statements are cool\")\n",
    "    else:\n",
    "        print(\"if statements aren't very cool\")"
   ]
  },
  {
   "cell_type": "markdown",
   "id": "0f803c1d",
   "metadata": {},
   "source": [
    "### Breaking a loop\n",
    "Let's say we have a `for` loop set up, but if a certain condition is true we want to stop the loop. To do that we can use `break`. Consider that hide and seek counting code again:\n",
    "```python\n",
    "count_sequence = [1, 2, 3, 4, 5, 6, 7, 8, 9, 10]\n",
    "for item in count_sequence:\n",
    "        print(item)\n",
    "        if item==7: # if we're on the count of 7,\n",
    "            print(\"Hurry up!\") # then print \"Hurry up!\"\n",
    "\n",
    " ```\n",
    " Let's say everyone finished hiding by the count of 9, so there's no need to finish the count. We could edit the code to include an `if` statement with `break`:\n",
    " ```python\n",
    "count_sequence = [1, 2, 3, 4, 5, 6, 7, 8, 9, 10]\n",
    "for item in count_sequence:\n",
    "        print(item)\n",
    "        if item==7: # if we're on the count of 7,\n",
    "            print(\"Hurry up!\") # then print \"Hurry up!\"\n",
    "        if item>9:\n",
    "            break # end the entire for loop\n",
    " ```\n",
    "\n",
    "### Continuing a loop\n",
    "What if we don't want to completely exit a `for` loop based on a certain condition, but skip to the next iteration? To do that we can use `continue`. Consider the hide and seek counting code again:\n",
    "```python\n",
    "count_sequence = [1, 2, 3, 4, 5, 6, 7, 8, 9, 10]\n",
    "for item in count_sequence:\n",
    "        print(item)\n",
    "        if item==7: # if we're on the count of 7,\n",
    "            continue # skips to the next iteration of item = 8\n",
    "            print(\"Hurry up!\") # then print \"Hurry up!\"\n",
    " ```\n",
    " If we use `continue` above our \"Hurry up!\" print line, then the count will continue to the next iteration without printing \"Hurry up!\"\n",
    "\n",
    " Check it out for yourself! Run the code below. Does \"Hurry up!\" print?"
   ]
  },
  {
   "cell_type": "code",
   "execution_count": null,
   "id": "4c4ec3b1",
   "metadata": {},
   "outputs": [],
   "source": [
    "count_sequence = [1, 2, 3, 4, 5, 6, 7, 8, 9, 10]\n",
    "for item in count_sequence:\n",
    "        print(item)\n",
    "        if item==7: # if we're on the count of 7,\n",
    "            continue # skips to the next iteration of item = 8\n",
    "            print(\"Hurry up!\") # then print \"Hurry up!\""
   ]
  },
  {
   "cell_type": "markdown",
   "id": "4edcb9fa",
   "metadata": {},
   "source": [
    "## 11. Functions \n",
    "***"
   ]
  },
  {
   "cell_type": "markdown",
   "id": "4326bb68",
   "metadata": {},
   "source": [
    "**Concept.**  \n",
    "In many applications, one will write Python code that does many different tasks. The code can get quite long, which makes it harder to read through and catch mistakes, or repurpose for a different application later. To organize code by tasks in Python, we use *functions*. A *function* is a block of code that does a specific task. It is organized to have a *name*, *inputs (parameters)*, and *outputs (return values)*. \n",
    "\n",
    "### How to write a function\n",
    "We structure functions in Python as follows: \n",
    "```python\n",
    "def function_name(parameters:type) -> type: \n",
    "    \"\"\"Description of what the function does here\"\"\"\n",
    "    # do task here\n",
    "    return value\n",
    "```\n",
    "In this function, `function_name` is the name of the function, `parameters` are inputs that the function will use to return `value` output. To help make our code understandable to others and future you, we add a `type` label to inputs and outputs to specify the data type, and a `\"\"\"docstring\"\"\"` to describe what the function does.\n",
    "\n",
    "***Commenting Best Practice:*** When adding a docstring to describe what a function does, make sure to specify what the inputs and outputs of the function are\n",
    "\n",
    "We can use the function by **calling** it. That can be done as follows: \n",
    "```python\n",
    "function_name(arguments) # calling the function function_name and inputting parameters \"arguments\"\n",
    "```\n",
    "Note that `parameters` in the `function_name` definition is a placeholder for what you will actually want to input into the function. In the example above where we call the function `function_name`, `arguments` is the actual input passed into the function to use to generate a `value` to return. \n",
    "\n",
    "### Functions with multiple inputs\n",
    "You can define a function with multiple inputs in Python by separating them with commas. Below is an example: \n",
    "```python\n",
    "def my_function(x:int, y:float) -> int: \n",
    "    \"\"\"Description of what the function does here\"\"\"\n",
    "    # do task here\n",
    "    return value\n",
    "```"
   ]
  },
  {
   "cell_type": "markdown",
   "id": "5e617117",
   "metadata": {},
   "source": [
    "<div class=\"alert alert-success\">\n",
    "  <strong>✍️ Exercise: Writing a Function</strong>\n",
    "</div>\n",
    "\n",
    "Let's go back to our previous example of hide and seek counting. Our code was:\n",
    "\n",
    "```python\n",
    "count = [1, 2, 3, 4, 5, 6, 7, 8, 9, 10] # counting sequence as a list\n",
    "for item in count:\n",
    "        print(item)\n",
    "```\n",
    "\n",
    "Now, let's edit this code to write a function for the task of counting and run it to see if our counter still works!"
   ]
  },
  {
   "cell_type": "code",
   "execution_count": null,
   "id": "1f4aed89",
   "metadata": {},
   "outputs": [],
   "source": [
    "def counter(count_sequence:list) -> int:\n",
    "    \"\"\" Function that inputs a count_sequence list and prints a countdown\"\"\"\n",
    "    for item in count_sequence:\n",
    "            print(item)\n",
    "\n",
    "count = [1, 2, 3, 4, 5, 6, 7, 8, 9, 10] # counting sequence as a list\n",
    "counter(count) # call the function counter"
   ]
  }
 ],
 "metadata": {
  "kernelspec": {
   "display_name": "Python 3 (ipykernel)",
   "language": "python",
   "name": "python3"
  },
  "language_info": {
   "codemirror_mode": {
    "name": "ipython",
    "version": 3
   },
   "file_extension": ".py",
   "mimetype": "text/x-python",
   "name": "python",
   "nbconvert_exporter": "python",
   "pygments_lexer": "ipython3",
   "version": "3.11.4"
  }
 },
 "nbformat": 4,
 "nbformat_minor": 5
}
