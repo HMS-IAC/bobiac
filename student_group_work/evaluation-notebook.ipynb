{
 "cells": [
  {
   "cell_type": "markdown",
   "id": "16a60488",
   "metadata": {},
   "source": [
    "# EvaluationNotebook\n",
    "\n",
    "<div class=\"custom-button-row\">\n",
    "    <a \n",
    "        class=\"custom-button custom-download-button\" href=\"../notebooks/student_group_work/evaluation-notebook.ipynb\" download>\n",
    "        <i class=\"fas fa-download\"></i> Download this Notebook\n",
    "    </a>\n",
    "    <a\n",
    "    class=\"custom-button custom-download-button\" href=\"https://colab.research.google.com/github/HMS-IAC/bobiac/blob/gh-pages/colab_notebooks/student_group_work/evaluation-notebook.ipynb\" target=\"_blank\">\n",
    "        <img class=\"button-icon\" src=\"../_static/logo/icon-google-colab.svg\" alt=\"Open in Colab\">\n",
    "        Open in Colab\n",
    "    </a>\n",
    "</div>"
   ]
  },
  {
   "cell_type": "code",
   "execution_count": null,
   "id": "9f33553a",
   "metadata": {},
   "outputs": [],
   "source": [
    "# /// script\n",
    "# requires-python = \">=3.10\"\n",
    "# dependencies = [\n",
    "#     \"matplotlib\",\n",
    "#     \"numpy\",\n",
    "#     \"scikit-image\", \n",
    "#     \"scipy\",\n",
    "#     \"tifffile\",\n",
    "#     \"imagecodecs\",\n",
    "#     \"seaborn\",\n",
    "#     \"evaluatesegmask @ git+https://github.com/antoineruzette/evaluatesegmask\"\n",
    "# ]\n",
    "# ///"
   ]
  },
  {
   "cell_type": "markdown",
   "id": "c9dce539",
   "metadata": {},
   "source": [
    "### Overview\n",
    "\n",
    "This notebook is used to evaluate the performance of the segmentation pipelines you have developed in group.\n",
    "The accepted format is a PNG image containing instance segmentation masks of the same size as the ground truth.\n",
    "\n",
    "**The closest to the ground truth wins!**"
   ]
  },
  {
   "cell_type": "markdown",
   "id": "91751101",
   "metadata": {},
   "source": [
    "## Submit your results to the leaderboard!"
   ]
  },
  {
   "cell_type": "markdown",
   "id": "82bb4d3f",
   "metadata": {},
   "source": [
    "Run the folloowing cell to evaluate your segmentation mask:\n",
    "\n",
    "<p class=\"alert alert-info\">\n",
    "    <strong>Note:</strong> Make sure to replace the file path with your segmentation mask. Accepted format is a PNG or TIFFimage of the same size as the ground truth.\n",
    "</p>\n"
   ]
  },
  {
   "cell_type": "code",
   "execution_count": null,
   "id": "22cfcded",
   "metadata": {},
   "outputs": [
    {
     "ename": "SyntaxError",
     "evalue": "invalid syntax (3314850265.py, line 2)",
     "output_type": "error",
     "traceback": [
      "  \u001b[36mCell\u001b[39m\u001b[36m \u001b[39m\u001b[32mIn[68]\u001b[39m\u001b[32m, line 2\u001b[39m\n\u001b[31m    \u001b[39m\u001b[31mimport evaluate-seg-mask\u001b[39m\n                   ^\n\u001b[31mSyntaxError\u001b[39m\u001b[31m:\u001b[39m invalid syntax\n"
     ]
    }
   ],
   "source": [
    "# replace the file path with your segmentation mask\n",
    "import evaluatesegmask\n",
    "evaluatesegmask.evaluate(\"../_static/images/student_group/001_masks.png\")"
   ]
  },
  {
   "cell_type": "markdown",
   "id": "a57298a7",
   "metadata": {},
   "source": [
    "### Run evaluation without submitting to leaderboard"
   ]
  },
  {
   "cell_type": "code",
   "execution_count": 65,
   "id": "3f7c6701",
   "metadata": {},
   "outputs": [
    {
     "name": "stdout",
     "output_type": "stream",
     "text": [
      "             Metric  Value\n",
      "     Pixel Accuracy    1.0\n",
      "     Pixel F1 Score    1.0\n",
      "  Instance F1 Score    1.0\n",
      "           Mean IoU    1.0\n",
      "Avg. Abs Area Error    0.0\n",
      "Avg. Rel Area Error    0.0\n",
      "       TP Instances   79.0\n",
      "       FP Instances    0.0\n",
      "       FN Instances    0.0\n"
     ]
    }
   ],
   "source": [
    "# replace the file path with your segmentation mask\n",
    "%run evaluate_instance_seg_no_post.py \"../_static/images/student_group/001_masks.png\""
   ]
  },
  {
   "cell_type": "code",
   "execution_count": null,
   "id": "0f3e75e5",
   "metadata": {},
   "outputs": [],
   "source": [
    "# print the mask\n",
    "import skimage.io\n",
    "import matplotlib.pyplot as plt\n",
    "\n",
    "plt.title(\"Ground truth: BoBIAC 2025 Segmentation Challenge\")\n",
    "plt.imshow(skimage.io.imread(\"../_static/images/student_group/001_masks.png\"), cmap=\"nipy_spectral\")\n",
    "plt.show()"
   ]
  }
 ],
 "metadata": {
  "kernelspec": {
   "display_name": "Python 3 (ipykernel)",
   "language": "python",
   "name": "python3"
  },
  "language_info": {
   "codemirror_mode": {
    "name": "ipython",
    "version": 3
   },
   "file_extension": ".py",
   "mimetype": "text/x-python",
   "name": "python",
   "nbconvert_exporter": "python",
   "pygments_lexer": "ipython3",
   "version": "3.13.3"
  }
 },
 "nbformat": 4,
 "nbformat_minor": 5
}
