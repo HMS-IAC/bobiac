{
 "cells": [
  {
   "cell_type": "markdown",
   "id": "516e4dd6",
   "metadata": {
    "vscode": {
     "languageId": "plaintext"
    }
   },
   "source": [
    "# Python Basics\n",
    "<a\n",
    "    class=\"download-ipynb-button\" href=\"../../_static/notebooks/python_basics_notebook.ipynb\" download> <i class=\"fas fa-download\"></i> Download this notebook\n",
    "</a>"
   ]
  },
  {
   "cell_type": "code",
   "execution_count": null,
   "id": "dc90f5a8",
   "metadata": {},
   "outputs": [],
   "source": [
    "# /// script\n",
    "# requires-python = \">=3.12\"\n",
    "# dependencies = [\n",
    "#     \"matplotlib\",\n",
    "#     \"ndv[jupyter,vispy]\",\n",
    "#     \"numpy\",\n",
    "#     \"scikit-image\",\n",
    "#     \"tifffile\",\n",
    "# ]\n",
    "# ///"
   ]
  },
  {
   "cell_type": "code",
   "execution_count": null,
   "id": "b1bd2a5f",
   "metadata": {},
   "outputs": [],
   "source": [
    "import numpy as np\n",
    "import ndv"
   ]
  },
  {
   "cell_type": "code",
   "execution_count": null,
   "id": "bd070adf",
   "metadata": {},
   "outputs": [],
   "source": [
    "img = np.random.randint(0, 255, (10, 100, 100), dtype=np.uint8)"
   ]
  },
  {
   "cell_type": "code",
   "execution_count": null,
   "id": "0f713b7f",
   "metadata": {
    "tags": []
   },
   "outputs": [],
   "source": [
    "ndv.imshow(img)"
   ]
  },
  {
   "cell_type": "code",
   "execution_count": null,
   "id": "d4f46bc0",
   "metadata": {},
   "outputs": [],
   "source": []
  }
 ],
 "metadata": {
  "kernelspec": {
   "display_name": ".venv",
   "language": "python",
   "name": "python3"
  },
  "language_info": {
   "codemirror_mode": {
    "name": "ipython",
    "version": 3
   },
   "file_extension": ".py",
   "mimetype": "text/x-python",
   "name": "python",
   "nbconvert_exporter": "python",
   "pygments_lexer": "ipython3",
   "version": "3.13.0"
  }
 },
 "nbformat": 4,
 "nbformat_minor": 5
}
